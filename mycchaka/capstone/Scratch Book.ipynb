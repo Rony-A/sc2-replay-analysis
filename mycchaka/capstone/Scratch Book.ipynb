{
 "cells": [
  {
   "cell_type": "code",
   "execution_count": 1,
   "metadata": {
    "collapsed": true
   },
   "outputs": [],
   "source": [
    "%run ./Scripts/mklib.py"
   ]
  },
  {
   "cell_type": "code",
   "execution_count": 6,
   "metadata": {},
   "outputs": [],
   "source": [
    "df = pd.read_csv('./Resources/Xy_1.csv').drop('Unnamed: 0', axis = 1)"
   ]
  },
  {
   "cell_type": "code",
   "execution_count": 12,
   "metadata": {},
   "outputs": [
    {
     "data": {
      "text/plain": [
       "oZ_Zergling               124.0\n",
       "sZ_Zergling               124.0\n",
       "oZ_CreepTumorBurrowed     120.0\n",
       "sZ_CreepTumorBurrowed     120.0\n",
       "oZ_Drone                   93.0\n",
       "sZ_Drone                   93.0\n",
       "sT_SCV                     90.0\n",
       "oT_SCV                     90.0\n",
       "oT_Marine                  89.0\n",
       "sT_Marine                  89.0\n",
       "oP_Probe                   87.0\n",
       "sP_Probe                   87.0\n",
       "sZ_Roach                   62.0\n",
       "oZ_Roach                   62.0\n",
       "sZ_Mutalisk                54.0\n",
       "oZ_Mutalisk                54.0\n",
       "oP_PhotonCannon            50.0\n",
       "sP_PhotonCannon            50.0\n",
       "oZ_Hydralisk               45.0\n",
       "sZ_Hydralisk               45.0\n",
       "sZ_Broodling               44.0\n",
       "oZ_Broodling               44.0\n",
       "sZ_Baneling                43.0\n",
       "oZ_Baneling                43.0\n",
       "oP_Stalker                 40.0\n",
       "sP_Stalker                 40.0\n",
       "oP_Zealot                  38.0\n",
       "sP_Zealot                  38.0\n",
       "oP_Pylon                   34.0\n",
       "sZ_SporeCrawler            34.0\n",
       "                          ...  \n",
       "sZ_Spire                    2.0\n",
       "oP_FleetBeacon              1.0\n",
       "oP_RoboticsBay              1.0\n",
       "sZ_UltraliskCavern          1.0\n",
       "oP_MothershipCore           1.0\n",
       "sP_MothershipCore           1.0\n",
       "oP_TwilightCouncil          1.0\n",
       "sZ_Lair                     1.0\n",
       "sP_FleetBeacon              1.0\n",
       "sP_RoboticsBay              1.0\n",
       "oZ_UltraliskCavern          1.0\n",
       "sP_TwilightCouncil          1.0\n",
       "sP_WarpPrismPhasing         1.0\n",
       "oZ_Lair                     1.0\n",
       "oZ_HydraliskDen             1.0\n",
       "oZ_Hive                     1.0\n",
       "oZ_GreaterSpire             1.0\n",
       "sT_CommandCenterFlying      1.0\n",
       "sT_FactoryFlying            1.0\n",
       "sT_FusionCore               1.0\n",
       "sT_GhostAcademy             1.0\n",
       "sZ_GreaterSpire             1.0\n",
       "sZ_Hive                     1.0\n",
       "oT_GhostAcademy             1.0\n",
       "sZ_HydraliskDen             1.0\n",
       "oT_FusionCore               1.0\n",
       "oT_FactoryFlying            1.0\n",
       "oT_CommandCenterFlying      1.0\n",
       "oP_WarpPrismPhasing         1.0\n",
       "won                         1.0\n",
       "Length: 233, dtype: float64"
      ]
     },
     "execution_count": 12,
     "metadata": {},
     "output_type": "execute_result"
    }
   ],
   "source": [
    "combine\n",
    "\n",
    "df.max().sort_values(ascending = False)"
   ]
  },
  {
   "cell_type": "code",
   "execution_count": null,
   "metadata": {
    "collapsed": true
   },
   "outputs": [],
   "source": []
  }
 ],
 "metadata": {},
 "nbformat": 4,
 "nbformat_minor": 2
}
