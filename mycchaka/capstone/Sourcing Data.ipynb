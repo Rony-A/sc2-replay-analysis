{
 "cells": [
  {
   "cell_type": "markdown",
   "metadata": {
    "collapsed": true
   },
   "source": [
    "# Sourcing and  converting SC2 replays \n",
    "\n",
    "StarCraftII replay files are a dime a dozen. \n",
    "\n",
    "In this notebook we dedicate ourselves to sourcing some of these files, and converting them to a tractable format.\n",
    "\n",
    "Our priorities are:\n",
    "\n",
    "    - the 420+ pro replays of the most recent SC2 world championship.\n",
    "    \n",
    "    - the 7200 pro replays available at http://lotv.spawningtool.com/\n",
    "    - the 16,000+ gand-master and master replays readily www.gamereplays.org\n",
    "    \n",
    "    - the 25,000+ mixed-skill replays at http://lotv.spawningtool.com/\n",
    "    - the 65,000+ mixed-skill replays at www.gamereplays.org\n",
    "\n",
    "It is also worth noting that Blizzard (in partnership with Google Deep Mind) recently released 35,000 anonymized replay files for the purposes of A.I. research, and that they intend for this dataset to grow to 500,000 by the end of the year. However, their proces of annonymizing these files have made them incompatible with our parser. If time allows we will seek to remedy this, but, then again, maybe 100k+ replays are enough."
   ]
  },
  {
   "cell_type": "markdown",
   "metadata": {},
   "source": [
    "### Sourcing the 420+ pro replays of the most recent SC2 world championship.\n",
    "\n",
    "This one is not dificult, a download link is readily available:\n",
    "\n",
    "http://www.mediafire.com/file/4er2bk8k5d65bb4/IEM+XI+-+World+Championship+-+StarCraft+II+Replays.rar"
   ]
  },
  {
   "cell_type": "markdown",
   "metadata": {},
   "source": [
    "### Converting these 420+ pro replays to dictionary:"
   ]
  },
  {
   "cell_type": "code",
   "execution_count": 1,
   "metadata": {
    "collapsed": true
   },
   "outputs": [],
   "source": [
    "import sc2reader\n",
    "import pickle\n",
    "\n",
    "from Scripts.replay_to_dict import replay_to_dict"
   ]
  },
  {
   "cell_type": "code",
   "execution_count": 2,
   "metadata": {
    "collapsed": true
   },
   "outputs": [],
   "source": [
    "path_to_games = './../../../sc2games'"
   ]
  },
  {
   "cell_type": "code",
   "execution_count": 3,
   "metadata": {
    "collapsed": true
   },
   "outputs": [],
   "source": [
    "iem_replays = [replay_to_dict(replay) \n",
    "               for replay in sc2reader.load_replays(\n",
    "                   path_to_games+'/IEM XI - World Championship - StarCraft II Replays/',\n",
    "               load_level = 3)]"
   ]
  },
  {
   "cell_type": "code",
   "execution_count": 4,
   "metadata": {
    "collapsed": true
   },
   "outputs": [],
   "source": [
    "with open(path_to_games + '/PickledGames/iem_replays.p','wb') as iem_file:\n",
    "    pickle.dump(iem_replays, iem_file)"
   ]
  },
  {
   "cell_type": "markdown",
   "metadata": {},
   "source": [
    "### Sourcing the 7200 pro replays available at http://lotv.spawningtool.com/\n",
    "\n",
    "This can be asily done. Using Xpath we dicovered LoTV.spawningtool.com allows the download a zip file of 25 replays by visiting a url of the form:\n",
    "\n",
    "    http://lotv.spawningtool.com/zip/? + <details>\n",
    "    \n",
    "With some further tinckering we discovered the following settings of interest:\n",
    "\n",
    "    pro_only=on\n",
    "    tag= <120 to 219> (relates to the labled build)\n",
    "    \n",
    "http://lotv.spawningtool.com/zip/?pro_only=\n"
   ]
  },
  {
   "cell_type": "code",
   "execution_count": 16,
   "metadata": {},
   "outputs": [
    {
     "data": {
      "text/plain": [
       "<http.client.HTTPResponse at 0x10e6c9f60>"
      ]
     },
     "execution_count": 16,
     "metadata": {},
     "output_type": "execute_result"
    }
   ],
   "source": [
    "import urllib\n",
    "urllib.request.urlopen('http://lotv.spawningtool.com/zip/?pro_only=on&p=80')"
   ]
  },
  {
   "cell_type": "code",
   "execution_count": 17,
   "metadata": {},
   "outputs": [
    {
     "data": {
      "text/plain": [
       "<http.client.HTTPResponse at 0x109b4d0b8>"
      ]
     },
     "execution_count": 17,
     "metadata": {},
     "output_type": "execute_result"
    }
   ],
   "source": [
    "urllib.request.urlopen('http://lotv.spawningtool.com/replays/?p=&pro_only=on&tag=193&query=&after_time=&before_time=&after_played_on=&before_played_on=&patch=&order_by=')"
   ]
  },
  {
   "cell_type": "code",
   "execution_count": 11,
   "metadata": {},
   "outputs": [
    {
     "name": "stdout",
     "output_type": "stream",
     "text": [
      "_http://lotv.spawningtool.com/zip/?pro_only=on&p=80\n",
      "_http://lotv.spawningtool.com/zip/?pro_only=on&p=81\n",
      "_http://lotv.spawningtool.com/zip/?pro_only=on&p=82\n",
      "_http://lotv.spawningtool.com/zip/?pro_only=on&p=83\n",
      "_http://lotv.spawningtool.com/zip/?pro_only=on&p=84\n",
      "_http://lotv.spawningtool.com/zip/?pro_only=on&p=85\n",
      "_http://lotv.spawningtool.com/zip/?pro_only=on&p=86\n",
      "_http://lotv.spawningtool.com/zip/?pro_only=on&p=87\n",
      "_http://lotv.spawningtool.com/zip/?pro_only=on&p=88\n",
      "_http://lotv.spawningtool.com/zip/?pro_only=on&p=89\n",
      "_http://lotv.spawningtool.com/zip/?pro_only=on&p=90\n",
      "_http://lotv.spawningtool.com/zip/?pro_only=on&p=91\n",
      "_http://lotv.spawningtool.com/zip/?pro_only=on&p=92\n",
      "_http://lotv.spawningtool.com/zip/?pro_only=on&p=93\n",
      "_http://lotv.spawningtool.com/zip/?pro_only=on&p=94\n",
      "_http://lotv.spawningtool.com/zip/?pro_only=on&p=95\n",
      "_http://lotv.spawningtool.com/zip/?pro_only=on&p=96\n",
      "_http://lotv.spawningtool.com/zip/?pro_only=on&p=97\n",
      "_http://lotv.spawningtool.com/zip/?pro_only=on&p=98\n",
      "_http://lotv.spawningtool.com/zip/?pro_only=on&p=99\n",
      "_http://lotv.spawningtool.com/zip/?pro_only=on&p=100\n"
     ]
    }
   ],
   "source": [
    "b_url = 'http://lotv.spawningtool.com/zip/?pro_only=on&p='\n",
    "for i in range(80,101):\n",
    "    url = b_url + str(i)\n",
    "    #requests.get(url)\n",
    "    print('_'+url)"
   ]
  },
  {
   "cell_type": "code",
   "execution_count": null,
   "metadata": {
    "collapsed": true
   },
   "outputs": [],
   "source": []
  },
  {
   "cell_type": "code",
   "execution_count": null,
   "metadata": {
    "collapsed": true
   },
   "outputs": [],
   "source": []
  },
  {
   "cell_type": "code",
   "execution_count": null,
   "metadata": {
    "collapsed": true
   },
   "outputs": [],
   "source": [
    "import requests\n",
    "from lxml import html\n",
    "import pandas as pd"
   ]
  },
  {
   "cell_type": "markdown",
   "metadata": {},
   "source": [
    "https://www.gamereplays.org/starcraft2/replays.php?game=33&show=master_replays&sort_by=latest_upload&search=&st=0"
   ]
  },
  {
   "cell_type": "code",
   "execution_count": 3,
   "metadata": {
    "collapsed": true
   },
   "outputs": [],
   "source": [
    "base_url = 'https://www.gamereplays.org/starcraft2/replays.php?game=33&show=master_replays&sort_by=latest_upload&search=&st='\n",
    "\n",
    "indexes = list(range(0,16400,30))\n",
    "\n",
    "def getHTML(index = 0):\n",
    "    url = base_url + str(index)\n",
    "    rawHTML = requests.get(url).content\n",
    "    return str(rawHTML)"
   ]
  },
  {
   "cell_type": "code",
   "execution_count": 4,
   "metadata": {
    "collapsed": true
   },
   "outputs": [],
   "source": [
    "\"\"\"for i in indexes:\n",
    "    with open('../../../../Desktop/replayhtmls.text', \"a\") as myfile:\n",
    "            myfile.write(getHTML(index=i))\"\"\"\n",
    "\n",
    "\"\"\"with open('../../../../Desktop/replayhtmls.text', \"r\") as myfile:\n",
    "        m_html = myfile.read()\n",
    "        tree = html.fromstring(m_html)\"\"\""
   ]
  },
  {
   "cell_type": "code",
   "execution_count": 8,
   "metadata": {
    "collapsed": true
   },
   "outputs": [],
   "source": [
    "games = tree.xpath('//a[@class = \"replay_index_button index_download\"]/@href')"
   ]
  },
  {
   "cell_type": "code",
   "execution_count": 11,
   "metadata": {
    "collapsed": true
   },
   "outputs": [],
   "source": [
    "series = pd.Series(games)"
   ]
  },
  {
   "cell_type": "code",
   "execution_count": 19,
   "metadata": {
    "collapsed": true
   },
   "outputs": [],
   "source": [
    "series.to_clipboard()"
   ]
  },
  {
   "cell_type": "code",
   "execution_count": 2,
   "metadata": {},
   "outputs": [
    {
     "name": "stdout",
     "output_type": "stream",
     "text": [
      "http://lotv.spawningtool.com/zip/?pro_only=on&p=80\n",
      "http://lotv.spawningtool.com/zip/?pro_only=on&p=81\n",
      "http://lotv.spawningtool.com/zip/?pro_only=on&p=82\n",
      "http://lotv.spawningtool.com/zip/?pro_only=on&p=83\n",
      "http://lotv.spawningtool.com/zip/?pro_only=on&p=84\n",
      "http://lotv.spawningtool.com/zip/?pro_only=on&p=85\n",
      "http://lotv.spawningtool.com/zip/?pro_only=on&p=86\n",
      "http://lotv.spawningtool.com/zip/?pro_only=on&p=87\n",
      "http://lotv.spawningtool.com/zip/?pro_only=on&p=88\n",
      "http://lotv.spawningtool.com/zip/?pro_only=on&p=89\n",
      "http://lotv.spawningtool.com/zip/?pro_only=on&p=90\n",
      "http://lotv.spawningtool.com/zip/?pro_only=on&p=91\n",
      "http://lotv.spawningtool.com/zip/?pro_only=on&p=92\n",
      "http://lotv.spawningtool.com/zip/?pro_only=on&p=93\n",
      "http://lotv.spawningtool.com/zip/?pro_only=on&p=94\n",
      "http://lotv.spawningtool.com/zip/?pro_only=on&p=95\n",
      "http://lotv.spawningtool.com/zip/?pro_only=on&p=96\n",
      "http://lotv.spawningtool.com/zip/?pro_only=on&p=97\n",
      "http://lotv.spawningtool.com/zip/?pro_only=on&p=98\n",
      "http://lotv.spawningtool.com/zip/?pro_only=on&p=99\n",
      "http://lotv.spawningtool.com/zip/?pro_only=on&p=100\n"
     ]
    }
   ],
   "source": []
  },
  {
   "cell_type": "code",
   "execution_count": 3,
   "metadata": {
    "collapsed": true
   },
   "outputs": [],
   "source": [
    "import sc2reader"
   ]
  },
  {
   "cell_type": "code",
   "execution_count": 14,
   "metadata": {
    "collapsed": true
   },
   "outputs": [],
   "source": []
  },
  {
   "cell_type": "code",
   "execution_count": 15,
   "metadata": {},
   "outputs": [
    {
     "name": "stdout",
     "output_type": "stream",
     "text": [
      "CPU times: user 23.1 s, sys: 1.09 s, total: 24.2 s\n",
      "Wall time: 25.5 s\n"
     ]
    }
   ],
   "source": [
    "%%time\n",
    "games = []\n",
    "for game in replays:\n",
    "    games.append(game)"
   ]
  },
  {
   "cell_type": "code",
   "execution_count": 25,
   "metadata": {
    "collapsed": true
   },
   "outputs": [],
   "source": [
    "gg = games[0]\n",
    "\n",
    "for game in games:\n",
    "    if gg.type != '1v1': print(gg.type)"
   ]
  },
  {
   "cell_type": "code",
   "execution_count": 11,
   "metadata": {},
   "outputs": [
    {
     "data": {
      "text/plain": [
       "2302"
      ]
     },
     "execution_count": 11,
     "metadata": {},
     "output_type": "execute_result"
    }
   ],
   "source": [
    "2302"
   ]
  },
  {
   "cell_type": "code",
   "execution_count": null,
   "metadata": {
    "collapsed": true
   },
   "outputs": [],
   "source": []
  }
 ],
 "metadata": {
  "kernelspec": {
   "display_name": "Python 3",
   "language": "python",
   "name": "python3"
  },
  "language_info": {
   "codemirror_mode": {
    "name": "ipython",
    "version": 3
   },
   "file_extension": ".py",
   "mimetype": "text/x-python",
   "name": "python",
   "nbconvert_exporter": "python",
   "pygments_lexer": "ipython3",
   "version": "3.6.2"
  }
 },
 "nbformat": 4,
 "nbformat_minor": 2
}
