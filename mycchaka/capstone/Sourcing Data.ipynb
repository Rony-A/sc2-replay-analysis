{
 "cells": [
  {
   "cell_type": "code",
   "execution_count": 1,
   "metadata": {
    "collapsed": true
   },
   "outputs": [],
   "source": [
    "import requests\n",
    "from lxml import html\n",
    "import pandas as pd"
   ]
  },
  {
   "cell_type": "code",
   "execution_count": null,
   "metadata": {
    "collapsed": true
   },
   "outputs": [],
   "source": []
  },
  {
   "cell_type": "markdown",
   "metadata": {},
   "source": [
    "https://www.gamereplays.org/starcraft2/replays.php?game=33&show=master_replays&sort_by=latest_upload&search=&st=0"
   ]
  },
  {
   "cell_type": "code",
   "execution_count": 3,
   "metadata": {
    "collapsed": true
   },
   "outputs": [],
   "source": [
    "base_url = 'https://www.gamereplays.org/starcraft2/replays.php?game=33&show=master_replays&sort_by=latest_upload&search=&st='\n",
    "\n",
    "indexes = list(range(0,16400,30))\n",
    "\n",
    "def getHTML(index = 0):\n",
    "    url = base_url + str(index)\n",
    "    rawHTML = requests.get(url).content\n",
    "    return str(rawHTML)"
   ]
  },
  {
   "cell_type": "code",
   "execution_count": 4,
   "metadata": {
    "collapsed": true
   },
   "outputs": [],
   "source": [
    "\"\"\"for i in indexes:\n",
    "    with open('../../../../Desktop/replayhtmls.text', \"a\") as myfile:\n",
    "            myfile.write(getHTML(index=i))\"\"\"\n",
    "\n",
    "\"\"\"with open('../../../../Desktop/replayhtmls.text', \"r\") as myfile:\n",
    "        m_html = myfile.read()\n",
    "        tree = html.fromstring(m_html)\"\"\""
   ]
  },
  {
   "cell_type": "code",
   "execution_count": 8,
   "metadata": {
    "collapsed": true
   },
   "outputs": [],
   "source": [
    "games = tree.xpath('//a[@class = \"replay_index_button index_download\"]/@href')"
   ]
  },
  {
   "cell_type": "code",
   "execution_count": 11,
   "metadata": {
    "collapsed": true
   },
   "outputs": [],
   "source": [
    "series = pd.Series(games)"
   ]
  },
  {
   "cell_type": "code",
   "execution_count": 19,
   "metadata": {
    "collapsed": true
   },
   "outputs": [],
   "source": [
    "series.to_clipboard()"
   ]
  },
  {
   "cell_type": "code",
   "execution_count": 2,
   "metadata": {},
   "outputs": [
    {
     "name": "stdout",
     "output_type": "stream",
     "text": [
      "http://lotv.spawningtool.com/zip/?pro_only=on&p=80\n",
      "http://lotv.spawningtool.com/zip/?pro_only=on&p=81\n",
      "http://lotv.spawningtool.com/zip/?pro_only=on&p=82\n",
      "http://lotv.spawningtool.com/zip/?pro_only=on&p=83\n",
      "http://lotv.spawningtool.com/zip/?pro_only=on&p=84\n",
      "http://lotv.spawningtool.com/zip/?pro_only=on&p=85\n",
      "http://lotv.spawningtool.com/zip/?pro_only=on&p=86\n",
      "http://lotv.spawningtool.com/zip/?pro_only=on&p=87\n",
      "http://lotv.spawningtool.com/zip/?pro_only=on&p=88\n",
      "http://lotv.spawningtool.com/zip/?pro_only=on&p=89\n",
      "http://lotv.spawningtool.com/zip/?pro_only=on&p=90\n",
      "http://lotv.spawningtool.com/zip/?pro_only=on&p=91\n",
      "http://lotv.spawningtool.com/zip/?pro_only=on&p=92\n",
      "http://lotv.spawningtool.com/zip/?pro_only=on&p=93\n",
      "http://lotv.spawningtool.com/zip/?pro_only=on&p=94\n",
      "http://lotv.spawningtool.com/zip/?pro_only=on&p=95\n",
      "http://lotv.spawningtool.com/zip/?pro_only=on&p=96\n",
      "http://lotv.spawningtool.com/zip/?pro_only=on&p=97\n",
      "http://lotv.spawningtool.com/zip/?pro_only=on&p=98\n",
      "http://lotv.spawningtool.com/zip/?pro_only=on&p=99\n",
      "http://lotv.spawningtool.com/zip/?pro_only=on&p=100\n"
     ]
    }
   ],
   "source": [
    "b_url = 'http://lotv.spawningtool.com/zip/?pro_only=on&p='\n",
    "for i in range(80,101):\n",
    "    url = b_url + str(i)\n",
    "    #requests.get(url)\n",
    "    print(url)"
   ]
  },
  {
   "cell_type": "code",
   "execution_count": 3,
   "metadata": {
    "collapsed": true
   },
   "outputs": [],
   "source": [
    "import sc2reader"
   ]
  },
  {
   "cell_type": "code",
   "execution_count": 14,
   "metadata": {
    "collapsed": true
   },
   "outputs": [],
   "source": []
  },
  {
   "cell_type": "code",
   "execution_count": 15,
   "metadata": {},
   "outputs": [
    {
     "name": "stdout",
     "output_type": "stream",
     "text": [
      "CPU times: user 23.1 s, sys: 1.09 s, total: 24.2 s\n",
      "Wall time: 25.5 s\n"
     ]
    }
   ],
   "source": [
    "%%time\n",
    "games = []\n",
    "for game in replays:\n",
    "    games.append(game)"
   ]
  },
  {
   "cell_type": "code",
   "execution_count": 25,
   "metadata": {},
   "outputs": [],
   "source": [
    "gg = games[0]\n",
    "\n",
    "for game in games:\n",
    "    if gg.type != '1v1': print(gg.type)"
   ]
  },
  {
   "cell_type": "code",
   "execution_count": 11,
   "metadata": {},
   "outputs": [
    {
     "data": {
      "text/plain": [
       "2302"
      ]
     },
     "execution_count": 11,
     "metadata": {},
     "output_type": "execute_result"
    }
   ],
   "source": [
    "2302"
   ]
  },
  {
   "cell_type": "code",
   "execution_count": null,
   "metadata": {
    "collapsed": true
   },
   "outputs": [],
   "source": []
  }
 ],
 "metadata": {
  "kernelspec": {
   "display_name": "Python 3",
   "language": "python",
   "name": "python3"
  },
  "language_info": {
   "codemirror_mode": {
    "name": "ipython",
    "version": 3
   },
   "file_extension": ".py",
   "mimetype": "text/x-python",
   "name": "python",
   "nbconvert_exporter": "python",
   "pygments_lexer": "ipython3",
   "version": "3.6.0"
  }
 },
 "nbformat": 4,
 "nbformat_minor": 2
}
