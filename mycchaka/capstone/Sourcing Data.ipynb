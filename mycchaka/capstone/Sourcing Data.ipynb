{
 "cells": [
  {
   "cell_type": "code",
   "execution_count": 1,
   "metadata": {
    "collapsed": true
   },
   "outputs": [],
   "source": [
    "import requests\n",
    "from lxml import html\n",
    "import pandas as pd"
   ]
  },
  {
   "cell_type": "code",
   "execution_count": null,
   "metadata": {
    "collapsed": true
   },
   "outputs": [],
   "source": []
  },
  {
   "cell_type": "markdown",
   "metadata": {},
   "source": [
    "https://www.gamereplays.org/starcraft2/replays.php?game=33&show=master_replays&sort_by=latest_upload&search=&st=0"
   ]
  },
  {
   "cell_type": "code",
   "execution_count": 3,
   "metadata": {
    "collapsed": true
   },
   "outputs": [],
   "source": [
    "base_url = 'https://www.gamereplays.org/starcraft2/replays.php?game=33&show=master_replays&sort_by=latest_upload&search=&st='\n",
    "\n",
    "indexes = list(range(0,16400,30))\n",
    "\n",
    "def getHTML(index = 0):\n",
    "    url = base_url + str(index)\n",
    "    rawHTML = requests.get(url).content\n",
    "    return str(rawHTML)"
   ]
  },
  {
   "cell_type": "code",
   "execution_count": 4,
   "metadata": {
    "collapsed": true
   },
   "outputs": [],
   "source": [
    "\"\"\"for i in indexes:\n",
    "    with open('../../../../Desktop/replayhtmls.text', \"a\") as myfile:\n",
    "            myfile.write(getHTML(index=i))\"\"\"\n",
    "\n",
    "\"\"\"with open('../../../../Desktop/replayhtmls.text', \"r\") as myfile:\n",
    "        m_html = myfile.read()\n",
    "        tree = html.fromstring(m_html)\"\"\""
   ]
  },
  {
   "cell_type": "code",
   "execution_count": 8,
   "metadata": {
    "collapsed": true
   },
   "outputs": [],
   "source": [
    "games = tree.xpath('//a[@class = \"replay_index_button index_download\"]/@href')"
   ]
  },
  {
   "cell_type": "code",
   "execution_count": 11,
   "metadata": {
    "collapsed": true
   },
   "outputs": [],
   "source": [
    "series = pd.Series(games)"
   ]
  },
  {
   "cell_type": "code",
   "execution_count": 19,
   "metadata": {
    "collapsed": true
   },
   "outputs": [],
   "source": [
    "series.to_clipboard()"
   ]
  },
  {
   "cell_type": "code",
   "execution_count": 1,
   "metadata": {},
   "outputs": [
    {
     "name": "stdout",
     "output_type": "stream",
     "text": [
      "http://lotv.spawningtool.com/zip/?pro_only=on&p=100\n",
      "http://lotv.spawningtool.com/zip/?pro_only=on&p=101\n",
      "http://lotv.spawningtool.com/zip/?pro_only=on&p=102\n",
      "http://lotv.spawningtool.com/zip/?pro_only=on&p=103\n",
      "http://lotv.spawningtool.com/zip/?pro_only=on&p=104\n",
      "http://lotv.spawningtool.com/zip/?pro_only=on&p=105\n",
      "http://lotv.spawningtool.com/zip/?pro_only=on&p=106\n",
      "http://lotv.spawningtool.com/zip/?pro_only=on&p=107\n",
      "http://lotv.spawningtool.com/zip/?pro_only=on&p=108\n",
      "http://lotv.spawningtool.com/zip/?pro_only=on&p=109\n",
      "http://lotv.spawningtool.com/zip/?pro_only=on&p=110\n",
      "http://lotv.spawningtool.com/zip/?pro_only=on&p=111\n",
      "http://lotv.spawningtool.com/zip/?pro_only=on&p=112\n",
      "http://lotv.spawningtool.com/zip/?pro_only=on&p=113\n",
      "http://lotv.spawningtool.com/zip/?pro_only=on&p=114\n",
      "http://lotv.spawningtool.com/zip/?pro_only=on&p=115\n",
      "http://lotv.spawningtool.com/zip/?pro_only=on&p=116\n",
      "http://lotv.spawningtool.com/zip/?pro_only=on&p=117\n",
      "http://lotv.spawningtool.com/zip/?pro_only=on&p=118\n",
      "http://lotv.spawningtool.com/zip/?pro_only=on&p=119\n",
      "http://lotv.spawningtool.com/zip/?pro_only=on&p=120\n",
      "http://lotv.spawningtool.com/zip/?pro_only=on&p=121\n",
      "http://lotv.spawningtool.com/zip/?pro_only=on&p=122\n",
      "http://lotv.spawningtool.com/zip/?pro_only=on&p=123\n",
      "http://lotv.spawningtool.com/zip/?pro_only=on&p=124\n",
      "http://lotv.spawningtool.com/zip/?pro_only=on&p=125\n",
      "http://lotv.spawningtool.com/zip/?pro_only=on&p=126\n",
      "http://lotv.spawningtool.com/zip/?pro_only=on&p=127\n",
      "http://lotv.spawningtool.com/zip/?pro_only=on&p=128\n",
      "http://lotv.spawningtool.com/zip/?pro_only=on&p=129\n",
      "http://lotv.spawningtool.com/zip/?pro_only=on&p=130\n",
      "http://lotv.spawningtool.com/zip/?pro_only=on&p=131\n",
      "http://lotv.spawningtool.com/zip/?pro_only=on&p=132\n",
      "http://lotv.spawningtool.com/zip/?pro_only=on&p=133\n",
      "http://lotv.spawningtool.com/zip/?pro_only=on&p=134\n",
      "http://lotv.spawningtool.com/zip/?pro_only=on&p=135\n",
      "http://lotv.spawningtool.com/zip/?pro_only=on&p=136\n",
      "http://lotv.spawningtool.com/zip/?pro_only=on&p=137\n",
      "http://lotv.spawningtool.com/zip/?pro_only=on&p=138\n",
      "http://lotv.spawningtool.com/zip/?pro_only=on&p=139\n"
     ]
    }
   ],
   "source": [
    "b_url = 'http://lotv.spawningtool.com/zip/?pro_only=on&p='\n",
    "for i in range(100,140):\n",
    "    url = b_url + str(i)\n",
    "    #requests.get(url)\n",
    "    print(url)"
   ]
  },
  {
   "cell_type": "code",
   "execution_count": null,
   "metadata": {
    "collapsed": true
   },
   "outputs": [],
   "source": []
  }
 ],
 "metadata": {
  "kernelspec": {
   "display_name": "Python 3",
   "language": "python",
   "name": "python3"
  },
  "language_info": {
   "codemirror_mode": {
    "name": "ipython",
    "version": 3
   },
   "file_extension": ".py",
   "mimetype": "text/x-python",
   "name": "python",
   "nbconvert_exporter": "python",
   "pygments_lexer": "ipython3",
   "version": "3.6.0"
  }
 },
 "nbformat": 4,
 "nbformat_minor": 2
}
