{
 "cells": [
  {
   "cell_type": "markdown",
   "metadata": {},
   "source": [
    "## Converting replay files to a more tractable format\n",
    "\n",
    "Over the course of the past 2 weeks, I've been working with a collection of 423 replay files. Working with these games has been incredibly fruitful in building helper functions, testing models, and performing feature selection and feature engineering.\n",
    "\n",
    "Loading these 423 games into memory takes a manageable 5 minutes (in an early 2013 15'' MacBook Pro).\n",
    "\n",
    "If we low-ball the number of times I've restarted my notebook to once a day, we see a collective time spent waiting for these games to load of 1h. If we further include each voluntary and involuntary restarting of the kernel and reloading of the data, we see that that estimate was in reality not in the right order of magnitude.\n",
    "\n",
    "This notebook seeks to mitigate this issue moving foward, in particular before we seek to tackle further replay files available to us through webscraping, including:\n",
    "\n",
    "    - the 7200 pro replays available at http://lotv.spawningtool.com/\n",
    "    - the 16,000+ gand-master and master replays readily www.gamereplays.org\n",
    "    \n",
    "    - the 25,000+ mixed-skill replays at http://lotv.spawningtool.com/\n",
    "    - the 65,000+ mixed-skill replays at www.gamereplays.org\n",
    "    \n",
    "It is also worth noting that Blizzard (in partnership with Google Deep Mind) recently released 35,000 anonymized replay files for the purposes of A.I. research, and that they intend for this dataset to grow to 500,000 by the end of the year.\n",
    "\n",
    "At close to 1 minute per 100 replays, we wish the matter of efficiently storing and retrieving replay data to be settled, so that we may implement it only once."
   ]
  },
  {
   "cell_type": "markdown",
   "metadata": {},
   "source": [
    "### Limitations when working with .SC2Replay files\n",
    "\n",
    "The replay file format (as tractable by sc2reader and the StarCraft II game engine) poses two challenges:\n",
    "\n",
    "    - a signigicant amount of time is spent parsing each .SC2Replay file into a python object\n",
    "    - the resulting object is rather large"
   ]
  },
  {
   "cell_type": "code",
   "execution_count": 1,
   "metadata": {
    "collapsed": true
   },
   "outputs": [],
   "source": [
    "#%run ./Scripts/mklib.py \n",
    "\n",
    "import sc2reader\n",
    "import pickle\n",
    "\n",
    "import warnings\n",
    "warnings.filterwarnings(\"ignore\")"
   ]
  },
  {
   "cell_type": "code",
   "execution_count": 2,
   "metadata": {
    "collapsed": true
   },
   "outputs": [],
   "source": [
    "path_to_games = '../../../sc2games'\n",
    "replay_file = path_to_games + '/IEM XI - World Championship - StarCraft II Replays/RO12 + Final/1. Round of 12/INnoVation vs Ryung/Cactus Valley LE (Void) (2).SC2Replay'\n",
    "reaplay = sc2reader.load_replay(replay_file, load_level = 3)"
   ]
  },
  {
   "cell_type": "code",
   "execution_count": 3,
   "metadata": {},
   "outputs": [
    {
     "name": "stdout",
     "output_type": "stream",
     "text": [
      "345 ms ± 17.1 ms per loop (mean ± std. dev. of 7 runs, 1 loop each)\n"
     ]
    }
   ],
   "source": [
    "%%timeit\n",
    "sc2reader.load_replay(replay_file, load_level = 4)"
   ]
  },
  {
   "cell_type": "code",
   "execution_count": 4,
   "metadata": {},
   "outputs": [
    {
     "name": "stdout",
     "output_type": "stream",
     "text": [
      "kbytes: 3360.356\n"
     ]
    }
   ],
   "source": [
    "replay = sc2reader.load_replay(replay_file, load_level = 4)\n",
    "\n",
    "replay.registered_datapacks = None\n",
    "replay.registered_readers = None\n",
    "replay.logger = None\n",
    "replay.factory = None\n",
    "\n",
    "byte_full_replay = pickle.dumps(replay)\n",
    "\n",
    "print('kbytes:',len(byte_full_replay)/1000)"
   ]
  },
  {
   "cell_type": "markdown",
   "metadata": {},
   "source": [
    "### The solution available through sc2reader"
   ]
  },
  {
   "cell_type": "markdown",
   "metadata": {},
   "source": [
    "Fortunately, we can easily parse only some of the replay file, thus cutting loading time and memory consumption by close to 75%."
   ]
  },
  {
   "cell_type": "code",
   "execution_count": 5,
   "metadata": {
    "scrolled": true
   },
   "outputs": [
    {
     "name": "stdout",
     "output_type": "stream",
     "text": [
      "86.2 ms ± 7.05 ms per loop (mean ± std. dev. of 7 runs, 10 loops each)\n"
     ]
    }
   ],
   "source": [
    "%%timeit\n",
    "sc2reader.load_replay(replay_file, load_level = 3)"
   ]
  },
  {
   "cell_type": "code",
   "execution_count": 6,
   "metadata": {},
   "outputs": [
    {
     "name": "stdout",
     "output_type": "stream",
     "text": [
      "kbytes: 863.938\n"
     ]
    }
   ],
   "source": [
    "replay = sc2reader.load_replay(replay_file, load_level = 3)\n",
    "\n",
    "replay.registered_datapacks = None\n",
    "replay.registered_readers = None\n",
    "replay.logger = None\n",
    "replay.factory = None\n",
    "\n",
    "byte_load_3_replay = pickle.dumps(replay)\n",
    "print('kbytes:',len(byte_load_3_replay)/1000)"
   ]
  },
  {
   "cell_type": "markdown",
   "metadata": {},
   "source": [
    "However, at this rate the 35,000 games recently released by Google would consume 30Gb, and take close to 45 minutes to be parsed into python objects.\n",
    "\n",
    "Arguably this is tractable, but we would rather not wait the 45 minutes python takes to parse the heavily compressed hexadecimal .SC2Reader files each time we wish to run our notebook. Preferably, the parsing would be done only once."
   ]
  },
  {
   "cell_type": "markdown",
   "metadata": {},
   "source": [
    "### Bypassing the parsing of the files"
   ]
  },
  {
   "cell_type": "markdown",
   "metadata": {},
   "source": [
    "We wish to store the parsed files in such a manner as cuts down the time spent querying them for features or loading them in full. \n",
    "\n",
    "Were these parsed files tabular, we would probably use a postgress SQL database; were they jason-like, we might consider using MongoDB.\n",
    "\n",
    "Unfortunately the python object outputed by sc2reader is far from being tabular or jason-like. \n",
    "\n",
    "This leaves us with two options:\n",
    "\n",
    "    - pickling the object 'as is'\n",
    "    - coercing the objects into a more tractable stucture for the purposes of storage"
   ]
  },
  {
   "cell_type": "markdown",
   "metadata": {},
   "source": [
    "### Pickling sc2reader's replay objects"
   ]
  },
  {
   "cell_type": "code",
   "execution_count": 7,
   "metadata": {
    "collapsed": true
   },
   "outputs": [],
   "source": [
    "with open('./Resources/load_3_replay_pickled.p','wb') as my_file:\n",
    "    pickle.dump(replay, my_file)"
   ]
  },
  {
   "cell_type": "code",
   "execution_count": 8,
   "metadata": {},
   "outputs": [
    {
     "name": "stdout",
     "output_type": "stream",
     "text": [
      "18.4 ms ± 1.95 ms per loop (mean ± std. dev. of 7 runs, 100 loops each)\n"
     ]
    }
   ],
   "source": [
    "%%timeit\n",
    "with open('./Resources/load_3_replay_pickled.p','rb') as my_file:\n",
    "    pickle.load(my_file)"
   ]
  },
  {
   "cell_type": "markdown",
   "metadata": {},
   "source": [
    "It's nice to see that our expected wait time has decreased by over 70%.\n",
    "\n",
    "However, we can improve upon this."
   ]
  },
  {
   "cell_type": "markdown",
   "metadata": {},
   "source": [
    "### Converting sc2reader's replay objects to dictionaries\n",
    "\n",
    "In this section we develop a function that will:\n",
    "\n",
    "    - transverse the replay object\n",
    "    - extract all information of interest\n",
    "    - return it as a dictionary containing only in-built python types"
   ]
  },
  {
   "cell_type": "code",
   "execution_count": 9,
   "metadata": {
    "collapsed": true
   },
   "outputs": [],
   "source": [
    "# Defining helper functions\n",
    "def getEvent(name = '', replay = None):\n",
    "    return list({event for event in replay.events if name in event.name})"
   ]
  },
  {
   "cell_type": "code",
   "execution_count": 10,
   "metadata": {
    "collapsed": true
   },
   "outputs": [],
   "source": [
    "# Handling units and unit owners\n",
    "def to_dictOwner(player):\n",
    "    player_dict = {}\n",
    "    if player != None:\n",
    "        player_dict['owner'] = player.pid\n",
    "    else:\n",
    "        player_dict['owner'] = -1\n",
    "    return player_dict\n",
    "\n",
    "def to_dictUnit(unit):\n",
    "    wish_to_ignore = ['__','_type_class','flags','apply_flags', 'is_type', 'set_type','type_history','type']\n",
    "    unit_dict = {key:unit.__getattribute__(key) for key in unit.__dir__() \n",
    "            if all([ignore not in key for ignore in wish_to_ignore])}\n",
    "    \n",
    "    # Removing references to player objects\n",
    "    unit_dict.update(to_dictOwner(unit_dict['owner']))\n",
    "    if unit_dict['killed_by'] !=None:\n",
    "        unit_dict['killed_by'] = unit_dict['killed_by'].pid\n",
    "        unit_dict['killing_player'] = unit_dict['killed_by']\n",
    "    \n",
    "    # Removing references to unit objects\n",
    "    unit_dict['killed_units'] = [unit.id for unit in unit_dict['killed_units']]\n",
    "    if type(unit_dict['killing_unit']) != type(None):\n",
    "        unit_dict['killing_unit'] = unit_dict['killing_unit'].id\n",
    "        \n",
    "    return unit_dict"
   ]
  },
  {
   "cell_type": "code",
   "execution_count": 11,
   "metadata": {
    "collapsed": true
   },
   "outputs": [],
   "source": [
    "# Handling events\n",
    "def to_dictPlayerStatsEvent(event):\n",
    "    wish_to_ignore = ['ff_','player','stats','name']\n",
    "    return {key.replace('food', 'supply'):event.__dict__[key] for key in event.__dict__.keys() \n",
    "            if all([ignore not in key for ignore in wish_to_ignore])}\n",
    "\n",
    "def to_dictUnitPositionsEvent(event):\n",
    "    return {'positions':{unit_update[0]:unit_update[1] for unit_update in event.positions},\n",
    "            'frame':event.frame,\n",
    "            'second':event.second}\n",
    "\n",
    "def to_dictUpgradeCompleteEvent(event):\n",
    "    return {'upgrade_type_name':event.upgrade_type_name,\n",
    "            'frame': event.frame,\n",
    "            'second': event.second,\n",
    "            'pid': event.pid}\n",
    "\n",
    "def to_dictEvent(event):\n",
    "    if event.name == 'PlayerStatsEvent':\n",
    "        return to_dictPlayerStatsEvent(event)\n",
    "    elif event.name == 'UnitPositionsEvent':\n",
    "        return to_dictUnitPositionsEvent(event)\n",
    "    elif event.name == 'UpgradeCompleteEvent':\n",
    "        return to_dictUpgradeCompleteEvent(event)"
   ]
  },
  {
   "cell_type": "code",
   "execution_count": 12,
   "metadata": {
    "collapsed": true
   },
   "outputs": [],
   "source": [
    "# Helper functions\n",
    "def to_dictContext(replay):\n",
    "    try:\n",
    "        return sc2reader.utils.toDict(replay)\n",
    "    except:\n",
    "        return replay.context\n",
    "    \n",
    "def to_dictObjects(replay):\n",
    "    return {key:to_dictUnit(replay.objects[key]) for key in replay.objects.keys()}\n",
    "\n",
    "def to_dictEvents(name, replay):\n",
    "    events = getEvent(name, replay)\n",
    "    return [to_dictEvent(event) for event in events]"
   ]
  },
  {
   "cell_type": "code",
   "execution_count": 13,
   "metadata": {
    "collapsed": true
   },
   "outputs": [],
   "source": [
    "# Main function\n",
    "def to_dictReplay(replay):\n",
    "    replay_dict = {}\n",
    "    replay_dict['context'] = to_dictContext(replay)\n",
    "    replay_dict['objects'] = to_dictObjects(replay)\n",
    "    replay_dict['player_stats'] = to_dictEvents('PlayerStatsEvent', replay)\n",
    "    replay_dict['unit_positions'] = to_dictEvents('UnitPositionsEvent', replay)\n",
    "    replay_dict['upgrades'] = to_dictEvents('UpgradeCompleteEvent', replay)\n",
    "    return replay_dict"
   ]
  },
  {
   "cell_type": "markdown",
   "metadata": {},
   "source": [
    "At this point, the output of to_dictReplay is a dictionary with more dictionaries nested within it - ultimately terminating in integers, floats, booleans and strings and as such it could be converted to a jason.\n",
    "\n",
    "Consider the current state of our metrics of interest (loading time, and memory consumption):"
   ]
  },
  {
   "cell_type": "code",
   "execution_count": 14,
   "metadata": {},
   "outputs": [
    {
     "name": "stdout",
     "output_type": "stream",
     "text": [
      "kbytes: 195.355\n"
     ]
    }
   ],
   "source": [
    "dict_replay = to_dictReplay(reaplay)\n",
    "byte_dict_replay = pickle.dumps(dict_replay)\n",
    "\n",
    "with open('./Resources/dict_replay_pickled.p','wb') as my_file:\n",
    "    pickle.dump(dict_replay, my_file)\n",
    "\n",
    "print('kbytes:',len(byte_dict_replay)/1000)"
   ]
  },
  {
   "cell_type": "code",
   "execution_count": 15,
   "metadata": {},
   "outputs": [
    {
     "name": "stdout",
     "output_type": "stream",
     "text": [
      "2.49 ms ± 145 µs per loop (mean ± std. dev. of 7 runs, 100 loops each)\n"
     ]
    }
   ],
   "source": [
    "%%timeit\n",
    "with open('./Resources/dict_replay_pickled.p','rb') as my_file:\n",
    "    pickle.load(my_file)"
   ]
  },
  {
   "cell_type": "markdown",
   "metadata": {},
   "source": [
    "We are pleased with this further 88% decrease in loading time and memory usage. But we can do one better..."
   ]
  },
  {
   "cell_type": "markdown",
   "metadata": {},
   "source": [
    "### Leveraging the consistency of schema"
   ]
  },
  {
   "cell_type": "markdown",
   "metadata": {},
   "source": [
    "Our current dictionary representation of units and events is somewhat redundant:\n",
    "\n",
    "    - Every unit has a name, an owner, a time of birth, a time of death... \n",
    "    - Every PlayerStats event contains all the same attributes.\n",
    "\n",
    "It is easy to see that some improvement to performance may be gained by leveraging this consistency of schema.\n",
    "\n",
    "We create a 'canonical' order for these attributes, and then store only their values, in that 'canonical' order. Hence we avoid the reiteration of the dozen-or-so keys across each instance of a dictionary describing a unit or event."
   ]
  },
  {
   "cell_type": "code",
   "execution_count": 16,
   "metadata": {
    "collapsed": true
   },
   "outputs": [],
   "source": [
    "def dict_to_values(key_order, dictionary):\n",
    "    return [dictionary[key] for key in key_order]\n",
    "\n",
    "def to_lean_dict(dict_replay, look_up = False, deduce = False):\n",
    "    object_keys = sorted(list(list(dict_replay['objects'].values())[0].keys()))\n",
    "    player_stat_keys = sorted(list(dict_replay['player_stats'][0].keys()))\n",
    "    \n",
    "    if look_up == True:\n",
    "        can_be_looked_up = ['is_army','is_worker','is_building','minerals','supply','title','vespene']\n",
    "        object_keys = [key for key in object_keys if key not in can_be_looked_up]\n",
    "        \n",
    "    if deduce == True:\n",
    "        player_stat_keys = sorted(['frame','pid',\n",
    "                                   'minerals_collection_rate','minerals_current',\n",
    "                                   'minerals_used_in_progress_army',\n",
    "                                   'minerals_used_in_progress_economy',\n",
    "                                   'minerals_used_in_progress_technology',\n",
    "                                   'vespene_collection_rate','vespene_current',\n",
    "                                   'vespene_used_in_progress_army',\n",
    "                                   'vespene_used_in_progress_economy',\n",
    "                                   'vespene_used_in_progress_technology'])\n",
    "\n",
    "    lean_replay = dict_replay.copy()\n",
    "    lean_replay['object_keys'] = object_keys\n",
    "    lean_replay['player_stat_keys'] = player_stat_keys   \n",
    "    \n",
    "    lean_replay['objects'] = {key: dict_to_values(object_keys, dict_replay['objects'][key]) for key in dict_replay['objects'].keys()}\n",
    "    lean_replay['player_stats'] = [dict_to_values(player_stat_keys, event) for event in dict_replay['player_stats']]\n",
    "\n",
    "    return lean_replay"
   ]
  },
  {
   "cell_type": "code",
   "execution_count": 17,
   "metadata": {},
   "outputs": [
    {
     "name": "stdout",
     "output_type": "stream",
     "text": [
      "kbytes: 103.1\n"
     ]
    }
   ],
   "source": [
    "lean_dict_replay = to_lean_dict(dict_replay)\n",
    "byte_lean_dict_replay = pickle.dumps(lean_dict_replay)\n",
    "\n",
    "with open('./Resources/lean_dict_replay_pickled.p','wb') as my_file:\n",
    "    pickle.dump(lean_dict_replay, my_file)\n",
    "\n",
    "print('kbytes:',len(byte_lean_dict_replay)/1000)"
   ]
  },
  {
   "cell_type": "code",
   "execution_count": 18,
   "metadata": {},
   "outputs": [
    {
     "name": "stdout",
     "output_type": "stream",
     "text": [
      "1.11 ms ± 79.8 µs per loop (mean ± std. dev. of 7 runs, 1000 loops each)\n"
     ]
    }
   ],
   "source": [
    "%%timeit\n",
    "with open('./Resources/lean_dict_replay_pickled.p','rb') as my_file:\n",
    "    pickle.load(my_file)"
   ]
  },
  {
   "cell_type": "markdown",
   "metadata": {},
   "source": [
    "We are pleased with this further 50% decrese in loading time and memory usage.\n",
    "\n",
    "But just one more..."
   ]
  },
  {
   "cell_type": "markdown",
   "metadata": {},
   "source": [
    "### Dropping superfluous information\n",
    "\n",
    "Lastly we note the results we obtain if we discard information that we can easily look up or deduce.\n"
   ]
  },
  {
   "cell_type": "code",
   "execution_count": 19,
   "metadata": {},
   "outputs": [
    {
     "name": "stdout",
     "output_type": "stream",
     "text": [
      "kbytes: 67.907\n"
     ]
    }
   ],
   "source": [
    "very_lean_dict_replay = to_lean_dict(dict_replay, look_up=True, deduce = True)\n",
    "byte_very_lean_dict_replay = pickle.dumps(very_lean_dict_replay)\n",
    "\n",
    "with open('./Resources/very_lean_dict_replay_pickled.p','wb') as my_file:\n",
    "    pickle.dump(very_lean_dict_replay, my_file)\n",
    "\n",
    "print('kbytes:',len(byte_very_lean_dict_replay)/1000)"
   ]
  },
  {
   "cell_type": "code",
   "execution_count": 20,
   "metadata": {},
   "outputs": [
    {
     "name": "stdout",
     "output_type": "stream",
     "text": [
      "851 µs ± 39.7 µs per loop (mean ± std. dev. of 7 runs, 1000 loops each)\n"
     ]
    }
   ],
   "source": [
    "%%timeit\n",
    "with open('./Resources/very_lean_dict_replay_pickled.p','rb') as my_file:\n",
    "    pickle.load(my_file)"
   ]
  },
  {
   "cell_type": "markdown",
   "metadata": {},
   "source": [
    "We are pleased by this 33% improvment to memory usage 46% improvement in loading time.\n",
    "\n",
    "In fact we are - finally - sufficiently pleased."
   ]
  },
  {
   "cell_type": "markdown",
   "metadata": {},
   "source": [
    "## Evaluating our results\n",
    "\n",
    "In this notebook we have seen several ways of storing our data:\n",
    "\n",
    "    - fully parsed replay\n",
    "    - partially parsed replay\n",
    "    - partially parsed replay as pickle\n",
    "    - dictionary form of replay\n",
    "    - lean dictionary form of replay\n",
    "    - very lean dictionary form of replay\n",
    "    \n",
    "and at every stage we've obtained an improvement to loading time and memory usage."
   ]
  },
  {
   "cell_type": "code",
   "execution_count": 21,
   "metadata": {},
   "outputs": [
    {
     "data": {
      "text/html": [
       "<div>\n",
       "<style>\n",
       "    .dataframe thead tr:only-child th {\n",
       "        text-align: right;\n",
       "    }\n",
       "\n",
       "    .dataframe thead th {\n",
       "        text-align: left;\n",
       "    }\n",
       "\n",
       "    .dataframe tbody tr th {\n",
       "        vertical-align: top;\n",
       "    }\n",
       "</style>\n",
       "<table border=\"1\" class=\"dataframe\">\n",
       "  <thead>\n",
       "    <tr style=\"text-align: right;\">\n",
       "      <th></th>\n",
       "      <th>memory ussage (kb)</th>\n",
       "      <th>loading time (ratio)</th>\n",
       "    </tr>\n",
       "  </thead>\n",
       "  <tbody>\n",
       "    <tr>\n",
       "      <th>fully parsed replay</th>\n",
       "      <td>3360.356</td>\n",
       "      <td>1.000000</td>\n",
       "    </tr>\n",
       "    <tr>\n",
       "      <th>partially parsed replay</th>\n",
       "      <td>863.938</td>\n",
       "      <td>0.238889</td>\n",
       "    </tr>\n",
       "    <tr>\n",
       "      <th>partially parsed replay as pickle</th>\n",
       "      <td>863.938</td>\n",
       "      <td>0.044444</td>\n",
       "    </tr>\n",
       "    <tr>\n",
       "      <th>dictionary form of replay</th>\n",
       "      <td>195.355</td>\n",
       "      <td>0.006250</td>\n",
       "    </tr>\n",
       "    <tr>\n",
       "      <th>lean dictionary form of replay</th>\n",
       "      <td>103.100</td>\n",
       "      <td>0.003611</td>\n",
       "    </tr>\n",
       "    <tr>\n",
       "      <th>very lean dictionary form of replay</th>\n",
       "      <td>67.907</td>\n",
       "      <td>0.001944</td>\n",
       "    </tr>\n",
       "  </tbody>\n",
       "</table>\n",
       "</div>"
      ],
      "text/plain": [
       "                                     memory ussage (kb)  loading time (ratio)\n",
       "fully parsed replay                            3360.356              1.000000\n",
       "partially parsed replay                         863.938              0.238889\n",
       "partially parsed replay as pickle               863.938              0.044444\n",
       "dictionary form of replay                       195.355              0.006250\n",
       "lean dictionary form of replay                  103.100              0.003611\n",
       "very lean dictionary form of replay              67.907              0.001944"
      ]
     },
     "execution_count": 21,
     "metadata": {},
     "output_type": "execute_result"
    }
   ],
   "source": [
    "import pandas as pd\n",
    "import matplotlib.pyplot as plt\n",
    "\n",
    "memory_usage = pd.Series(\n",
    "    data = {'fully parsed replay':len(byte_full_replay)/1000,\n",
    "            'partially parsed replay':len(byte_load_3_replay)/1000,\n",
    "            'partially parsed replay as pickle':len(byte_load_3_replay)/1000,\n",
    "            'dictionary form of replay':len(byte_dict_replay)/1000,\n",
    "            'lean dictionary form of replay':len(byte_lean_dict_replay)/1000,\n",
    "            'very lean dictionary form of replay':len(byte_very_lean_dict_replay)/1000}, \n",
    "    index = ['fully parsed replay','partially parsed replay','partially parsed replay as pickle',\n",
    "             'dictionary form of replay','lean dictionary form of replay','very lean dictionary form of replay'])\n",
    "\n",
    "loading_time = pd.Series(\n",
    "    data = {'fully parsed replay':360/360,\n",
    "            'partially parsed replay':86/360,\n",
    "            'partially parsed replay as pickle':16/360,\n",
    "            'dictionary form of replay':2.25/360,\n",
    "            'lean dictionary form of replay':1.3/360,\n",
    "            'very lean dictionary form of replay':0.7/360}, \n",
    "    index = ['fully parsed replay','partially parsed replay','partially parsed replay as pickle',\n",
    "             'dictionary form of replay','lean dictionary form of replay','very lean dictionary form of replay'])\n",
    "\n",
    "df = pd.concat([memory_usage,loading_time], axis=1)\n",
    "df.columns = ['memory ussage (kb)','loading time (ratio)']\n",
    "df"
   ]
  },
  {
   "cell_type": "code",
   "execution_count": 22,
   "metadata": {},
   "outputs": [
    {
     "data": {
      "image/png": "[encoded data removed]",
      "text/plain": [
       "<matplotlib.figure.Figure at 0x108ae04a8>"
      ]
     },
     "metadata": {},
     "output_type": "display_data"
    }
   ],
   "source": [
    "fig, axes = plt.subplots(ncols=2,nrows=1,sharey=True, figsize = (10,4))\n",
    "memory_usage.sort_values().plot(\n",
    "    kind='barh', logx = True, \n",
    "    title = 'Memory usage of various representations\\n(kbytes)',\n",
    "    ax = axes[0])\n",
    "\n",
    "loading_time.sort_values().plot(\n",
    "    kind='barh', logx = True, \n",
    "    title = 'Loading time of various representations\\n(fraction of full loading time)',\n",
    "    ax = axes[1])\n",
    "plt.show()"
   ]
  },
  {
   "cell_type": "markdown",
   "metadata": {},
   "source": [
    "In the end we obtained:\n",
    "    \n",
    "    - a 99.8% reduction to loading time compared to parsing the full replay file\n",
    "    - a 99.0% reduction to loading time compared to partially parsing the replay file\n",
    "    "
   ]
  },
  {
   "cell_type": "code",
   "execution_count": 23,
   "metadata": {
    "collapsed": true
   },
   "outputs": [],
   "source": [
    "def replay_to_dict(replay, look_up = True, deduce = True):\n",
    "    return to_lean_dict(to_dictReplay(replay), look_up = look_up, deduce = deduce)"
   ]
  },
  {
   "cell_type": "markdown",
   "metadata": {},
   "source": [
    "Furthermore, the run time of our replay_to_dict function is only 70% that of partially parsing the replay file."
   ]
  },
  {
   "cell_type": "code",
   "execution_count": 24,
   "metadata": {},
   "outputs": [
    {
     "name": "stdout",
     "output_type": "stream",
     "text": [
      "60.1 ms ± 2.27 ms per loop (mean ± std. dev. of 7 runs, 10 loops each)\n"
     ]
    }
   ],
   "source": [
    "%%timeit\n",
    "replay_to_dict(replay)"
   ]
  },
  {
   "cell_type": "markdown",
   "metadata": {},
   "source": [
    "and it is easy enough to querry the resulting dictionary for information"
   ]
  },
  {
   "cell_type": "code",
   "execution_count": 25,
   "metadata": {},
   "outputs": [
    {
     "data": {
      "text/html": [
       "<div>\n",
       "<style>\n",
       "    .dataframe thead tr:only-child th {\n",
       "        text-align: right;\n",
       "    }\n",
       "\n",
       "    .dataframe thead th {\n",
       "        text-align: left;\n",
       "    }\n",
       "\n",
       "    .dataframe tbody tr th {\n",
       "        vertical-align: top;\n",
       "    }\n",
       "</style>\n",
       "<table border=\"1\" class=\"dataframe\">\n",
       "  <thead>\n",
       "    <tr style=\"text-align: right;\">\n",
       "      <th></th>\n",
       "      <th>died_at</th>\n",
       "      <th>finished_at</th>\n",
       "      <th>hallucinated</th>\n",
       "      <th>id</th>\n",
       "      <th>killed_by</th>\n",
       "      <th>killed_units</th>\n",
       "      <th>killing_player</th>\n",
       "      <th>killing_unit</th>\n",
       "      <th>location</th>\n",
       "      <th>name</th>\n",
       "      <th>owner</th>\n",
       "      <th>race</th>\n",
       "      <th>started_at</th>\n",
       "    </tr>\n",
       "  </thead>\n",
       "  <tbody>\n",
       "    <tr>\n",
       "      <th>1</th>\n",
       "      <td>None</td>\n",
       "      <td>0</td>\n",
       "      <td>False</td>\n",
       "      <td>1</td>\n",
       "      <td>None</td>\n",
       "      <td>[]</td>\n",
       "      <td>None</td>\n",
       "      <td>None</td>\n",
       "      <td>(139, 141)</td>\n",
       "      <td>MineralField</td>\n",
       "      <td>-1</td>\n",
       "      <td>Neutral</td>\n",
       "      <td>0</td>\n",
       "    </tr>\n",
       "    <tr>\n",
       "      <th>262145</th>\n",
       "      <td>None</td>\n",
       "      <td>0</td>\n",
       "      <td>False</td>\n",
       "      <td>262145</td>\n",
       "      <td>None</td>\n",
       "      <td>[]</td>\n",
       "      <td>None</td>\n",
       "      <td>None</td>\n",
       "      <td>(140, 139)</td>\n",
       "      <td>MineralField750</td>\n",
       "      <td>-1</td>\n",
       "      <td>Neutral</td>\n",
       "      <td>0</td>\n",
       "    </tr>\n",
       "    <tr>\n",
       "      <th>524289</th>\n",
       "      <td>None</td>\n",
       "      <td>0</td>\n",
       "      <td>False</td>\n",
       "      <td>524289</td>\n",
       "      <td>None</td>\n",
       "      <td>[]</td>\n",
       "      <td>None</td>\n",
       "      <td>None</td>\n",
       "      <td>(96, 96)</td>\n",
       "      <td>XelNagaTower</td>\n",
       "      <td>-1</td>\n",
       "      <td>Neutral</td>\n",
       "      <td>0</td>\n",
       "    </tr>\n",
       "    <tr>\n",
       "      <th>786433</th>\n",
       "      <td>None</td>\n",
       "      <td>0</td>\n",
       "      <td>False</td>\n",
       "      <td>786433</td>\n",
       "      <td>None</td>\n",
       "      <td>[]</td>\n",
       "      <td>None</td>\n",
       "      <td>None</td>\n",
       "      <td>(36, 26)</td>\n",
       "      <td>VespeneGeyser</td>\n",
       "      <td>-1</td>\n",
       "      <td>Neutral</td>\n",
       "      <td>0</td>\n",
       "    </tr>\n",
       "    <tr>\n",
       "      <th>1048577</th>\n",
       "      <td>None</td>\n",
       "      <td>0</td>\n",
       "      <td>False</td>\n",
       "      <td>1048577</td>\n",
       "      <td>None</td>\n",
       "      <td>[]</td>\n",
       "      <td>None</td>\n",
       "      <td>None</td>\n",
       "      <td>(26, 154)</td>\n",
       "      <td>VespeneGeyser</td>\n",
       "      <td>-1</td>\n",
       "      <td>Neutral</td>\n",
       "      <td>0</td>\n",
       "    </tr>\n",
       "  </tbody>\n",
       "</table>\n",
       "</div>"
      ],
      "text/plain": [
       "        died_at finished_at hallucinated       id killed_by killed_units  \\\n",
       "1          None           0        False        1      None           []   \n",
       "262145     None           0        False   262145      None           []   \n",
       "524289     None           0        False   524289      None           []   \n",
       "786433     None           0        False   786433      None           []   \n",
       "1048577    None           0        False  1048577      None           []   \n",
       "\n",
       "        killing_player killing_unit    location             name owner  \\\n",
       "1                 None         None  (139, 141)     MineralField    -1   \n",
       "262145            None         None  (140, 139)  MineralField750    -1   \n",
       "524289            None         None    (96, 96)     XelNagaTower    -1   \n",
       "786433            None         None    (36, 26)    VespeneGeyser    -1   \n",
       "1048577           None         None   (26, 154)    VespeneGeyser    -1   \n",
       "\n",
       "            race started_at  \n",
       "1        Neutral          0  \n",
       "262145   Neutral          0  \n",
       "524289   Neutral          0  \n",
       "786433   Neutral          0  \n",
       "1048577  Neutral          0  "
      ]
     },
     "execution_count": 25,
     "metadata": {},
     "output_type": "execute_result"
    }
   ],
   "source": [
    "unit_info_df = pd.DataFrame(very_lean_dict_replay['objects']).T\n",
    "unit_info_df.columns = very_lean_dict_replay['object_keys']\n",
    "unit_info_df.head()"
   ]
  },
  {
   "cell_type": "code",
   "execution_count": 26,
   "metadata": {},
   "outputs": [
    {
     "data": {
      "text/html": [
       "<div>\n",
       "<style>\n",
       "    .dataframe thead tr:only-child th {\n",
       "        text-align: right;\n",
       "    }\n",
       "\n",
       "    .dataframe thead th {\n",
       "        text-align: left;\n",
       "    }\n",
       "\n",
       "    .dataframe tbody tr th {\n",
       "        vertical-align: top;\n",
       "    }\n",
       "</style>\n",
       "<table border=\"1\" class=\"dataframe\">\n",
       "  <thead>\n",
       "    <tr style=\"text-align: right;\">\n",
       "      <th></th>\n",
       "      <th>frame</th>\n",
       "      <th>minerals_collection_rate</th>\n",
       "      <th>minerals_current</th>\n",
       "      <th>minerals_used_in_progress_army</th>\n",
       "      <th>minerals_used_in_progress_economy</th>\n",
       "      <th>minerals_used_in_progress_technology</th>\n",
       "      <th>pid</th>\n",
       "      <th>vespene_collection_rate</th>\n",
       "      <th>vespene_current</th>\n",
       "      <th>vespene_used_in_progress_army</th>\n",
       "      <th>vespene_used_in_progress_economy</th>\n",
       "      <th>vespene_used_in_progress_technology</th>\n",
       "    </tr>\n",
       "  </thead>\n",
       "  <tbody>\n",
       "    <tr>\n",
       "      <th>0</th>\n",
       "      <td>14880</td>\n",
       "      <td>2099</td>\n",
       "      <td>578</td>\n",
       "      <td>550</td>\n",
       "      <td>0</td>\n",
       "      <td>0</td>\n",
       "      <td>2</td>\n",
       "      <td>627</td>\n",
       "      <td>1061</td>\n",
       "      <td>125</td>\n",
       "      <td>0</td>\n",
       "      <td>0</td>\n",
       "    </tr>\n",
       "    <tr>\n",
       "      <th>1</th>\n",
       "      <td>17280</td>\n",
       "      <td>2351</td>\n",
       "      <td>388</td>\n",
       "      <td>1000</td>\n",
       "      <td>0</td>\n",
       "      <td>0</td>\n",
       "      <td>1</td>\n",
       "      <td>985</td>\n",
       "      <td>589</td>\n",
       "      <td>275</td>\n",
       "      <td>0</td>\n",
       "      <td>0</td>\n",
       "    </tr>\n",
       "    <tr>\n",
       "      <th>2</th>\n",
       "      <td>9440</td>\n",
       "      <td>2211</td>\n",
       "      <td>539</td>\n",
       "      <td>200</td>\n",
       "      <td>200</td>\n",
       "      <td>100</td>\n",
       "      <td>1</td>\n",
       "      <td>627</td>\n",
       "      <td>181</td>\n",
       "      <td>125</td>\n",
       "      <td>0</td>\n",
       "      <td>0</td>\n",
       "    </tr>\n",
       "    <tr>\n",
       "      <th>3</th>\n",
       "      <td>17280</td>\n",
       "      <td>1539</td>\n",
       "      <td>163</td>\n",
       "      <td>550</td>\n",
       "      <td>0</td>\n",
       "      <td>0</td>\n",
       "      <td>2</td>\n",
       "      <td>694</td>\n",
       "      <td>1004</td>\n",
       "      <td>125</td>\n",
       "      <td>0</td>\n",
       "      <td>0</td>\n",
       "    </tr>\n",
       "    <tr>\n",
       "      <th>4</th>\n",
       "      <td>8800</td>\n",
       "      <td>2771</td>\n",
       "      <td>172</td>\n",
       "      <td>500</td>\n",
       "      <td>300</td>\n",
       "      <td>100</td>\n",
       "      <td>1</td>\n",
       "      <td>649</td>\n",
       "      <td>24</td>\n",
       "      <td>275</td>\n",
       "      <td>0</td>\n",
       "      <td>100</td>\n",
       "    </tr>\n",
       "  </tbody>\n",
       "</table>\n",
       "</div>"
      ],
      "text/plain": [
       "   frame  minerals_collection_rate  minerals_current  \\\n",
       "0  14880                      2099               578   \n",
       "1  17280                      2351               388   \n",
       "2   9440                      2211               539   \n",
       "3  17280                      1539               163   \n",
       "4   8800                      2771               172   \n",
       "\n",
       "   minerals_used_in_progress_army  minerals_used_in_progress_economy  \\\n",
       "0                             550                                  0   \n",
       "1                            1000                                  0   \n",
       "2                             200                                200   \n",
       "3                             550                                  0   \n",
       "4                             500                                300   \n",
       "\n",
       "   minerals_used_in_progress_technology  pid  vespene_collection_rate  \\\n",
       "0                                     0    2                      627   \n",
       "1                                     0    1                      985   \n",
       "2                                   100    1                      627   \n",
       "3                                     0    2                      694   \n",
       "4                                   100    1                      649   \n",
       "\n",
       "   vespene_current  vespene_used_in_progress_army  \\\n",
       "0             1061                            125   \n",
       "1              589                            275   \n",
       "2              181                            125   \n",
       "3             1004                            125   \n",
       "4               24                            275   \n",
       "\n",
       "   vespene_used_in_progress_economy  vespene_used_in_progress_technology  \n",
       "0                                 0                                    0  \n",
       "1                                 0                                    0  \n",
       "2                                 0                                    0  \n",
       "3                                 0                                    0  \n",
       "4                                 0                                  100  "
      ]
     },
     "execution_count": 26,
     "metadata": {},
     "output_type": "execute_result"
    }
   ],
   "source": [
    "player_stats_df = pd.DataFrame(very_lean_dict_replay['player_stats'])\n",
    "player_stats_df.columns = very_lean_dict_replay['player_stat_keys']\n",
    "player_stats_df.head()"
   ]
  },
  {
   "cell_type": "markdown",
   "metadata": {},
   "source": [
    "## Rounding up\n",
    "All definitions built throughout this notebook led up to:\n",
    "\n",
    "    replay_to_dict \n",
    "    \n",
    "running the code collated below will give access to replay_to_dict. \n",
    "\n",
    "_The only dependnecy is sc2reader_"
   ]
  },
  {
   "cell_type": "code",
   "execution_count": 1,
   "metadata": {
    "collapsed": true
   },
   "outputs": [],
   "source": [
    "import sc2reader\n",
    "\n",
    "# Defining helper functions\n",
    "def getEvent(name = '', replay = None):\n",
    "    return list({event for event in replay.events if name in event.name})\n",
    "\n",
    "# Handling units and unit owners\n",
    "def to_dictOwner(player):\n",
    "    player_dict = {}\n",
    "    if player != None:\n",
    "        player_dict['owner'] = player.pid\n",
    "    else:\n",
    "        player_dict['owner'] = -1\n",
    "    return player_dict\n",
    "\n",
    "def to_dictUnit(unit):\n",
    "    wish_to_ignore = ['__','_type_class','flags','apply_flags', 'is_type', 'set_type','type_history','type']\n",
    "    unit_dict = {key:unit.__getattribute__(key) for key in unit.__dir__() \n",
    "            if all([ignore not in key for ignore in wish_to_ignore])}\n",
    "    \n",
    "    # Removing references to player objects\n",
    "    unit_dict.update(to_dictOwner(unit_dict['owner']))\n",
    "    if unit_dict['killed_by'] !=None:\n",
    "        unit_dict['killed_by'] = unit_dict['killed_by'].pid\n",
    "        unit_dict['killing_player'] = unit_dict['killed_by']\n",
    "    \n",
    "    # Removing references to unit objects\n",
    "    unit_dict['killed_units'] = [unit.id for unit in unit_dict['killed_units']]\n",
    "    if type(unit_dict['killing_unit']) != type(None):\n",
    "        unit_dict['killing_unit'] = unit_dict['killing_unit'].id\n",
    "        \n",
    "    return unit_dict\n",
    "\n",
    "# Handling events\n",
    "def to_dictPlayerStatsEvent(event):\n",
    "    wish_to_ignore = ['ff_','player','stats','name']\n",
    "    return {key.replace('food', 'supply'):event.__dict__[key] for key in event.__dict__.keys() \n",
    "            if all([ignore not in key for ignore in wish_to_ignore])}\n",
    "\n",
    "def to_dictUnitPositionsEvent(event):\n",
    "    return {'positions':{unit_update[0]:unit_update[1] for unit_update in event.positions},\n",
    "            'frame':event.frame,\n",
    "            'second':event.second}\n",
    "\n",
    "def to_dictUpgradeCompleteEvent(event):\n",
    "    return {'upgrade_type_name':event.upgrade_type_name,\n",
    "            'frame': event.frame,\n",
    "            'second': event.second,\n",
    "            'pid': event.pid}\n",
    "\n",
    "def to_dictEvent(event):\n",
    "    if event.name == 'PlayerStatsEvent':\n",
    "        return to_dictPlayerStatsEvent(event)\n",
    "    elif event.name == 'UnitPositionsEvent':\n",
    "        return to_dictUnitPositionsEvent(event)\n",
    "    elif event.name == 'UpgradeCompleteEvent':\n",
    "        return to_dictUpgradeCompleteEvent(event)\n",
    "    \n",
    "# Helper functions\n",
    "def to_dictContext(replay):\n",
    "    try:\n",
    "        return sc2reader.utils.toDict(replay)\n",
    "    except:\n",
    "        return replay.context\n",
    "    \n",
    "def to_dictObjects(replay):\n",
    "    return {key:to_dictUnit(replay.objects[key]) for key in replay.objects.keys()}\n",
    "\n",
    "def to_dictEvents(name, replay):\n",
    "    events = getEvent(name, replay)\n",
    "    return [to_dictEvent(event) for event in events]\n",
    "\n",
    "# Main function 1 of 2\n",
    "def to_dictReplay(replay):\n",
    "    replay_dict = {}\n",
    "    replay_dict['context'] = to_dictContext(replay)\n",
    "    replay_dict['objects'] = to_dictObjects(replay)\n",
    "    replay_dict['player_stats'] = to_dictEvents('PlayerStatsEvent', replay)\n",
    "    replay_dict['unit_positions'] = to_dictEvents('UnitPositionsEvent', replay)\n",
    "    replay_dict['upgrades'] = to_dictEvents('UpgradeCompleteEvent', replay)\n",
    "    return replay_dict\n",
    "\n",
    "# Helper function\n",
    "def dict_to_values(key_order, dictionary):\n",
    "    return [dictionary[key] for key in key_order]\n",
    "\n",
    "# Main function 2 of 2\n",
    "def to_lean_dict(dict_replay, look_up = False, deduce = False):\n",
    "    object_keys = sorted(list(list(dict_replay['objects'].values())[0].keys()))\n",
    "    player_stat_keys = sorted(list(dict_replay['player_stats'][0].keys()))\n",
    "    \n",
    "    if look_up == True:\n",
    "        can_be_looked_up = ['is_army','is_worker','is_building','minerals','supply','title','vespene']\n",
    "        object_keys = [key for key in object_keys if key not in can_be_looked_up]\n",
    "        \n",
    "    if deduce == True:\n",
    "        player_stat_keys = sorted(['frame','pid',\n",
    "                                   'minerals_collection_rate','minerals_current',\n",
    "                                   'minerals_used_in_progress_army',\n",
    "                                   'minerals_used_in_progress_economy',\n",
    "                                   'minerals_used_in_progress_technology',\n",
    "                                   'vespene_collection_rate','vespene_current',\n",
    "                                   'vespene_used_in_progress_army',\n",
    "                                   'vespene_used_in_progress_economy',\n",
    "                                   'vespene_used_in_progress_technology'])\n",
    "\n",
    "    lean_replay = dict_replay.copy()\n",
    "    lean_replay['object_keys'] = object_keys\n",
    "    lean_replay['player_stat_keys'] = player_stat_keys   \n",
    "    \n",
    "    lean_replay['objects'] = {key: dict_to_values(object_keys, dict_replay['objects'][key]) \n",
    "                              for key in dict_replay['objects'].keys()}\n",
    "    \n",
    "    lean_replay['player_stats'] = [dict_to_values(player_stat_keys, event) \n",
    "                                   for event in dict_replay['player_stats']]\n",
    "\n",
    "    return lean_replay\n",
    "\n",
    "# Wrapper function for 1 and 2\n",
    "def replay_to_dict(replay, look_up = True, deduce = True):\n",
    "    return to_lean_dict(to_dictReplay(replay), look_up = look_up, deduce = deduce)"
   ]
  },
  {
   "cell_type": "markdown",
   "metadata": {},
   "source": [
    "This code is saved as \n",
    "\n",
    "    replay_to_dict.py\n",
    "\n",
    "and is part of the Scripts module we are building."
   ]
  }
 ],
 "metadata": {
  "kernelspec": {
   "display_name": "Python 3",
   "language": "python",
   "name": "python3"
  },
  "language_info": {
   "codemirror_mode": {
    "name": "ipython",
    "version": 3
   },
   "file_extension": ".py",
   "mimetype": "text/x-python",
   "name": "python",
   "nbconvert_exporter": "python",
   "pygments_lexer": "ipython3",
   "version": "3.6.2"
  }
 },
 "nbformat": 4,
 "nbformat_minor": 2
}
