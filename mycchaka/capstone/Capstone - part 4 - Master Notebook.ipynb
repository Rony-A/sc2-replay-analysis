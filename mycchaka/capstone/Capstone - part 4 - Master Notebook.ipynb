{
 "cells": [
  {
   "cell_type": "code",
   "execution_count": 725,
   "metadata": {},
   "outputs": [
    {
     "data": {
      "text/html": [
       "<style>.container { width:91.0% !important; }</style>"
      ],
      "text/plain": [
       "<IPython.core.display.HTML object>"
      ]
     },
     "metadata": {},
     "output_type": "display_data"
    }
   ],
   "source": [
    "from Scripts.mklib import cell_width\n",
    "cell_width(140)"
   ]
  },
  {
   "cell_type": "markdown",
   "metadata": {},
   "source": [
    "### Capstone - StarCraft II<br>by Mycchaka Kleinbort\n",
    "\n",
    "<right><img src=\"./Images/AI_timeline.png\" style=\" margin: 5px; width: 1080px\"></right>"
   ]
  },
  {
   "cell_type": "markdown",
   "metadata": {},
   "source": [
    "It is perhaps inevitable that any game played by humans will eventualy become the subject of ongoing A.I. research. The framework of games - rules and objectives - is inherently suited to systematic study, and their ever increasing complexity has motivated a seemingly endless stream of new tools and insights.\n",
    "\n",
    "In November of 2016 Google DeepMind - in partnership with Blizzard entertainment - anounced their intention to make Starcraft 2 the focus of further A.I. research. In this project we seek to compile and explore the currently available data, to extract and infer features that can qualify a player's performance, and to validate these features by building several predictive models."
   ]
  },
  {
   "cell_type": "markdown",
   "metadata": {},
   "source": [
    "[](#objectives)\n",
    "## Objectives\n",
    "\n",
    ">The game lasted for 73 moves but eventually Deep Blue's operator had to resign the game for the computer in a position where both players had a bishop but Kasparov had three pawns to Deep Blue's one.\n",
    "<br>\n",
    "><div style=\"color:gray ; text-align: left\">_Kasparov vs Deep Blue - Game 2, 1996_</div>\n",
    "\n",
    "At low skill levels players often go through the motions of torching every house and eliminating every larva till the game engine grants them victory. However, much like in chess, experienced players know when it's over and conceed the match. \n",
    "\n",
    "This ability to distinguish between a dificult situation and a hopless one is admirable and as of yet utterly beyond thecapabilities of the game's AI. We hope that through exploring this aspect of the game, several interesting metrics for a player's performance will come to light.\n",
    "\n",
    "### Principal objective\n",
    "\n",
    "Our main goal is to build a predictive model that can predict a player's eventual surrender based on the game's current state. Formaly this will be a classification model that will take as input the game state and predict for each player weather they will eventually surrender or win the game.\n",
    "\n",
    "Intuition tells us that this model will be capable predicting the winner with increasing certainty and accuracy as the game progresses. Hopefully, by analyzing the model's predictions will allow us to percieve:\n",
    "\n",
    "   - games where a player's advantage is becoming ever more entrenched.\n",
    "   - games where the player manages to overcome a dificult situation.\n",
    "   - games where the odds of each player change dramatically due to one battle or choice. \n",
    "   \n",
    "### Preliminar objective\n",
    "\n",
    "Our task above has a very clear 'simplest case': \n",
    "\n",
    "    To predict who surrendered at the moment the game ended.\n",
    "\n",
    "Our first efforts are directed towards attaining a reasonably accurate model capable of predicting who was the winner given the final game state.\n",
    "\n",
    "For example "
   ]
  },
  {
   "cell_type": "code",
   "execution_count": 738,
   "metadata": {
    "scrolled": false
   },
   "outputs": [
    {
     "data": {
      "text/html": [
       "<iframe width=\"854\" height=\"480\" \n",
       "     src=\"https://www.youtube.com/embed/Yjj7QFV62p0?rel=0&amp;controls=1&amp;showinfo=0\" \n",
       "     frameborder=\"0\" allowfullscreen></iframe>"
      ],
      "text/plain": [
       "<IPython.core.display.HTML object>"
      ]
     },
     "execution_count": 738,
     "metadata": {},
     "output_type": "execute_result"
    }
   ],
   "source": [
    "from IPython.display import HTML\n",
    "# Youtube: A Terran vs Zerg game\n",
    "HTML(\"\"\"<iframe width=\"854\" height=\"480\" \n",
    "     src=\"https://www.youtube.com/embed/Yjj7QFV62p0?rel=0&amp;controls=1&amp;showinfo=0\" \n",
    "     frameborder=\"0\" allowfullscreen></iframe>\"\"\")"
   ]
  },
  {
   "cell_type": "markdown",
   "metadata": {},
   "source": [
    "### Scope\n",
    "\n",
    "We restrict our attention exclusively to:\n",
    "   - 1v1 games\n",
    "   - played under the latest major update to the game (LotV)\n",
    "   - in maps that have been part of the ladder rotation\n",
    "   - with the default competitive ruleset."
   ]
  },
  {
   "cell_type": "markdown",
   "metadata": {},
   "source": [
    "### Technical challenges resolved in other notebooks\n",
    "\n",
    "##### Sourcing the data:\n",
    "With approximately 100,000 StarCraft II games played daily, replay files are a dime a dozen. We sourced several hundred replay files through web scraping.\n",
    "\n",
    "The proces was relatively straigh forwad, but details can be found in the sister notebook:\n",
    "\n",
    "> Sourcing Data.ipynb\n",
    "\n",
    "##### The replay file format:\n",
    "A significan issue we faced was dealing with the unstructured data of replay files. \n",
    "\n",
    "It is not particularly important for the reader to be familiar whith Blizzard's proprietary format, but it is worth noting that:\n",
    "\n",
    "   - The replay files are a hexadecimal representation of human actions during the game. Due to the deterministic nature of StarCraft II this is all that is required for the game engine to produce a factsimilie of the match.\n",
    "   - We made use of sc2reader - an open source python library - to parse a replay files into a python object.\n",
    "   - We munged the information of the parsed files into elementary python objects improving loading times by 99.8%, ram consumption by 99%, and disk space by 50%. Details of our work in this area can be found in the sister notebook:\n",
    "\n",
    "> Converting replays to dictionaries.ipynb\n",
    "    "
   ]
  },
  {
   "cell_type": "markdown",
   "metadata": {},
   "source": [
    "## SECTION 1: Data Retrieval\n",
    "\n",
    "We start with explorig the dictioary represetatio of a replay file. We load the previously processed 422 games of the IEM Season XI - World Championship that took place in early 2017."
   ]
  },
  {
   "cell_type": "code",
   "execution_count": 6,
   "metadata": {
    "collapsed": true
   },
   "outputs": [],
   "source": [
    "import pickle\n",
    "with open('./../../../sc2games/PickledGames/iem_replays.p','rb') as corpus:\n",
    "    iem_games = pickle.load(corpus)\n",
    "    \n",
    "example_game = iem_games[0]"
   ]
  },
  {
   "cell_type": "code",
   "execution_count": 7,
   "metadata": {},
   "outputs": [
    {
     "data": {
      "text/plain": [
       "dict_keys(['context', 'objects', 'player_stats', 'unit_positions', 'upgrades', 'object_keys', 'player_stat_keys'])"
      ]
     },
     "execution_count": 7,
     "metadata": {},
     "output_type": "execute_result"
    }
   ],
   "source": [
    "example_game.keys()"
   ]
  },
  {
   "cell_type": "markdown",
   "metadata": {},
   "source": [
    "A pre-processed replay contains five sets of information: the objects, player stats, upgrade data, possition data and context. Repsectively, these ecode:\n",
    "\n",
    "##### Objects\n",
    "All units, buildigns, mieral deposits or other player-intractable objects that occured throughout the match. These are idexed by their unique id (internal to the game they were part of) and contain iformation shuch as their time of creation, their time of death, what player controlled and other features that can't be looked up in a referece table.\n",
    "\n",
    "##### Player stats\n",
    "The game keeps track of several player statistics at 10 second itervals throught the match. Several of these metrics for player performace may be deduced from the object data (such as total army value), but others (such as resource collection rate or upgrades in progress) are only available here. The player stats section of the pre-processed replay file contains the iformation that can't be deduced.\n",
    "\n",
    "##### Upgrade data\n",
    "The origianal replay files contained a log of evets, some of which indicated that a player had compleated an upgrade. Here we stored the upgrade obtained, the player who obtaied it, and the time at which this happened.\n",
    "\n",
    "##### Possition data\n",
    "The origial replay file has a somwhat eclectic behaviour with regards to unit possition tracking. In addition to the locations at the end of the game (or where the unit died) the game also logs - every 15 secods - the location of units that took damage within the last 15 seconds. Accurate unit tracking is a task performed by the game engine.\n",
    "\n",
    "Due to data quality issues, we will not include this data in our initial modeling.\n",
    "\n",
    "##### Context\n",
    "This is the metadata obtained through sc2reader. It includes the date of the game, the map, the player names, the version of the game, the ruleset used, the time zone, location of the game server that hosted the match, etc. Our main use of this iformation is to verify that a game falls within the scope of this project (1v1 games played with the stadard ruleset, on standard maps, since the most recent major change to the game).\n",
    "\n",
    "We convert this data to dataframes an perform some basic data cleaning"
   ]
  },
  {
   "cell_type": "markdown",
   "metadata": {},
   "source": [
    "### Units"
   ]
  },
  {
   "cell_type": "code",
   "execution_count": 8,
   "metadata": {
    "collapsed": true
   },
   "outputs": [],
   "source": [
    "import pandas as pd\n",
    "\n",
    "# Parsing unit data to dataframe\n",
    "def parse_unit_data(replay_dict):\n",
    "        df_units = pd.DataFrame(data = replay_dict['objects']).T\n",
    "        df_units.columns = columns=replay_dict['object_keys']\n",
    "        return df_units"
   ]
  },
  {
   "cell_type": "code",
   "execution_count": 9,
   "metadata": {},
   "outputs": [
    {
     "data": {
      "text/html": [
       "<div>\n",
       "<style>\n",
       "    .dataframe thead tr:only-child th {\n",
       "        text-align: right;\n",
       "    }\n",
       "\n",
       "    .dataframe thead th {\n",
       "        text-align: left;\n",
       "    }\n",
       "\n",
       "    .dataframe tbody tr th {\n",
       "        vertical-align: top;\n",
       "    }\n",
       "</style>\n",
       "<table border=\"1\" class=\"dataframe\">\n",
       "  <thead>\n",
       "    <tr style=\"text-align: right;\">\n",
       "      <th></th>\n",
       "      <th>died_at</th>\n",
       "      <th>finished_at</th>\n",
       "      <th>hallucinated</th>\n",
       "      <th>id</th>\n",
       "      <th>killed_by</th>\n",
       "      <th>killed_units</th>\n",
       "      <th>killing_player</th>\n",
       "      <th>killing_unit</th>\n",
       "      <th>location</th>\n",
       "      <th>name</th>\n",
       "      <th>owner</th>\n",
       "      <th>race</th>\n",
       "      <th>started_at</th>\n",
       "    </tr>\n",
       "  </thead>\n",
       "  <tbody>\n",
       "    <tr>\n",
       "      <th>82575362</th>\n",
       "      <td>6572</td>\n",
       "      <td>6540</td>\n",
       "      <td>False</td>\n",
       "      <td>82575362</td>\n",
       "      <td>2</td>\n",
       "      <td>[]</td>\n",
       "      <td>2</td>\n",
       "      <td>68419585</td>\n",
       "      <td>(66, 157)</td>\n",
       "      <td>KD8Charge</td>\n",
       "      <td>2</td>\n",
       "      <td>Neutral</td>\n",
       "      <td>6540</td>\n",
       "    </tr>\n",
       "    <tr>\n",
       "      <th>141033474</th>\n",
       "      <td>17509</td>\n",
       "      <td>15976</td>\n",
       "      <td>False</td>\n",
       "      <td>141033474</td>\n",
       "      <td>1</td>\n",
       "      <td>[133693444]</td>\n",
       "      <td>1</td>\n",
       "      <td>143654917</td>\n",
       "      <td>(88, 144)</td>\n",
       "      <td>Marine</td>\n",
       "      <td>2</td>\n",
       "      <td>Terran</td>\n",
       "      <td>15976</td>\n",
       "    </tr>\n",
       "    <tr>\n",
       "      <th>22806530</th>\n",
       "      <td>13834</td>\n",
       "      <td>12370</td>\n",
       "      <td>False</td>\n",
       "      <td>22806530</td>\n",
       "      <td>2</td>\n",
       "      <td>[126877697]</td>\n",
       "      <td>2</td>\n",
       "      <td>125829122</td>\n",
       "      <td>(94, 150)</td>\n",
       "      <td>Marine</td>\n",
       "      <td>1</td>\n",
       "      <td>Terran</td>\n",
       "      <td>12370</td>\n",
       "    </tr>\n",
       "    <tr>\n",
       "      <th>67633155</th>\n",
       "      <td>4225</td>\n",
       "      <td>4193</td>\n",
       "      <td>False</td>\n",
       "      <td>67633155</td>\n",
       "      <td>2</td>\n",
       "      <td>[]</td>\n",
       "      <td>2</td>\n",
       "      <td>68419585</td>\n",
       "      <td>(70, 157)</td>\n",
       "      <td>KD8Charge</td>\n",
       "      <td>2</td>\n",
       "      <td>Neutral</td>\n",
       "      <td>4193</td>\n",
       "    </tr>\n",
       "    <tr>\n",
       "      <th>3407874</th>\n",
       "      <td>17110</td>\n",
       "      <td>14558</td>\n",
       "      <td>False</td>\n",
       "      <td>3407874</td>\n",
       "      <td>1</td>\n",
       "      <td>[]</td>\n",
       "      <td>1</td>\n",
       "      <td>79953930</td>\n",
       "      <td>(67, 152)</td>\n",
       "      <td>Marine</td>\n",
       "      <td>2</td>\n",
       "      <td>Terran</td>\n",
       "      <td>14558</td>\n",
       "    </tr>\n",
       "  </tbody>\n",
       "</table>\n",
       "</div>"
      ],
      "text/plain": [
       "          died_at finished_at hallucinated         id killed_by killed_units  \\\n",
       "82575362     6572        6540        False   82575362         2           []   \n",
       "141033474   17509       15976        False  141033474         1  [133693444]   \n",
       "22806530    13834       12370        False   22806530         2  [126877697]   \n",
       "67633155     4225        4193        False   67633155         2           []   \n",
       "3407874     17110       14558        False    3407874         1           []   \n",
       "\n",
       "          killing_player killing_unit   location       name owner     race  \\\n",
       "82575362               2     68419585  (66, 157)  KD8Charge     2  Neutral   \n",
       "141033474              1    143654917  (88, 144)     Marine     2   Terran   \n",
       "22806530               2    125829122  (94, 150)     Marine     1   Terran   \n",
       "67633155               2     68419585  (70, 157)  KD8Charge     2  Neutral   \n",
       "3407874                1     79953930  (67, 152)     Marine     2   Terran   \n",
       "\n",
       "          started_at  \n",
       "82575362        6540  \n",
       "141033474      15976  \n",
       "22806530       12370  \n",
       "67633155        4193  \n",
       "3407874        14558  "
      ]
     },
     "execution_count": 9,
     "metadata": {},
     "output_type": "execute_result"
    }
   ],
   "source": [
    "example_units = parse_unit_data(example_game)\n",
    "example_units.sample(5, random_state=2)"
   ]
  },
  {
   "cell_type": "markdown",
   "metadata": {},
   "source": [
    "> Note that the unit of time is 'frames', the number if 16th of a second since the game started."
   ]
  },
  {
   "cell_type": "markdown",
   "metadata": {},
   "source": [
    "We will make the unit names lower case an unzip the location touples."
   ]
  },
  {
   "cell_type": "code",
   "execution_count": 10,
   "metadata": {
    "collapsed": true
   },
   "outputs": [],
   "source": [
    "def clean_unit_data(df_units):\n",
    "    df_units['x'], df_units['y'] = zip(*df_units['location'].values)\n",
    "    df_units = df_units.drop(['location'], axis=1)\n",
    "    df_units['name'] = df_units['name'].apply(lambda x:x.lower())\n",
    "    return df_units"
   ]
  },
  {
   "cell_type": "code",
   "execution_count": 11,
   "metadata": {},
   "outputs": [
    {
     "data": {
      "text/html": [
       "<div>\n",
       "<style>\n",
       "    .dataframe thead tr:only-child th {\n",
       "        text-align: right;\n",
       "    }\n",
       "\n",
       "    .dataframe thead th {\n",
       "        text-align: left;\n",
       "    }\n",
       "\n",
       "    .dataframe tbody tr th {\n",
       "        vertical-align: top;\n",
       "    }\n",
       "</style>\n",
       "<table border=\"1\" class=\"dataframe\">\n",
       "  <thead>\n",
       "    <tr style=\"text-align: right;\">\n",
       "      <th></th>\n",
       "      <th>died_at</th>\n",
       "      <th>finished_at</th>\n",
       "      <th>hallucinated</th>\n",
       "      <th>id</th>\n",
       "      <th>killed_by</th>\n",
       "      <th>killed_units</th>\n",
       "      <th>killing_player</th>\n",
       "      <th>killing_unit</th>\n",
       "      <th>name</th>\n",
       "      <th>owner</th>\n",
       "      <th>race</th>\n",
       "      <th>started_at</th>\n",
       "      <th>x</th>\n",
       "      <th>y</th>\n",
       "    </tr>\n",
       "  </thead>\n",
       "  <tbody>\n",
       "    <tr>\n",
       "      <th>82575362</th>\n",
       "      <td>6572</td>\n",
       "      <td>6540</td>\n",
       "      <td>False</td>\n",
       "      <td>82575362</td>\n",
       "      <td>2</td>\n",
       "      <td>[]</td>\n",
       "      <td>2</td>\n",
       "      <td>68419585</td>\n",
       "      <td>kd8charge</td>\n",
       "      <td>2</td>\n",
       "      <td>Neutral</td>\n",
       "      <td>6540</td>\n",
       "      <td>66</td>\n",
       "      <td>157</td>\n",
       "    </tr>\n",
       "    <tr>\n",
       "      <th>141033474</th>\n",
       "      <td>17509</td>\n",
       "      <td>15976</td>\n",
       "      <td>False</td>\n",
       "      <td>141033474</td>\n",
       "      <td>1</td>\n",
       "      <td>[133693444]</td>\n",
       "      <td>1</td>\n",
       "      <td>143654917</td>\n",
       "      <td>marine</td>\n",
       "      <td>2</td>\n",
       "      <td>Terran</td>\n",
       "      <td>15976</td>\n",
       "      <td>88</td>\n",
       "      <td>144</td>\n",
       "    </tr>\n",
       "    <tr>\n",
       "      <th>22806530</th>\n",
       "      <td>13834</td>\n",
       "      <td>12370</td>\n",
       "      <td>False</td>\n",
       "      <td>22806530</td>\n",
       "      <td>2</td>\n",
       "      <td>[126877697]</td>\n",
       "      <td>2</td>\n",
       "      <td>125829122</td>\n",
       "      <td>marine</td>\n",
       "      <td>1</td>\n",
       "      <td>Terran</td>\n",
       "      <td>12370</td>\n",
       "      <td>94</td>\n",
       "      <td>150</td>\n",
       "    </tr>\n",
       "    <tr>\n",
       "      <th>67633155</th>\n",
       "      <td>4225</td>\n",
       "      <td>4193</td>\n",
       "      <td>False</td>\n",
       "      <td>67633155</td>\n",
       "      <td>2</td>\n",
       "      <td>[]</td>\n",
       "      <td>2</td>\n",
       "      <td>68419585</td>\n",
       "      <td>kd8charge</td>\n",
       "      <td>2</td>\n",
       "      <td>Neutral</td>\n",
       "      <td>4193</td>\n",
       "      <td>70</td>\n",
       "      <td>157</td>\n",
       "    </tr>\n",
       "    <tr>\n",
       "      <th>3407874</th>\n",
       "      <td>17110</td>\n",
       "      <td>14558</td>\n",
       "      <td>False</td>\n",
       "      <td>3407874</td>\n",
       "      <td>1</td>\n",
       "      <td>[]</td>\n",
       "      <td>1</td>\n",
       "      <td>79953930</td>\n",
       "      <td>marine</td>\n",
       "      <td>2</td>\n",
       "      <td>Terran</td>\n",
       "      <td>14558</td>\n",
       "      <td>67</td>\n",
       "      <td>152</td>\n",
       "    </tr>\n",
       "  </tbody>\n",
       "</table>\n",
       "</div>"
      ],
      "text/plain": [
       "          died_at finished_at hallucinated         id killed_by killed_units  \\\n",
       "82575362     6572        6540        False   82575362         2           []   \n",
       "141033474   17509       15976        False  141033474         1  [133693444]   \n",
       "22806530    13834       12370        False   22806530         2  [126877697]   \n",
       "67633155     4225        4193        False   67633155         2           []   \n",
       "3407874     17110       14558        False    3407874         1           []   \n",
       "\n",
       "          killing_player killing_unit       name owner     race started_at  \\\n",
       "82575362               2     68419585  kd8charge     2  Neutral       6540   \n",
       "141033474              1    143654917     marine     2   Terran      15976   \n",
       "22806530               2    125829122     marine     1   Terran      12370   \n",
       "67633155               2     68419585  kd8charge     2  Neutral       4193   \n",
       "3407874                1     79953930     marine     2   Terran      14558   \n",
       "\n",
       "            x    y  \n",
       "82575362   66  157  \n",
       "141033474  88  144  \n",
       "22806530   94  150  \n",
       "67633155   70  157  \n",
       "3407874    67  152  "
      ]
     },
     "execution_count": 11,
     "metadata": {},
     "output_type": "execute_result"
    }
   ],
   "source": [
    "example_clean_units = clean_unit_data(example_units)\n",
    "example_clean_units.sample(5, random_state=2)"
   ]
  },
  {
   "cell_type": "markdown",
   "metadata": {},
   "source": [
    "### Player Stats"
   ]
  },
  {
   "cell_type": "code",
   "execution_count": 581,
   "metadata": {
    "collapsed": true
   },
   "outputs": [],
   "source": [
    "# Parsing player stats data into dataframe\n",
    "def parse_stats_data(replay_dict):\n",
    "    df_stats = pd.DataFrame(data = replay_dict['player_stats'])\n",
    "    df_stats.columns = columns=replay_dict['player_stat_keys']\n",
    "    return df_stats"
   ]
  },
  {
   "cell_type": "code",
   "execution_count": 13,
   "metadata": {},
   "outputs": [
    {
     "data": {
      "text/html": [
       "<div>\n",
       "<style>\n",
       "    .dataframe thead tr:only-child th {\n",
       "        text-align: right;\n",
       "    }\n",
       "\n",
       "    .dataframe thead th {\n",
       "        text-align: left;\n",
       "    }\n",
       "\n",
       "    .dataframe tbody tr th {\n",
       "        vertical-align: top;\n",
       "    }\n",
       "</style>\n",
       "<table border=\"1\" class=\"dataframe\">\n",
       "  <thead>\n",
       "    <tr style=\"text-align: right;\">\n",
       "      <th></th>\n",
       "      <th>0</th>\n",
       "      <th>1</th>\n",
       "      <th>2</th>\n",
       "      <th>3</th>\n",
       "      <th>4</th>\n",
       "      <th>5</th>\n",
       "      <th>6</th>\n",
       "      <th>7</th>\n",
       "      <th>8</th>\n",
       "      <th>9</th>\n",
       "      <th>10</th>\n",
       "      <th>11</th>\n",
       "      <th>12</th>\n",
       "      <th>13</th>\n",
       "      <th>14</th>\n",
       "    </tr>\n",
       "  </thead>\n",
       "  <tbody>\n",
       "    <tr>\n",
       "      <th>frame</th>\n",
       "      <td>17280</td>\n",
       "      <td>160</td>\n",
       "      <td>4800</td>\n",
       "      <td>11360</td>\n",
       "      <td>160</td>\n",
       "      <td>4800</td>\n",
       "      <td>11360</td>\n",
       "      <td>2400</td>\n",
       "      <td>12800</td>\n",
       "      <td>12800</td>\n",
       "      <td>15520</td>\n",
       "      <td>2400</td>\n",
       "      <td>7680</td>\n",
       "      <td>15520</td>\n",
       "      <td>7680</td>\n",
       "    </tr>\n",
       "    <tr>\n",
       "      <th>minerals_collection_rate</th>\n",
       "      <td>2351</td>\n",
       "      <td>335</td>\n",
       "      <td>1399</td>\n",
       "      <td>3219</td>\n",
       "      <td>251</td>\n",
       "      <td>1231</td>\n",
       "      <td>1987</td>\n",
       "      <td>867</td>\n",
       "      <td>2687</td>\n",
       "      <td>1875</td>\n",
       "      <td>1987</td>\n",
       "      <td>839</td>\n",
       "      <td>1791</td>\n",
       "      <td>2099</td>\n",
       "      <td>1623</td>\n",
       "    </tr>\n",
       "    <tr>\n",
       "      <th>minerals_current</th>\n",
       "      <td>388</td>\n",
       "      <td>40</td>\n",
       "      <td>105</td>\n",
       "      <td>50</td>\n",
       "      <td>30</td>\n",
       "      <td>240</td>\n",
       "      <td>68</td>\n",
       "      <td>75</td>\n",
       "      <td>735</td>\n",
       "      <td>188</td>\n",
       "      <td>143</td>\n",
       "      <td>50</td>\n",
       "      <td>165</td>\n",
       "      <td>463</td>\n",
       "      <td>68</td>\n",
       "    </tr>\n",
       "    <tr>\n",
       "      <th>minerals_used_in_progress_army</th>\n",
       "      <td>1000</td>\n",
       "      <td>0</td>\n",
       "      <td>250</td>\n",
       "      <td>400</td>\n",
       "      <td>0</td>\n",
       "      <td>100</td>\n",
       "      <td>550</td>\n",
       "      <td>50</td>\n",
       "      <td>600</td>\n",
       "      <td>600</td>\n",
       "      <td>950</td>\n",
       "      <td>50</td>\n",
       "      <td>500</td>\n",
       "      <td>850</td>\n",
       "      <td>200</td>\n",
       "    </tr>\n",
       "    <tr>\n",
       "      <th>minerals_used_in_progress_economy</th>\n",
       "      <td>0</td>\n",
       "      <td>50</td>\n",
       "      <td>200</td>\n",
       "      <td>0</td>\n",
       "      <td>50</td>\n",
       "      <td>100</td>\n",
       "      <td>400</td>\n",
       "      <td>550</td>\n",
       "      <td>100</td>\n",
       "      <td>150</td>\n",
       "      <td>0</td>\n",
       "      <td>550</td>\n",
       "      <td>500</td>\n",
       "      <td>0</td>\n",
       "      <td>100</td>\n",
       "    </tr>\n",
       "    <tr>\n",
       "      <th>minerals_used_in_progress_technology</th>\n",
       "      <td>0</td>\n",
       "      <td>0</td>\n",
       "      <td>0</td>\n",
       "      <td>575</td>\n",
       "      <td>0</td>\n",
       "      <td>0</td>\n",
       "      <td>0</td>\n",
       "      <td>0</td>\n",
       "      <td>400</td>\n",
       "      <td>275</td>\n",
       "      <td>0</td>\n",
       "      <td>0</td>\n",
       "      <td>300</td>\n",
       "      <td>150</td>\n",
       "      <td>425</td>\n",
       "    </tr>\n",
       "    <tr>\n",
       "      <th>pid</th>\n",
       "      <td>1</td>\n",
       "      <td>1</td>\n",
       "      <td>1</td>\n",
       "      <td>1</td>\n",
       "      <td>2</td>\n",
       "      <td>2</td>\n",
       "      <td>2</td>\n",
       "      <td>1</td>\n",
       "      <td>1</td>\n",
       "      <td>2</td>\n",
       "      <td>1</td>\n",
       "      <td>2</td>\n",
       "      <td>1</td>\n",
       "      <td>2</td>\n",
       "      <td>2</td>\n",
       "    </tr>\n",
       "    <tr>\n",
       "      <th>vespene_collection_rate</th>\n",
       "      <td>985</td>\n",
       "      <td>0</td>\n",
       "      <td>313</td>\n",
       "      <td>1007</td>\n",
       "      <td>0</td>\n",
       "      <td>313</td>\n",
       "      <td>649</td>\n",
       "      <td>179</td>\n",
       "      <td>940</td>\n",
       "      <td>627</td>\n",
       "      <td>1007</td>\n",
       "      <td>156</td>\n",
       "      <td>649</td>\n",
       "      <td>627</td>\n",
       "      <td>358</td>\n",
       "    </tr>\n",
       "    <tr>\n",
       "      <th>vespene_current</th>\n",
       "      <td>589</td>\n",
       "      <td>0</td>\n",
       "      <td>120</td>\n",
       "      <td>68</td>\n",
       "      <td>0</td>\n",
       "      <td>195</td>\n",
       "      <td>528</td>\n",
       "      <td>98</td>\n",
       "      <td>112</td>\n",
       "      <td>928</td>\n",
       "      <td>409</td>\n",
       "      <td>98</td>\n",
       "      <td>196</td>\n",
       "      <td>994</td>\n",
       "      <td>194</td>\n",
       "    </tr>\n",
       "    <tr>\n",
       "      <th>vespene_used_in_progress_army</th>\n",
       "      <td>275</td>\n",
       "      <td>0</td>\n",
       "      <td>100</td>\n",
       "      <td>325</td>\n",
       "      <td>0</td>\n",
       "      <td>0</td>\n",
       "      <td>325</td>\n",
       "      <td>50</td>\n",
       "      <td>325</td>\n",
       "      <td>200</td>\n",
       "      <td>250</td>\n",
       "      <td>50</td>\n",
       "      <td>275</td>\n",
       "      <td>275</td>\n",
       "      <td>125</td>\n",
       "    </tr>\n",
       "    <tr>\n",
       "      <th>vespene_used_in_progress_economy</th>\n",
       "      <td>0</td>\n",
       "      <td>0</td>\n",
       "      <td>0</td>\n",
       "      <td>0</td>\n",
       "      <td>0</td>\n",
       "      <td>0</td>\n",
       "      <td>0</td>\n",
       "      <td>0</td>\n",
       "      <td>0</td>\n",
       "      <td>0</td>\n",
       "      <td>0</td>\n",
       "      <td>0</td>\n",
       "      <td>0</td>\n",
       "      <td>0</td>\n",
       "      <td>0</td>\n",
       "    </tr>\n",
       "    <tr>\n",
       "      <th>vespene_used_in_progress_technology</th>\n",
       "      <td>0</td>\n",
       "      <td>0</td>\n",
       "      <td>0</td>\n",
       "      <td>200</td>\n",
       "      <td>0</td>\n",
       "      <td>0</td>\n",
       "      <td>0</td>\n",
       "      <td>0</td>\n",
       "      <td>100</td>\n",
       "      <td>100</td>\n",
       "      <td>0</td>\n",
       "      <td>0</td>\n",
       "      <td>0</td>\n",
       "      <td>100</td>\n",
       "      <td>0</td>\n",
       "    </tr>\n",
       "  </tbody>\n",
       "</table>\n",
       "</div>"
      ],
      "text/plain": [
       "                                         0    1     2      3    4     5   \\\n",
       "frame                                 17280  160  4800  11360  160  4800   \n",
       "minerals_collection_rate               2351  335  1399   3219  251  1231   \n",
       "minerals_current                        388   40   105     50   30   240   \n",
       "minerals_used_in_progress_army         1000    0   250    400    0   100   \n",
       "minerals_used_in_progress_economy         0   50   200      0   50   100   \n",
       "minerals_used_in_progress_technology      0    0     0    575    0     0   \n",
       "pid                                       1    1     1      1    2     2   \n",
       "vespene_collection_rate                 985    0   313   1007    0   313   \n",
       "vespene_current                         589    0   120     68    0   195   \n",
       "vespene_used_in_progress_army           275    0   100    325    0     0   \n",
       "vespene_used_in_progress_economy          0    0     0      0    0     0   \n",
       "vespene_used_in_progress_technology       0    0     0    200    0     0   \n",
       "\n",
       "                                         6     7      8      9      10    11  \\\n",
       "frame                                 11360  2400  12800  12800  15520  2400   \n",
       "minerals_collection_rate               1987   867   2687   1875   1987   839   \n",
       "minerals_current                         68    75    735    188    143    50   \n",
       "minerals_used_in_progress_army          550    50    600    600    950    50   \n",
       "minerals_used_in_progress_economy       400   550    100    150      0   550   \n",
       "minerals_used_in_progress_technology      0     0    400    275      0     0   \n",
       "pid                                       2     1      1      2      1     2   \n",
       "vespene_collection_rate                 649   179    940    627   1007   156   \n",
       "vespene_current                         528    98    112    928    409    98   \n",
       "vespene_used_in_progress_army           325    50    325    200    250    50   \n",
       "vespene_used_in_progress_economy          0     0      0      0      0     0   \n",
       "vespene_used_in_progress_technology       0     0    100    100      0     0   \n",
       "\n",
       "                                        12     13    14  \n",
       "frame                                 7680  15520  7680  \n",
       "minerals_collection_rate              1791   2099  1623  \n",
       "minerals_current                       165    463    68  \n",
       "minerals_used_in_progress_army         500    850   200  \n",
       "minerals_used_in_progress_economy      500      0   100  \n",
       "minerals_used_in_progress_technology   300    150   425  \n",
       "pid                                      1      2     2  \n",
       "vespene_collection_rate                649    627   358  \n",
       "vespene_current                        196    994   194  \n",
       "vespene_used_in_progress_army          275    275   125  \n",
       "vespene_used_in_progress_economy         0      0     0  \n",
       "vespene_used_in_progress_technology      0    100     0  "
      ]
     },
     "execution_count": 13,
     "metadata": {},
     "output_type": "execute_result"
    }
   ],
   "source": [
    "example_stats = parse_stats_data(example_game)\n",
    "\n",
    "# We display the traspose for readibility\n",
    "example_stats.head(15).T"
   ]
  },
  {
   "cell_type": "markdown",
   "metadata": {},
   "source": [
    "### Upgrades"
   ]
  },
  {
   "cell_type": "code",
   "execution_count": 582,
   "metadata": {
    "collapsed": true
   },
   "outputs": [],
   "source": [
    "# Parsing unpgrade data to dataframe\n",
    "def parse_upgrade_data(replay_dict):\n",
    "    df_upgrades = pd.DataFrame(replay_dict['upgrades'])\n",
    "    return df_upgrades"
   ]
  },
  {
   "cell_type": "code",
   "execution_count": 583,
   "metadata": {},
   "outputs": [
    {
     "data": {
      "text/html": [
       "<div>\n",
       "<style>\n",
       "    .dataframe thead tr:only-child th {\n",
       "        text-align: right;\n",
       "    }\n",
       "\n",
       "    .dataframe thead th {\n",
       "        text-align: left;\n",
       "    }\n",
       "\n",
       "    .dataframe tbody tr th {\n",
       "        vertical-align: top;\n",
       "    }\n",
       "</style>\n",
       "<table border=\"1\" class=\"dataframe\">\n",
       "  <thead>\n",
       "    <tr style=\"text-align: right;\">\n",
       "      <th></th>\n",
       "      <th>frame</th>\n",
       "      <th>pid</th>\n",
       "      <th>second</th>\n",
       "      <th>upgrade_type_name</th>\n",
       "    </tr>\n",
       "  </thead>\n",
       "  <tbody>\n",
       "    <tr>\n",
       "      <th>1</th>\n",
       "      <td>10277</td>\n",
       "      <td>2</td>\n",
       "      <td>642</td>\n",
       "      <td>ShieldWall</td>\n",
       "    </tr>\n",
       "    <tr>\n",
       "      <th>0</th>\n",
       "      <td>2317</td>\n",
       "      <td>2</td>\n",
       "      <td>144</td>\n",
       "      <td>SprayTerran</td>\n",
       "    </tr>\n",
       "    <tr>\n",
       "      <th>14</th>\n",
       "      <td>0</td>\n",
       "      <td>1</td>\n",
       "      <td>0</td>\n",
       "      <td>SprayTerran</td>\n",
       "    </tr>\n",
       "    <tr>\n",
       "      <th>9</th>\n",
       "      <td>14796</td>\n",
       "      <td>1</td>\n",
       "      <td>924</td>\n",
       "      <td>TerranInfantryWeaponsLevel2</td>\n",
       "    </tr>\n",
       "    <tr>\n",
       "      <th>19</th>\n",
       "      <td>16508</td>\n",
       "      <td>2</td>\n",
       "      <td>1031</td>\n",
       "      <td>TerranInfantryArmorsLevel2</td>\n",
       "    </tr>\n",
       "  </tbody>\n",
       "</table>\n",
       "</div>"
      ],
      "text/plain": [
       "    frame  pid  second            upgrade_type_name\n",
       "1   10277    2     642                   ShieldWall\n",
       "0    2317    2     144                  SprayTerran\n",
       "14      0    1       0                  SprayTerran\n",
       "9   14796    1     924  TerranInfantryWeaponsLevel2\n",
       "19  16508    2    1031   TerranInfantryArmorsLevel2"
      ]
     },
     "execution_count": 583,
     "metadata": {},
     "output_type": "execute_result"
    }
   ],
   "source": [
    "example_upgrades = parse_upgrade_data(example_game)\n",
    "example_upgrades.sample(5, random_state=2)"
   ]
  },
  {
   "cell_type": "markdown",
   "metadata": {},
   "source": [
    "This revealed a curios eccenticity of the game - cosmetic decorations, dance emotes and other superfluos information is logged as upgrades. We drop that information."
   ]
  },
  {
   "cell_type": "code",
   "execution_count": 16,
   "metadata": {
    "collapsed": true
   },
   "outputs": [],
   "source": [
    "def clean_upgrade_data(df_upgrades):\n",
    "    return df_upgrades[['SprayTerran' not in x and 'Reward' not in x for x in df_upgrades['upgrade_type_name']]]"
   ]
  },
  {
   "cell_type": "code",
   "execution_count": 17,
   "metadata": {},
   "outputs": [
    {
     "data": {
      "text/html": [
       "<div>\n",
       "<style>\n",
       "    .dataframe thead tr:only-child th {\n",
       "        text-align: right;\n",
       "    }\n",
       "\n",
       "    .dataframe thead th {\n",
       "        text-align: left;\n",
       "    }\n",
       "\n",
       "    .dataframe tbody tr th {\n",
       "        vertical-align: top;\n",
       "    }\n",
       "</style>\n",
       "<table border=\"1\" class=\"dataframe\">\n",
       "  <thead>\n",
       "    <tr style=\"text-align: right;\">\n",
       "      <th></th>\n",
       "      <th>frame</th>\n",
       "      <th>pid</th>\n",
       "      <th>second</th>\n",
       "      <th>upgrade_type_name</th>\n",
       "    </tr>\n",
       "  </thead>\n",
       "  <tbody>\n",
       "    <tr>\n",
       "      <th>22</th>\n",
       "      <td>10479</td>\n",
       "      <td>2</td>\n",
       "      <td>654</td>\n",
       "      <td>TerranInfantryWeaponsLevel1</td>\n",
       "    </tr>\n",
       "    <tr>\n",
       "      <th>11</th>\n",
       "      <td>14798</td>\n",
       "      <td>1</td>\n",
       "      <td>924</td>\n",
       "      <td>TerranInfantryArmorsLevel2</td>\n",
       "    </tr>\n",
       "    <tr>\n",
       "      <th>13</th>\n",
       "      <td>16180</td>\n",
       "      <td>2</td>\n",
       "      <td>1011</td>\n",
       "      <td>TerranVehicleWeaponsLevel1</td>\n",
       "    </tr>\n",
       "    <tr>\n",
       "      <th>1</th>\n",
       "      <td>10277</td>\n",
       "      <td>2</td>\n",
       "      <td>642</td>\n",
       "      <td>ShieldWall</td>\n",
       "    </tr>\n",
       "    <tr>\n",
       "      <th>19</th>\n",
       "      <td>16508</td>\n",
       "      <td>2</td>\n",
       "      <td>1031</td>\n",
       "      <td>TerranInfantryArmorsLevel2</td>\n",
       "    </tr>\n",
       "  </tbody>\n",
       "</table>\n",
       "</div>"
      ],
      "text/plain": [
       "    frame  pid  second            upgrade_type_name\n",
       "22  10479    2     654  TerranInfantryWeaponsLevel1\n",
       "11  14798    1     924   TerranInfantryArmorsLevel2\n",
       "13  16180    2    1011   TerranVehicleWeaponsLevel1\n",
       "1   10277    2     642                   ShieldWall\n",
       "19  16508    2    1031   TerranInfantryArmorsLevel2"
      ]
     },
     "execution_count": 17,
     "metadata": {},
     "output_type": "execute_result"
    }
   ],
   "source": [
    "example_upgrades_clean = clean_upgrade_data(example_upgrades)\n",
    "example_upgrades_clean.sample(5, random_state=2)"
   ]
  },
  {
   "cell_type": "markdown",
   "metadata": {},
   "source": [
    "## Context\n",
    "\n",
    "Lets take a look at the metadata associated to our example game."
   ]
  },
  {
   "cell_type": "code",
   "execution_count": 18,
   "metadata": {},
   "outputs": [
    {
     "data": {
      "text/plain": [
       "build                                                         49957\n",
       "category                                                    Private\n",
       "date                                            2017-03-04 11:33:31\n",
       "file_time                                                      None\n",
       "filehash          360f14af4958e8b31ffe210e59696cfe2cbc10e1d1f463...\n",
       "filename          ./../../../sc2games/IEM XI - World Championshi...\n",
       "frames                                                        17624\n",
       "game_fps                                                         16\n",
       "game_length                                                     786\n",
       "is_ladder                                                     False\n",
       "is_private                                                     True\n",
       "map_name                                    Cactus Valley LE (Void)\n",
       "observers         [{'name': 'CasterOne', 'pid': 3, 'messages': [...\n",
       "players           [{'avg_apm': None, 'color': {'r': 180, 'g': 20...\n",
       "real_length                                                     786\n",
       "real_type                                                       1v1\n",
       "region                                                           xx\n",
       "release                                                3.10.1.49957\n",
       "speed                                                        Faster\n",
       "time_zone                                                         1\n",
       "type                                                            1v1\n",
       "unix_timestamp                                           1488627211\n",
       "utc_date                                                       None\n",
       "versions                                [1, 3, 10, 1, 49957, 49716]\n",
       "dtype: object"
      ]
     },
     "execution_count": 18,
     "metadata": {},
     "output_type": "execute_result"
    }
   ],
   "source": [
    "pd.Series(example_game['context'])"
   ]
  },
  {
   "cell_type": "markdown",
   "metadata": {},
   "source": [
    "Much of this information will be used for checking the data quality of the replay file, and that if falls within the scope of our project. Of note is the terrible labeling of the game type by sc2reader. We've encountered games with \n",
    "\n",
    "    type = '1v1'\n",
    "    real_type = 1\n",
    "    len(players) = 6\n",
    "    \n",
    "We consider a game to be a true '1v1' if the list of players has a legth of exacly two.\n",
    "\n",
    "The most importat part of the context information is the outcome of the game. This can be retrieved by looking at the player data."
   ]
  },
  {
   "cell_type": "code",
   "execution_count": 19,
   "metadata": {},
   "outputs": [
    {
     "data": {
      "text/plain": [
       "{'avg_apm': None,\n",
       " 'color': {'a': 255, 'b': 30, 'g': 20, 'name': 'Red', 'r': 180},\n",
       " 'handicap': 100,\n",
       " 'messages': [],\n",
       " 'name': 'INnoVation',\n",
       " 'pick_race': 'Terran',\n",
       " 'pid': 1,\n",
       " 'play_race': 'Terran',\n",
       " 'result': 'Win',\n",
       " 'type': None,\n",
       " 'uid': 4,\n",
       " 'url': 'http://xx.battle.net/sc2/en/profile/523/1/INnoVation/'}"
      ]
     },
     "execution_count": 19,
     "metadata": {},
     "output_type": "execute_result"
    }
   ],
   "source": [
    "# player 1\n",
    "example_game['context']['players'][0]"
   ]
  },
  {
   "cell_type": "code",
   "execution_count": 118,
   "metadata": {
    "collapsed": true
   },
   "outputs": [],
   "source": [
    "# Parse the game metadata for the outcome for players 1 and 2\n",
    "def parse_outcome_data(replay_dict):\n",
    "    outcome = {player['result']:player['pid'] for player in replay_dict['context']['players']}\n",
    "    return outcome"
   ]
  },
  {
   "cell_type": "code",
   "execution_count": 119,
   "metadata": {},
   "outputs": [
    {
     "data": {
      "text/plain": [
       "{'Loss': 2, 'Win': 1}"
      ]
     },
     "execution_count": 119,
     "metadata": {},
     "output_type": "execute_result"
    }
   ],
   "source": [
    "parse_outcome_data(example_game)"
   ]
  },
  {
   "cell_type": "markdown",
   "metadata": {},
   "source": [
    "### Preliminary processing \n",
    "We can combine these preliminary data cleaning steps into a dictionary"
   ]
  },
  {
   "cell_type": "code",
   "execution_count": 236,
   "metadata": {
    "collapsed": true
   },
   "outputs": [],
   "source": [
    "def preliminary_processing(replay_dict):\n",
    "    dict_of_dataframes = {'units': clean_unit_data(parse_unit_data(replay_dict)),\n",
    "                          'stats': parse_stats_data(replay_dict),\n",
    "                          'upgrades': clean_upgrade_data(parse_upgrade_data(replay_dict)),\n",
    "                          'context': replay_dict['context'],\n",
    "                          'outcome':parse_outcome_data(replay_dict)}\n",
    "    return dict_of_dataframes"
   ]
  },
  {
   "cell_type": "code",
   "execution_count": 237,
   "metadata": {
    "collapsed": true
   },
   "outputs": [],
   "source": [
    "example_parsed_game = preliminary_processing(example_game)"
   ]
  },
  {
   "cell_type": "markdown",
   "metadata": {},
   "source": [
    "## Section 2: Munging the data to a 1-d array.\n",
    "These tables all describe a single game, but our intention is to analyse a corpus of games. To this end, the state of a single game needs to be represented as a 1-d numeric array. In this section we represent the final state of the game as a pandas series.\n",
    "\n",
    "Throught our feature extraction we will abide by the following convention when naming our features.\n",
    "\n",
    "    The fist character corresponds to the player this feature relates to\n",
    "        (features that relate to both players equaly start with an alphanumeric character)\n",
    "       \n",
    "    The second letter encodes the source of this feature.\n",
    "        S - stats data\n",
    "        U - upgrade data\n",
    "        C - clustering data\n",
    "        T,Z,P - unit tally data for Terran, Zerg and Protoss units"
   ]
  },
  {
   "cell_type": "markdown",
   "metadata": {},
   "source": [
    "### Player stats data\n",
    "Converting player stats data to a series is straight forwards. We simply need to find the last update to each player's stats, alter the feature names to encode the player they refer to, and concatenate this information for both players."
   ]
  },
  {
   "cell_type": "code",
   "execution_count": 238,
   "metadata": {
    "collapsed": true
   },
   "outputs": [],
   "source": [
    "def get_stats_end(dict_of_dataframes):\n",
    "    \"\"\"returns a series with the stats \n",
    "    for each player at the end of the game\"\"\"\n",
    "    df = dict_of_dataframes['stats'].sort_values(by='frame').tail(3)\n",
    "    \n",
    "    p1 = df[df['pid']==1].tail(1).to_dict()\n",
    "    p2 = df[df['pid']==2].tail(1).to_dict()\n",
    "\n",
    "    # We use the prefix S to specify that a specific feature is stats data.\n",
    "    p1 = {'1'+'S_'+key:list(p1[key].values())[0] for key in p1.keys()}\n",
    "    p2 = {'2'+'S_'+key:list(p2[key].values())[0] for key in p2.keys()}\n",
    "\n",
    "    return pd.Series({**p1,**p2}).drop(['1S_frame','2S_frame','1S_pid','2S_pid'])"
   ]
  },
  {
   "cell_type": "code",
   "execution_count": 239,
   "metadata": {},
   "outputs": [
    {
     "data": {
      "text/plain": [
       "1S_minerals_collection_rate                2351\n",
       "1S_minerals_current                          63\n",
       "1S_minerals_used_in_progress_army          1150\n",
       "1S_minerals_used_in_progress_economy          0\n",
       "1S_minerals_used_in_progress_technology       0\n",
       "1S_vespene_collection_rate                  985\n",
       "1S_vespene_current                          555\n",
       "1S_vespene_used_in_progress_army            400\n",
       "1S_vespene_used_in_progress_economy           0\n",
       "1S_vespene_used_in_progress_technology        0\n",
       "2S_minerals_collection_rate                1595\n",
       "2S_minerals_current                         118\n",
       "2S_minerals_used_in_progress_army           400\n",
       "2S_minerals_used_in_progress_economy          0\n",
       "2S_minerals_used_in_progress_technology       0\n",
       "2S_vespene_collection_rate                  627\n",
       "2S_vespene_current                         1144\n",
       "2S_vespene_used_in_progress_army              0\n",
       "2S_vespene_used_in_progress_economy           0\n",
       "2S_vespene_used_in_progress_technology        0\n",
       "dtype: int64"
      ]
     },
     "execution_count": 239,
     "metadata": {},
     "output_type": "execute_result"
    }
   ],
   "source": [
    "get_stats_end(example_parsed_game)"
   ]
  },
  {
   "cell_type": "markdown",
   "metadata": {},
   "source": [
    "Note that several key pieces of information, such as the total army mineral value, total army size or number of workers. In principle this attributes are all linear combinations of the units alive at the given time, and "
   ]
  },
  {
   "cell_type": "markdown",
   "metadata": {},
   "source": [
    "### Upgrade data\n",
    "Once an upgrade is unlocked it remains unlocked permanently. Therefore, finding the upgrades in p;ay at the end of the game is simply the sum accross time of all upgrades unlocked (grouped by player)."
   ]
  },
  {
   "cell_type": "code",
   "execution_count": 596,
   "metadata": {
    "collapsed": true
   },
   "outputs": [],
   "source": [
    "def get_upgrades_end_part_1(dict_of_dataframes):\n",
    "    if dict_of_dataframes['upgrades'].shape[0] == 0:\n",
    "        upgrades = None\n",
    "    else:\n",
    "        upgrades = dict_of_dataframes['upgrades'].drop(['frame','second'], axis=1)\\\n",
    "                .groupby('pid')\\\n",
    "                .apply(lambda x: pd.get_dummies(x, prefix=[str(x['pid'].iloc[0])+'U']))\\\n",
    "                .drop(['pid'], axis=1)\\\n",
    "                .sum()\n",
    "                \n",
    "    return upgrades"
   ]
  },
  {
   "cell_type": "code",
   "execution_count": 592,
   "metadata": {},
   "outputs": [
    {
     "data": {
      "text/plain": [
       "1U_ShieldWall                     1.0\n",
       "1U_Stimpack                       1.0\n",
       "1U_TerranInfantryArmorsLevel1     1.0\n",
       "1U_TerranInfantryArmorsLevel2     1.0\n",
       "1U_TerranInfantryWeaponsLevel1    1.0\n",
       "1U_TerranInfantryWeaponsLevel2    1.0\n",
       "1U_TerranVehicleWeaponsLevel1     1.0\n",
       "2U_ShieldWall                     1.0\n",
       "2U_Stimpack                       1.0\n",
       "2U_TerranInfantryArmorsLevel1     1.0\n",
       "2U_TerranInfantryArmorsLevel2     1.0\n",
       "2U_TerranInfantryWeaponsLevel1    1.0\n",
       "2U_TerranInfantryWeaponsLevel2    1.0\n",
       "2U_TerranVehicleWeaponsLevel1     1.0\n",
       "dtype: float64"
      ]
     },
     "execution_count": 592,
     "metadata": {},
     "output_type": "execute_result"
    }
   ],
   "source": [
    "get_upgrades_end_part_1(example_parsed_game)"
   ]
  },
  {
   "cell_type": "markdown",
   "metadata": {},
   "source": [
    "This is exacly what we hoped for. \n",
    "\n",
    "Note that each upgrade may be obtained only once by each player, and that only upgrades that were obtainend (not all possible upgrades) are showing up - hence the value of 1 for each upgrade. \n",
    "\n",
    "Some upgrades are tiered, with higher tier ones only obtainable where a lower tier one has been unlocked. For example, player 1 had to unlock TerranInfantryArmorsLevel1 before researching TerranInfantryArmorsLevel2, and TerranInfantryWeaponsLevel1 before TerranInfantryWeaponsLevel2.\n",
    "\n",
    "For these upgrades, a better representatio would be the upgrade name followed by the tier unlocked."
   ]
  },
  {
   "cell_type": "code",
   "execution_count": 593,
   "metadata": {
    "collapsed": true
   },
   "outputs": [],
   "source": [
    "def get_upgrades_end_part_2(upgrades):\n",
    "    if upgrades is None:\n",
    "        return None\n",
    "    else:\n",
    "        upgrades = [name[:-1] if name[-1].isdigit() else name for name in upgrades.index]\n",
    "        return pd.Series(upgrades).value_counts()\n",
    "\n",
    "def get_upgrades_end(dict_of_dataframes):\n",
    "    \"\"\"returns a series with the upgrades unlocked (and their tier)\n",
    "    for each player at the end of the game\"\"\"\n",
    "    return get_upgrades_end_part_2(get_upgrades_end_part_1(dict_of_dataframes))"
   ]
  },
  {
   "cell_type": "code",
   "execution_count": 594,
   "metadata": {},
   "outputs": [
    {
     "data": {
      "text/plain": [
       "2U_TerranInfantryArmorsLevel     2\n",
       "2U_TerranInfantryWeaponsLevel    2\n",
       "1U_TerranInfantryArmorsLevel     2\n",
       "1U_TerranInfantryWeaponsLevel    2\n",
       "2U_Stimpack                      1\n",
       "1U_ShieldWall                    1\n",
       "2U_ShieldWall                    1\n",
       "2U_TerranVehicleWeaponsLevel     1\n",
       "1U_TerranVehicleWeaponsLevel     1\n",
       "1U_Stimpack                      1\n",
       "dtype: int64"
      ]
     },
     "execution_count": 594,
     "metadata": {},
     "output_type": "execute_result"
    }
   ],
   "source": [
    "get_upgrades_end(example_parsed_game)"
   ]
  },
  {
   "cell_type": "markdown",
   "metadata": {},
   "source": [
    "### Units\n",
    "\n",
    "The units in play are our main source of data, but turning the information they contain into a one dimentional array is also our main challenge."
   ]
  },
  {
   "cell_type": "markdown",
   "metadata": {},
   "source": [
    "##### Bag of units\n",
    "We can take a page from NLP and consider a \"bag of units\" tokenization of the units at play. This is effectively a tally of the varuous unit types alive when the game ended, segregated by player.\n",
    "\n",
    "This data can then be ussed in combination with a lookup table to give us metrics such as, total army size, total army value, number of workers, number of bases, etc.\n",
    "\n",
    "This can also be used to consider the significance of having air superiority, invisible units, many cheap units or a few high quality ones. All aggrgations could result in interesting features.\n"
   ]
  },
  {
   "cell_type": "code",
   "execution_count": 549,
   "metadata": {
    "collapsed": true
   },
   "outputs": [],
   "source": [
    "def get_unit_tally_end(dict_of_dataframes):\n",
    "        \"\"\"returns a series with tallies of units \n",
    "        for each player at the end of the game\"\"\"\n",
    "        df = dict_of_dataframes['units']\n",
    "        \n",
    "        # We select the units that never died, belonnging to either player\n",
    "        df = df[df['died_at'].apply(lambda x: isinstance(x, type(None)))]\n",
    "        df = df[df['race']!= 'Neutral']\n",
    " \n",
    "        # We prefix the unit names with the player id, and unit race initial (T,Z or P)\n",
    "        tally = df[['owner','race','name']]\\\n",
    "                 .apply(lambda x: str(x['owner'])+x['race'][0]+'_'+ x['name'], axis=1)\\\n",
    "                 .value_counts()\n",
    "        return tally"
   ]
  },
  {
   "cell_type": "code",
   "execution_count": 550,
   "metadata": {},
   "outputs": [
    {
     "data": {
      "text/plain": [
       "1T_scv            68\n",
       "2T_scv            59\n",
       "1T_marine         34\n",
       "1T_supplydepot    13\n",
       "1T_medivac        12\n",
       "dtype: int64"
      ]
     },
     "execution_count": 550,
     "metadata": {},
     "output_type": "execute_result"
    }
   ],
   "source": [
    "example_unit_tally = get_unit_tally_end(example_parsed_game)\n",
    "example_unit_tally.head(5)"
   ]
  },
  {
   "cell_type": "markdown",
   "metadata": {},
   "source": [
    "However, sadly, this throws away our most iteresting and defining data source: the possition of units. \n",
    "\n",
    "Our next task is to convert the spatial arrangement of units to a 1-d array."
   ]
  },
  {
   "cell_type": "markdown",
   "metadata": {},
   "source": [
    "##### Analysis of unit positions"
   ]
  },
  {
   "cell_type": "code",
   "execution_count": 158,
   "metadata": {},
   "outputs": [
    {
     "data": {
      "text/html": [
       "<div>\n",
       "<style>\n",
       "    .dataframe thead tr:only-child th {\n",
       "        text-align: right;\n",
       "    }\n",
       "\n",
       "    .dataframe thead th {\n",
       "        text-align: left;\n",
       "    }\n",
       "\n",
       "    .dataframe tbody tr th {\n",
       "        vertical-align: top;\n",
       "    }\n",
       "</style>\n",
       "<table border=\"1\" class=\"dataframe\">\n",
       "  <thead>\n",
       "    <tr style=\"text-align: right;\">\n",
       "      <th></th>\n",
       "      <th>name</th>\n",
       "      <th>x</th>\n",
       "      <th>y</th>\n",
       "      <th>owner</th>\n",
       "    </tr>\n",
       "  </thead>\n",
       "  <tbody>\n",
       "    <tr>\n",
       "      <th>2359299</th>\n",
       "      <td>siegetank</td>\n",
       "      <td>91</td>\n",
       "      <td>146</td>\n",
       "      <td>1</td>\n",
       "    </tr>\n",
       "    <tr>\n",
       "      <th>5767171</th>\n",
       "      <td>siegetank</td>\n",
       "      <td>84</td>\n",
       "      <td>148</td>\n",
       "      <td>1</td>\n",
       "    </tr>\n",
       "    <tr>\n",
       "      <th>8388611</th>\n",
       "      <td>marine</td>\n",
       "      <td>163</td>\n",
       "      <td>147</td>\n",
       "      <td>1</td>\n",
       "    </tr>\n",
       "    <tr>\n",
       "      <th>9961474</th>\n",
       "      <td>marine</td>\n",
       "      <td>153</td>\n",
       "      <td>152</td>\n",
       "      <td>1</td>\n",
       "    </tr>\n",
       "    <tr>\n",
       "      <th>11796482</th>\n",
       "      <td>scv</td>\n",
       "      <td>36</td>\n",
       "      <td>157</td>\n",
       "      <td>2</td>\n",
       "    </tr>\n",
       "  </tbody>\n",
       "</table>\n",
       "</div>"
      ],
      "text/plain": [
       "               name    x    y owner\n",
       "2359299   siegetank   91  146     1\n",
       "5767171   siegetank   84  148     1\n",
       "8388611      marine  163  147     1\n",
       "9961474      marine  153  152     1\n",
       "11796482        scv   36  157     2"
      ]
     },
     "execution_count": 158,
     "metadata": {},
     "output_type": "execute_result"
    }
   ],
   "source": [
    "def get_end_location_of_units(dict_of_dataframes):\n",
    "    units = dict_of_dataframes['units']\n",
    "    units = units[(units['died_at'].apply(lambda x: isinstance(x,type(None)))) \n",
    "                  & (units['race'] != 'Neutral')][['name','x','y','owner']]\n",
    "    return units\n",
    "\n",
    "example_unit_locations_end = get_end_location_of_units(example_parsed_game)\n",
    "example_unit_locations_end.head()"
   ]
  },
  {
   "cell_type": "markdown",
   "metadata": {},
   "source": [
    "Consider the location of units at the end of the first 16 games of our IEM replay corpus."
   ]
  },
  {
   "cell_type": "code",
   "execution_count": 157,
   "metadata": {
    "collapsed": true
   },
   "outputs": [],
   "source": [
    "import matplotlib.pyplot as plt\n",
    "\n",
    "def plot_game_end_states(games):\n",
    "    '''given a corpus of replay files it will plot \n",
    "    the end location of units for the first 16 games'''\n",
    "    games = games[0:min(16, len(games))]\n",
    "    games = [preliminary_processing(game) for game in games]\n",
    "    plt.figure(figsize=(20,10))\n",
    "    for i,game in enumerate(games):\n",
    "        plt.subplot(4,4, i+1)\n",
    "        units = get_end_location_of_units(game).sort_values(by='owner')\n",
    "        plt.scatter(units['x'], units['y'], c=units['owner'], alpha = 0.4)\n",
    "        plt.title('Game {}: '.format(str(i))+['Purple','Yellow'][game['outcome']['Win']-1] + ' Won')\n",
    "    plt.tight_layout(pad=1)\n",
    "    plt.show()"
   ]
  },
  {
   "cell_type": "code",
   "execution_count": 141,
   "metadata": {},
   "outputs": [
    {
     "data": {
      "image/png": "[encoded data removed]",
      "text/plain": [
       "<matplotlib.figure.Figure at 0x11ce67550>"
      ]
     },
     "metadata": {},
     "output_type": "display_data"
    }
   ],
   "source": [
    "plot_game_end_states(iem_games)"
   ]
  },
  {
   "cell_type": "markdown",
   "metadata": {},
   "source": [
    "Even without knowledge of the game or of the units represented it is sometimes possible to understand what is going on. It seems to us that in games 3,4,5,6 and 9 the winning player's army has formed a death ball that is overunning the oponent's base, and in games 2,6 and 8 the loosing player seems to be overwelmed by a two pronged attack from the winner.\n",
    "\n",
    "We seek to encode the significance of this relative spatial arragement of units as a 1-d set of features in such a way that can be agregated across multiple games."
   ]
  },
  {
   "cell_type": "markdown",
   "metadata": {},
   "source": [
    "### A love letter to DBSCAN\n",
    "We use some domain knowledge and DBSCAN's density based clustering to find \"areas of interest\" where player interaction (or lack thereof) is imminent. For each cluster we will look at the units each player has in the area and make some heuristic judgments as to the outcome of that situation.\n",
    "\n",
    "Specifially we will: \n",
    "1. look at the military might of each player's army in each region\n",
    "2. look at the economic value of each player's local infrastructure (buildings and workers)\n",
    "3. make a heuristic judgment of the 'risk' such infrastructure is under based on the diference of power between the player's local troups.\n",
    "\n",
    "We initialize the DBSCAN clusterer with\n",
    "    \n",
    "    eps = 10   and    min_samples = 5\n",
    "    \n",
    "these parameters are based on the range at which units can inflict damage\n",
    "\n",
    "- The terran marine has a range of 5\n",
    "- Tanks a range of between 7 and 13\n",
    "- Tempests have the longest range in the game at 15) \n",
    "\n",
    "and the minimal size of a cluster of buildings/units that we belive to be significant."
   ]
  },
  {
   "cell_type": "code",
   "execution_count": 251,
   "metadata": {
    "collapsed": true
   },
   "outputs": [],
   "source": [
    "from sklearn.cluster import DBSCAN\n",
    "\n",
    "unit_clusterer = DBSCAN(eps=10,min_samples=5)\n",
    "\n",
    "def plot_units_and_clusters(units, predicted_clusters, game_id = 6):\n",
    "    plt.figure(figsize=(20,10))\n",
    "    plt.subplot(2,2,1)\n",
    "    plt.scatter(runits['x'], runits['y'], c=runits['owner'], alpha = 0.4, s = 50)\n",
    "    plt.title('Game {}: End state'.format(game_id))\n",
    "\n",
    "    plt.subplot(2,2,2)\n",
    "    plt.scatter(runits['x'], runits['y'], c=predicted_clusters, alpha = 0.4, s = 50)\n",
    "    plt.title('Game {}: Clusters'.format(game_id))\n",
    "\n",
    "    plt.show()\n",
    "    "
   ]
  },
  {
   "cell_type": "markdown",
   "metadata": {},
   "source": [
    "We exemplify our analysis by referencing game 6 in our corpus.\n",
    "\n",
    "This is a Zerg (player 1 - purple) vs Protoss (player 2 - yellow) played on the Abysal Reef map."
   ]
  },
  {
   "cell_type": "code",
   "execution_count": 247,
   "metadata": {},
   "outputs": [
    {
     "data": {
      "image/png": "[encoded data removed]",
      "text/plain": [
       "<matplotlib.figure.Figure at 0x11c281c50>"
      ]
     },
     "metadata": {},
     "output_type": "display_data"
    }
   ],
   "source": [
    "example_units_game_6 = get_end_location_of_units(preliminary_processing(iem_games[6]))\n",
    "predicted_clusters = unit_clusterer.fit_predict(runits[['x','y']])\n",
    "\n",
    "plot_units_and_clusters(example_units_game_6,predicted_clusters,6)"
   ]
  },
  {
   "cell_type": "markdown",
   "metadata": {},
   "source": [
    "At this point we make use of the unit names to 'look up' additional information for each unit in the plot above. \n",
    "\n",
    "We to this end we reference the database of unit attributes (a jason) that sc2reader uses to parse the replay files. Some data munging is nessesary, but also straight forward.\n",
    "\n",
    "In the cells that follow we import the unit information, munge it into a series indexed by the unit names and a dataframe with 'name' feature."
   ]
  },
  {
   "cell_type": "code",
   "execution_count": 255,
   "metadata": {},
   "outputs": [
    {
     "data": {
      "text/html": [
       "<div>\n",
       "<style>\n",
       "    .dataframe thead tr:only-child th {\n",
       "        text-align: right;\n",
       "    }\n",
       "\n",
       "    .dataframe thead th {\n",
       "        text-align: left;\n",
       "    }\n",
       "\n",
       "    .dataframe tbody tr th {\n",
       "        vertical-align: top;\n",
       "    }\n",
       "</style>\n",
       "<table border=\"1\" class=\"dataframe\">\n",
       "  <thead>\n",
       "    <tr style=\"text-align: right;\">\n",
       "      <th></th>\n",
       "      <th>Protoss</th>\n",
       "      <th>Terran</th>\n",
       "      <th>Zerg</th>\n",
       "    </tr>\n",
       "  </thead>\n",
       "  <tbody>\n",
       "    <tr>\n",
       "      <th>archon</th>\n",
       "      <td>{'is_army': True, 'minerals': 175, 'vespene': ...</td>\n",
       "      <td>NaN</td>\n",
       "      <td>NaN</td>\n",
       "    </tr>\n",
       "    <tr>\n",
       "      <th>armory</th>\n",
       "      <td>NaN</td>\n",
       "      <td>{'minerals': 150, 'vespene': 100, 'supply': 0,...</td>\n",
       "      <td>NaN</td>\n",
       "    </tr>\n",
       "    <tr>\n",
       "      <th>assimilator</th>\n",
       "      <td>{'minerals': 75, 'vespene': 0, 'supply': 0, 'i...</td>\n",
       "      <td>NaN</td>\n",
       "      <td>NaN</td>\n",
       "    </tr>\n",
       "    <tr>\n",
       "      <th>baneling</th>\n",
       "      <td>NaN</td>\n",
       "      <td>NaN</td>\n",
       "      <td>{'is_army': True, 'minerals': 50, 'vespene': 2...</td>\n",
       "    </tr>\n",
       "    <tr>\n",
       "      <th>banelingburrowed</th>\n",
       "      <td>NaN</td>\n",
       "      <td>NaN</td>\n",
       "      <td>{'is_army': True, 'minerals': 50, 'vespene': 2...</td>\n",
       "    </tr>\n",
       "  </tbody>\n",
       "</table>\n",
       "</div>"
      ],
      "text/plain": [
       "                                                            Protoss  \\\n",
       "archon            {'is_army': True, 'minerals': 175, 'vespene': ...   \n",
       "armory                                                          NaN   \n",
       "assimilator       {'minerals': 75, 'vespene': 0, 'supply': 0, 'i...   \n",
       "baneling                                                        NaN   \n",
       "banelingburrowed                                                NaN   \n",
       "\n",
       "                                                             Terran  \\\n",
       "archon                                                          NaN   \n",
       "armory            {'minerals': 150, 'vespene': 100, 'supply': 0,...   \n",
       "assimilator                                                     NaN   \n",
       "baneling                                                        NaN   \n",
       "banelingburrowed                                                NaN   \n",
       "\n",
       "                                                               Zerg  \n",
       "archon                                                          NaN  \n",
       "armory                                                          NaN  \n",
       "assimilator                                                     NaN  \n",
       "baneling          {'is_army': True, 'minerals': 50, 'vespene': 2...  \n",
       "banelingburrowed  {'is_army': True, 'minerals': 50, 'vespene': 2...  "
      ]
     },
     "execution_count": 255,
     "metadata": {},
     "output_type": "execute_result"
    }
   ],
   "source": [
    "# Looking at the unit data info within sc2reader\n",
    "pd.read_json('/usr/local/lib/python3.6/site-packages/sc2reader/data/unit_info.json').head()"
   ]
  },
  {
   "cell_type": "code",
   "execution_count": 267,
   "metadata": {},
   "outputs": [
    {
     "data": {
      "text/plain": [
       "archon              {'is_army': True, 'minerals': 175, 'vespene': ...\n",
       "armory              {'minerals': 150, 'vespene': 100, 'supply': 0,...\n",
       "assimilator         {'minerals': 75, 'vespene': 0, 'supply': 0, 'i...\n",
       "baneling            {'is_army': True, 'minerals': 50, 'vespene': 2...\n",
       "banelingburrowed    {'is_army': True, 'minerals': 50, 'vespene': 2...\n",
       "dtype: object"
      ]
     },
     "execution_count": 267,
     "metadata": {},
     "output_type": "execute_result"
    }
   ],
   "source": [
    "# Munging unit info data into a series to facilitate key-based queries\n",
    "unit_info_from_json = pd.read_json('/usr/local/lib/python3.6/site-packages/sc2reader/data/unit_info.json')\\\n",
    "                   .apply(lambda x:x['Protoss'] if x['Protoss'] == x['Protoss'] \n",
    "                                 else x['Terran'] if x['Terran'] == x['Terran'] else x['Zerg'], axis=1)\n",
    "unit_info_from_json.head()"
   ]
  },
  {
   "cell_type": "code",
   "execution_count": 268,
   "metadata": {},
   "outputs": [
    {
     "data": {
      "text/html": [
       "<div>\n",
       "<style>\n",
       "    .dataframe thead tr:only-child th {\n",
       "        text-align: right;\n",
       "    }\n",
       "\n",
       "    .dataframe thead th {\n",
       "        text-align: left;\n",
       "    }\n",
       "\n",
       "    .dataframe tbody tr th {\n",
       "        vertical-align: top;\n",
       "    }\n",
       "</style>\n",
       "<table border=\"1\" class=\"dataframe\">\n",
       "  <thead>\n",
       "    <tr style=\"text-align: right;\">\n",
       "      <th></th>\n",
       "      <th>is_army</th>\n",
       "      <th>is_building</th>\n",
       "      <th>is_worker</th>\n",
       "      <th>minerals</th>\n",
       "      <th>name</th>\n",
       "      <th>supply</th>\n",
       "      <th>vespene</th>\n",
       "    </tr>\n",
       "  </thead>\n",
       "  <tbody>\n",
       "    <tr>\n",
       "      <th>0</th>\n",
       "      <td>True</td>\n",
       "      <td>False</td>\n",
       "      <td>False</td>\n",
       "      <td>175</td>\n",
       "      <td>archon</td>\n",
       "      <td>4.0</td>\n",
       "      <td>275</td>\n",
       "    </tr>\n",
       "    <tr>\n",
       "      <th>1</th>\n",
       "      <td>False</td>\n",
       "      <td>True</td>\n",
       "      <td>False</td>\n",
       "      <td>150</td>\n",
       "      <td>armory</td>\n",
       "      <td>0.0</td>\n",
       "      <td>100</td>\n",
       "    </tr>\n",
       "    <tr>\n",
       "      <th>2</th>\n",
       "      <td>False</td>\n",
       "      <td>True</td>\n",
       "      <td>False</td>\n",
       "      <td>75</td>\n",
       "      <td>assimilator</td>\n",
       "      <td>0.0</td>\n",
       "      <td>0</td>\n",
       "    </tr>\n",
       "    <tr>\n",
       "      <th>3</th>\n",
       "      <td>True</td>\n",
       "      <td>False</td>\n",
       "      <td>False</td>\n",
       "      <td>50</td>\n",
       "      <td>baneling</td>\n",
       "      <td>0.5</td>\n",
       "      <td>25</td>\n",
       "    </tr>\n",
       "    <tr>\n",
       "      <th>4</th>\n",
       "      <td>True</td>\n",
       "      <td>False</td>\n",
       "      <td>False</td>\n",
       "      <td>50</td>\n",
       "      <td>banelingburrowed</td>\n",
       "      <td>0.5</td>\n",
       "      <td>25</td>\n",
       "    </tr>\n",
       "  </tbody>\n",
       "</table>\n",
       "</div>"
      ],
      "text/plain": [
       "   is_army  is_building  is_worker  minerals              name  supply  \\\n",
       "0     True        False      False       175            archon     4.0   \n",
       "1    False         True      False       150            armory     0.0   \n",
       "2    False         True      False        75       assimilator     0.0   \n",
       "3     True        False      False        50          baneling     0.5   \n",
       "4     True        False      False        50  banelingburrowed     0.5   \n",
       "\n",
       "   vespene  \n",
       "0      275  \n",
       "1      100  \n",
       "2        0  \n",
       "3       25  \n",
       "4       25  "
      ]
     },
     "execution_count": 268,
     "metadata": {},
     "output_type": "execute_result"
    }
   ],
   "source": [
    "# Munging unit info data to a dataframe\n",
    "unit_lookup_table = pd.DataFrame([{**unit_info_from_json[key], **{'name':key}} \n",
    "                                  for key in unit_info_json.keys()]).fillna(False)\n",
    "\n",
    "unit_lookup_table.head()"
   ]
  },
  {
   "cell_type": "markdown",
   "metadata": {},
   "source": [
    "We can now perform a left merge on the unit name with our units at the end of game 6."
   ]
  },
  {
   "cell_type": "code",
   "execution_count": 277,
   "metadata": {},
   "outputs": [
    {
     "data": {
      "text/html": [
       "<div>\n",
       "<style>\n",
       "    .dataframe thead tr:only-child th {\n",
       "        text-align: right;\n",
       "    }\n",
       "\n",
       "    .dataframe thead th {\n",
       "        text-align: left;\n",
       "    }\n",
       "\n",
       "    .dataframe tbody tr th {\n",
       "        vertical-align: top;\n",
       "    }\n",
       "</style>\n",
       "<table border=\"1\" class=\"dataframe\">\n",
       "  <thead>\n",
       "    <tr style=\"text-align: right;\">\n",
       "      <th></th>\n",
       "      <th>name</th>\n",
       "      <th>x</th>\n",
       "      <th>y</th>\n",
       "      <th>owner</th>\n",
       "      <th>is_army</th>\n",
       "      <th>is_building</th>\n",
       "      <th>is_worker</th>\n",
       "      <th>minerals</th>\n",
       "      <th>supply</th>\n",
       "      <th>vespene</th>\n",
       "      <th>predicted_cluster</th>\n",
       "    </tr>\n",
       "  </thead>\n",
       "  <tbody>\n",
       "    <tr>\n",
       "      <th>0</th>\n",
       "      <td>drone</td>\n",
       "      <td>41</td>\n",
       "      <td>90</td>\n",
       "      <td>1</td>\n",
       "      <td>False</td>\n",
       "      <td>False</td>\n",
       "      <td>True</td>\n",
       "      <td>50</td>\n",
       "      <td>1.0</td>\n",
       "      <td>0</td>\n",
       "      <td>0</td>\n",
       "    </tr>\n",
       "    <tr>\n",
       "      <th>1</th>\n",
       "      <td>assimilator</td>\n",
       "      <td>132</td>\n",
       "      <td>42</td>\n",
       "      <td>2</td>\n",
       "      <td>False</td>\n",
       "      <td>True</td>\n",
       "      <td>False</td>\n",
       "      <td>75</td>\n",
       "      <td>0.0</td>\n",
       "      <td>0</td>\n",
       "      <td>1</td>\n",
       "    </tr>\n",
       "    <tr>\n",
       "      <th>2</th>\n",
       "      <td>fleetbeacon</td>\n",
       "      <td>152</td>\n",
       "      <td>18</td>\n",
       "      <td>2</td>\n",
       "      <td>False</td>\n",
       "      <td>True</td>\n",
       "      <td>False</td>\n",
       "      <td>300</td>\n",
       "      <td>0.0</td>\n",
       "      <td>200</td>\n",
       "      <td>2</td>\n",
       "    </tr>\n",
       "    <tr>\n",
       "      <th>3</th>\n",
       "      <td>creeptumorburrowed</td>\n",
       "      <td>101</td>\n",
       "      <td>104</td>\n",
       "      <td>1</td>\n",
       "      <td>False</td>\n",
       "      <td>True</td>\n",
       "      <td>False</td>\n",
       "      <td>0</td>\n",
       "      <td>0.0</td>\n",
       "      <td>0</td>\n",
       "      <td>5</td>\n",
       "    </tr>\n",
       "    <tr>\n",
       "      <th>4</th>\n",
       "      <td>hightemplar</td>\n",
       "      <td>160</td>\n",
       "      <td>51</td>\n",
       "      <td>2</td>\n",
       "      <td>True</td>\n",
       "      <td>False</td>\n",
       "      <td>False</td>\n",
       "      <td>50</td>\n",
       "      <td>2.0</td>\n",
       "      <td>150</td>\n",
       "      <td>2</td>\n",
       "    </tr>\n",
       "  </tbody>\n",
       "</table>\n",
       "</div>"
      ],
      "text/plain": [
       "                 name    x    y owner  is_army  is_building  is_worker  \\\n",
       "0               drone   41   90     1    False        False       True   \n",
       "1         assimilator  132   42     2    False         True      False   \n",
       "2         fleetbeacon  152   18     2    False         True      False   \n",
       "3  creeptumorburrowed  101  104     1    False         True      False   \n",
       "4         hightemplar  160   51     2     True        False      False   \n",
       "\n",
       "   minerals  supply  vespene  predicted_cluster  \n",
       "0        50     1.0        0                  0  \n",
       "1        75     0.0        0                  1  \n",
       "2       300     0.0      200                  2  \n",
       "3         0     0.0        0                  5  \n",
       "4        50     2.0      150                  2  "
      ]
     },
     "execution_count": 277,
     "metadata": {},
     "output_type": "execute_result"
    }
   ],
   "source": [
    "unit_details = pd.merge(example_units_game_6, unit_lookup_table, on='name', how='left')\n",
    "unit_details['predicted_cluster'] = predicted_clusters\n",
    "unit_details.head()"
   ]
  },
  {
   "cell_type": "markdown",
   "metadata": {},
   "source": [
    "We used Tableau to visualize this data. If the embeded Tableau dashboard doesn't show up on github the reader can find it [here](https://dub01.online.tableau.com/t/mkleinbortatgmailcom/views/Sc2plots-h/Dashboardhorizontal?:embed=y&:loadOrderID=21&:display_spinner=no&:showAppBanner=false&:showShareOptions=true&:display_count=no&:showVizHome=no)."
   ]
  },
  {
   "cell_type": "code",
   "execution_count": 724,
   "metadata": {},
   "outputs": [
    {
     "data": {
      "text/html": [
       "\n",
       "<script type='text/javascript' src='https://dub01.online.tableau.com/javascripts/api/viz_v1.js'>\n",
       "</script><div class='tableauPlaceholder' style='width: 1084px; height: 396px;'>\n",
       "<object class='tableauViz' width='1084' height='396' style='display:none;'>\n",
       "<param name='host_url' value='https%3A%2F%2Fdub01.online.tableau.com%2F' />\n",
       "<param name='site_root' value='&#47;t&#47;mkleinbortatgmailcom' />\n",
       "<param name='name' value='Sc2plots-h&#47;Dashboardhorizontal' />\n",
       "<param name='tabs' value='no' /><param name='toolbar' value='yes' />\n",
       "<param name='showAppBanner' value='false' />\n",
       "<param name='showShareOptions' value='true' />\n",
       "</object></div>"
      ],
      "text/plain": [
       "<IPython.core.display.HTML object>"
      ]
     },
     "execution_count": 724,
     "metadata": {},
     "output_type": "execute_result"
    }
   ],
   "source": [
    "HTML(\"\"\"\n",
    "<script type='text/javascript' src='https://dub01.online.tableau.com/javascripts/api/viz_v1.js'>\n",
    "</script><div class='tableauPlaceholder' style='width: 1084px; height: 396px;'>\n",
    "<object class='tableauViz' width='1084' height='396' style='display:none;'>\n",
    "<param name='host_url' value='https%3A%2F%2Fdub01.online.tableau.com%2F' />\n",
    "<param name='site_root' value='&#47;t&#47;mkleinbortatgmailcom' />\n",
    "<param name='name' value='Sc2plots-h&#47;Dashboardhorizontal' />\n",
    "<param name='tabs' value='no' /><param name='toolbar' value='yes' />\n",
    "<param name='showAppBanner' value='false' />\n",
    "<param name='showShareOptions' value='true' />\n",
    "</object></div>\"\"\")"
   ]
  },
  {
   "cell_type": "markdown",
   "metadata": {},
   "source": [
    "### Converting clusters into features\n",
    "\n",
    "Due to our intention of representing the end state of a game as a 1-d array, we must convert the spatial unit information to this form. It would also be desirable that the length of this array be game independent to facilitate the comparison accross games.\n",
    "\n",
    "Our approach is to evaluate 3 metrics for each cluster (for each player) - and to agregate these metrics across all clusters. The 3 metrics under consideration are local military power, local military value, and local economic value.\n",
    "\n",
    "Assessing military power in an accurate way is virtually impossible, but we will use 'supply' cost as the meassurement of a unit's military power. This is probably as good a measure as we can have; Blizzard must ensure that if both players reach the maximum army size of 200 supply then the game is still as balanced as possible. \n",
    "\n",
    "However, in this metric 400 zerglings at 1/2 supply each should be considered roughly as powerful as 33 battlecruisers at 6 supply each. The fact that battlecruisers are a flying unit and zerglings have no way of inflicting any damage on them is utterly beyond the resolution provided by this crude metric.\n",
    "\n",
    "We meassure the value of a group of units simply the weighted sum of the mineral and vespene cost of all its components. Note that vespene is much harder to obtain than minerals, with mineral collection rates usually being more than double those of vespene. Hence we use\n",
    "\n",
    "    value = Mineral cost + 2*Vespene cost\n",
    "    "
   ]
  },
  {
   "cell_type": "code",
   "execution_count": 416,
   "metadata": {
    "collapsed": true
   },
   "outputs": [],
   "source": [
    "def assess_cluster(units_in_cluster):\n",
    "    \"\"\"This function takes the units in a cluster, and returns a 2x3 dataframe \n",
    "    that contains the local military power of each player, the army value, \n",
    "    and the economic value of the non-army units in the cluster\"\"\"\n",
    "    \n",
    "    # We tally the units of each type within the cluster grouped by owner\n",
    "    x = pd.DataFrame(units_in_cluster.groupby('owner')['name'].value_counts())\n",
    "    \n",
    "    # We querry the information of relevance for each unit type\n",
    "    x['supply'] = [unit_info_from_json[name[1]].get('supply',0) for name in x.index]\n",
    "    x['is_army'] = [unit_info_from_json[name[1]].get('is_army', False) for name in x.index]\n",
    "    x['is_worker'] = [unit_info_from_json[name[1]].get('is_worker', False) for name in x.index]\n",
    "    x['minerals'] = [unit_info_from_json[name[1]].get('minerals', 0) for name in x.index]\n",
    "    x['vespene'] = [unit_info_from_json[name[1]].get('vespene', 0) for name in x.index]\n",
    "    \n",
    "    # Assessing military power\n",
    "    x['military_power'] = x.apply(lambda x: x['is_army']*x['supply']*x['name'], axis = 1)\n",
    "    \n",
    "    # Assessing local army value \n",
    "    x['military_value'] = x.apply(lambda x: ((x['minerals']/50)+(x['vespene']/25))*x['name'] if x['is_army'] else 0, axis = 1)\n",
    "\n",
    "    # We meassure economic value as simply the weighted sum of the mineral and vespene cost of all non-army units in the area.\n",
    "    x['economy_value'] = x.apply(lambda x: ((x['minerals']/50)+(x['vespene']/25))*x['name'] if not x['is_army'] else 0, axis = 1)\n",
    "                                 \n",
    "    x = x.groupby('owner')[['military_power','military_value','economy_value']].sum()\n",
    "    x.index.name = None\n",
    "    \n",
    "    # In case a cluster contains only units for one player\n",
    "    # we guarantee that the result is of the correct form.\n",
    "    for i in {1,2} - set(x.index):\n",
    "        x = pd.concat([x.T,pd.Series({'military_power':0,'military_value':0,'economy_value':0}, name=i)], axis=1).T\n",
    "    return x"
   ]
  },
  {
   "cell_type": "code",
   "execution_count": 417,
   "metadata": {},
   "outputs": [
    {
     "data": {
      "text/html": [
       "<div>\n",
       "<style>\n",
       "    .dataframe thead tr:only-child th {\n",
       "        text-align: right;\n",
       "    }\n",
       "\n",
       "    .dataframe thead th {\n",
       "        text-align: left;\n",
       "    }\n",
       "\n",
       "    .dataframe tbody tr th {\n",
       "        vertical-align: top;\n",
       "    }\n",
       "</style>\n",
       "<table border=\"1\" class=\"dataframe\">\n",
       "  <thead>\n",
       "    <tr style=\"text-align: right;\">\n",
       "      <th></th>\n",
       "      <th>military_power</th>\n",
       "      <th>military_value</th>\n",
       "      <th>economy_value</th>\n",
       "    </tr>\n",
       "  </thead>\n",
       "  <tbody>\n",
       "    <tr>\n",
       "      <th>1</th>\n",
       "      <td>5.5</td>\n",
       "      <td>28.5</td>\n",
       "      <td>46.0</td>\n",
       "    </tr>\n",
       "    <tr>\n",
       "      <th>2</th>\n",
       "      <td>47.0</td>\n",
       "      <td>124.5</td>\n",
       "      <td>0.0</td>\n",
       "    </tr>\n",
       "  </tbody>\n",
       "</table>\n",
       "</div>"
      ],
      "text/plain": [
       "   military_power  military_value  economy_value\n",
       "1             5.5            28.5           46.0\n",
       "2            47.0           124.5            0.0"
      ]
     },
     "execution_count": 417,
     "metadata": {},
     "output_type": "execute_result"
    }
   ],
   "source": [
    "units_in_cluster_0 = example_units_game_6[predicted_clusters==0]\n",
    "assess_cluster(units_in_cluster_0)"
   ]
  },
  {
   "cell_type": "markdown",
   "metadata": {},
   "source": [
    "We follow the followig heuristic reasoning to assess the probable outcome of a cluster.\n",
    "\n",
    "1. Folowing Lanchester's laws for calculating the relative strengths of a predator–prey pair, the damage done to each side is proportional to the difference in the square of their numbers. \n",
    ">With firearms engaging each other directly with aimed shooting from a distance, they can attack multiple targets and can receive fire from multiple directions. The rate of attrition now depends only on the number of weapons shooting. Lanchester determined that the power of such a force is proportional not to the number of units it has, but to the square of the number of units. This is known as Lanchester's square law.\n",
    "\n",
    "2. If the expected millitary casualties of one side are greater than their total millitary precence in the region then we deem that side's local economy to be at extreme risk, and the other team's to be safe. Doing the maths reveals that this is the case precisely when the square of one army's might is at least double that of the other team's might squared.\n",
    "\n",
    "$$\\sqrt{B^2 - A^2} \\geq A \\Rightarrow B^2 \\geq 2(A^2) \\Rightarrow \\frac{B^2}{A^2} \\geq 2 $$\n",
    "\n",
    "\n",
    "4. Else, if the expected millitary casualties of one side are more than half their total millitary precence in the region then we deem that side's local economy to be at high risk, and the other team's to be at low risk.\n",
    "\n",
    "$$\\sqrt{B^2 - A^2} \\geq \\frac{1}{2}A \\Rightarrow B^2 \\geq \\frac{5}{4}(A^2) \\Rightarrow \\frac{B^2}{A^2} \\geq 1.25 $$\n",
    "\n",
    "\n",
    "5. If neither side expects casualties greater than half their local army, then both team's local economies are at mid risk."
   ]
  },
  {
   "cell_type": "code",
   "execution_count": 515,
   "metadata": {
    "collapsed": true
   },
   "outputs": [],
   "source": [
    "import numpy as np\n",
    "\n",
    "def classify_cluster_outcome(units_in_cluster):\n",
    "    x = assess_cluster(units_in_cluster)\n",
    "    x['military_power^2'] = x['military_power'].apply(lambda x:x**2)\n",
    "    \n",
    "    # We calculate the power ratio as the ratio of the square of each army's local might.\n",
    "    # We add a insignificant amount of power to both armies to avoid division by 0.\n",
    "    power_ratio = (x['military_power^2'][1]+0.001)/(x['military_power^2'][2]+0.001)\n",
    "    \n",
    "    # Follwing the heuristic reasoning explained previously\n",
    "    if power_ratio < 1/2:\n",
    "        risk = {'1C_extreme_risk':x['economy_value'][1],\n",
    "                '2C_safe':x['economy_value'][2]}\n",
    "    elif power_ratio < 1/1.25:\n",
    "        risk = {'1C_high_risk':x['economy_value'][1],\n",
    "                '2C_low_risk':x['economy_value'][2]}\n",
    "    elif power_ratio < 1.25:\n",
    "        risk = {'1C_mid_risk':x['economy_value'][1],\n",
    "                '2C_mid_risk':x['economy_value'][2]}\n",
    "    elif power_ratio < 2:\n",
    "        risk = {'1C_low_risk':x['economy_value'][1],\n",
    "                '2C_high_risk':x['economy_value'][2]}\n",
    "    else:\n",
    "        risk = {'1C_safe':x['economy_value'][1],\n",
    "                '2C_extreme_risk':x['economy_value'][2]}\n",
    "        \n",
    "    # We use our previous reasoning to predict the army value lost be each side:\n",
    "    risk['1C_probable_casualties'] = x['military_value'][1]*0.5*(1 - np.log2(min(max(power_ratio,0.5),2)))\n",
    "    risk['2C_probable_casualties'] = x['military_value'][2]*0.5*(1 + np.log2(min(max(power_ratio,0.5),2)))\n",
    "        \n",
    "    # We also return each military's supply count in the region\n",
    "    # This will be used to create other features at a later stage\n",
    "    risk['1C_military_power'] = x['military_power'][1]\n",
    "    risk['2C_military_power'] = x['military_power'][2]\n",
    "    \n",
    "    return risk"
   ]
  },
  {
   "cell_type": "code",
   "execution_count": 516,
   "metadata": {},
   "outputs": [
    {
     "data": {
      "text/plain": [
       "{'1C_extreme_risk': 46.0,\n",
       " '1C_military_power': 5.5,\n",
       " '1C_probable_casualties': 28.5,\n",
       " '2C_military_power': 47.0,\n",
       " '2C_probable_casualties': 0.0,\n",
       " '2C_safe': 0.0}"
      ]
     },
     "execution_count": 516,
     "metadata": {},
     "output_type": "execute_result"
    }
   ],
   "source": [
    "classify_cluster_outcome(units_in_cluster_0)"
   ]
  },
  {
   "cell_type": "markdown",
   "metadata": {},
   "source": [
    "Lastly, we can agregate these features across all clusters."
   ]
  },
  {
   "cell_type": "code",
   "execution_count": 637,
   "metadata": {},
   "outputs": [
    {
     "data": {
      "text/plain": [
       "1C_extreme_risk            96.0\n",
       "1C_mid_risk                 2.5\n",
       "1C_military_power          40.5\n",
       "1C_probable_casualties     70.5\n",
       "1C_safe                    44.0\n",
       "2C_extreme_risk             0.0\n",
       "2C_mid_risk                10.0\n",
       "2C_military_power          95.0\n",
       "2C_probable_casualties     17.5\n",
       "2C_safe                   295.0\n",
       "dtype: float64"
      ]
     },
     "execution_count": 637,
     "metadata": {},
     "output_type": "execute_result"
    }
   ],
   "source": [
    "def cluster_analysis(units, predicted_clusters):\n",
    "    return pd.DataFrame([classify_cluster_outcome(units[predicted_clusters==j]) \n",
    "                    for j in list(set(predicted_clusters))]).sum()\n",
    "\n",
    "cluster_analysis(example_units_game_6, predicted_clusters)"
   ]
  },
  {
   "cell_type": "markdown",
   "metadata": {},
   "source": [
    "We gather the steps we follwed to extract useful features through clustering into one function."
   ]
  },
  {
   "cell_type": "code",
   "execution_count": 520,
   "metadata": {
    "collapsed": true
   },
   "outputs": [],
   "source": [
    "def game_risk_analysis(dict_of_dataframes):\n",
    "    \"\"\"Input: a preliminarely processed game. Output: Features obtained through clustering\"\"\"\n",
    "    unit_clusterer = DBSCAN(eps=10,min_samples=5)\n",
    "    units = get_end_location_of_units(dict_of_dataframes)\n",
    "    predicted_clusters = unit_clusterer.fit_predict(units[['x','y']])\n",
    "    return cluster_analysis(units, predicted_clusters)"
   ]
  },
  {
   "cell_type": "markdown",
   "metadata": {},
   "source": [
    "### Preserving relevant metadata\n",
    "\n",
    "We wish to keep some attributes from the metadata of each game:\n",
    "\n",
    "    'date', 'release','filename', 'frames', 'map_name' and 'time_zone'\n",
    "    '1_name', '2_name', '1_play_race','2_play_race', '1_handicap', '2_handicap'\n",
    "\n",
    "Not all of these features are pertinent to the project at hand, but it may be interesting to revisit this data at a later date."
   ]
  },
  {
   "cell_type": "code",
   "execution_count": 553,
   "metadata": {},
   "outputs": [
    {
     "data": {
      "text/plain": [
       "1_handicap                                                   100\n",
       "1_name                                                INnoVation\n",
       "1_play_race                                               Terran\n",
       "2_handicap                                                   100\n",
       "2_name                                                     Ryung\n",
       "2_play_race                                               Terran\n",
       "date                                         2017-03-04 11:33:31\n",
       "filename       ./../../../sc2games/IEM XI - World Championshi...\n",
       "frames                                                     17624\n",
       "map_name                                 Cactus Valley LE (Void)\n",
       "release                                             3.10.1.49957\n",
       "time_zone                                                      1\n",
       "dtype: object"
      ]
     },
     "execution_count": 553,
     "metadata": {},
     "output_type": "execute_result"
    }
   ],
   "source": [
    "def preserve_context(dict_of_dataframes):\n",
    "    info_part1 = {key:dict_of_dataframes['context'][key] \n",
    "              for key in ['date','release','filename','frames','map_name','time_zone']}\n",
    "    \n",
    "    info_part2 = [{'{}_'.format(i+1)+key:dict_of_dataframes['context']['players'][i][key] \n",
    "                  for key in ['name', 'play_race','handicap']} for i in [0,1]]\n",
    "    \n",
    "    return pd.Series({**info_part1, **{**info_part2[0],**info_part2[1]}})\n",
    "\n",
    "# Example\n",
    "preserve_context(example_parsed_game)"
   ]
  },
  {
   "cell_type": "markdown",
   "metadata": {},
   "source": [
    "## Agregating our features\n",
    "\n",
    "We are now ready to itterate through the games in our corpus to get a dataframe where each record represents the state of the game when it ended.\n",
    "\n",
    "First let us recall the steps:\n",
    "\n",
    "    -> Load Pre-procesed game\n",
    "    \n",
    "        -> Verify that the game is a 1v1 game.\n",
    "        \n",
    "        -> Use preliminary_processing() give the data a more tractable structure\n",
    "           specifically we obtain data relating to units, player stats, \n",
    "           game context, unit upgrades and the game's outcome.\n",
    "                \n",
    "            -> Use get_stats_end() to get the \n",
    "               stats features at the end of the game.\n",
    "               \n",
    "            -> Use get_upgrades_end() to get the \n",
    "               upgrades each player had at the end of the game.\n",
    "               \n",
    "            -> Use get_unit_tally_end() to get the tally of units\n",
    "               of each type that players had when the game ended.\n",
    "               \n",
    "            -> Use game_risk_analysis() to get the features developed \n",
    "               through the use of clustering and Lanchester's square law.\n",
    "               \n",
    "            -> Use preserve_context() to fetch the metadata we may wish to \n",
    "               return to at a later date.\n",
    "               \n",
    "            -> Remember to record the outcome data of the game as a feature.\n",
    "             \n",
    "            "
   ]
  },
  {
   "cell_type": "code",
   "execution_count": 609,
   "metadata": {
    "collapsed": true
   },
   "outputs": [],
   "source": [
    "def get_final_game_state(game):\n",
    "    \n",
    "    if len(game['context']['players']) != 2:\n",
    "        return None \n",
    "    \n",
    "    game = preliminary_processing(game)\n",
    "    \n",
    "    stats_features = get_stats_end(game)\n",
    "    upgrade_features = get_upgrades_end(game)\n",
    "    unit_tally_features = get_unit_tally_end(game)\n",
    "    risk_features = game_risk_analysis(game)\n",
    "    context_data = preserve_context(game)\n",
    "    outcome = pd.Series(game['outcome'])\n",
    "    \n",
    "    return pd.concat([stats_features, upgrade_features, unit_tally_features,risk_features,context_data,outcome])"
   ]
  },
  {
   "cell_type": "code",
   "execution_count": 605,
   "metadata": {},
   "outputs": [
    {
     "name": "stdout",
     "output_type": "stream",
     "text": [
      "146 ms ± 2.48 ms per loop (mean ± std. dev. of 7 runs, 1 loop each)\n"
     ]
    }
   ],
   "source": [
    "%%timeit\n",
    "get_final_game_state(iem_games[6])"
   ]
  },
  {
   "cell_type": "markdown",
   "metadata": {},
   "source": [
    "As a passing remark, note that each game takes roughly ~150ms of processing to go from loading a pre-processed game to a series representation of the end state of the game. This may be relatively slow, but still acceptable, especially considering that the sc2reader takes close to 600ms to parse each game into a python object."
   ]
  },
  {
   "cell_type": "markdown",
   "metadata": {},
   "source": [
    "##### Converting our corpus of 422 games to a dataframe\n",
    "\n",
    "First let us do a quick check for fringe cases:"
   ]
  },
  {
   "cell_type": "code",
   "execution_count": 612,
   "metadata": {},
   "outputs": [
    {
     "name": "stdout",
     "output_type": "stream",
     "text": [
      "incorrect number of players at game 183\n",
      "incorrect number of players at game 226\n"
     ]
    }
   ],
   "source": [
    "for i, game in enumerate(iem_games):\n",
    "    try:\n",
    "        success = get_final_game_state(game)\n",
    "    except:\n",
    "        print('Unspecified error at game {}'.format(i))\n",
    "        \n",
    "    if success is None: \n",
    "        print('Incorrect number of players at game {}'.format(i))"
   ]
  },
  {
   "cell_type": "markdown",
   "metadata": {},
   "source": [
    "This revealed two games that fall outside the scope of our analysis. \n",
    "\n",
    "In fact one can verify that indeed these games were not '1v1' matches. We say this because in both games the unit data had all units belonging to player 1, and the list of players contained only one entry.\n",
    "\n",
    "We suspect this is a data quality issue, probably connected with some technical dificulty during the tournament these replays come from. Game 183 lasted only 3.5 seconds and game 226 is incorrecly labled \"Damrud Vs Bly\" in its file name, with the only player being LiquidTLO.\n",
    "\n",
    "The other 420 games seem to be bahaving appropiately."
   ]
  },
  {
   "cell_type": "code",
   "execution_count": 627,
   "metadata": {
    "collapsed": true
   },
   "outputs": [],
   "source": [
    "end_states = [get_final_game_state(game) for game in iem_games]"
   ]
  },
  {
   "cell_type": "code",
   "execution_count": 630,
   "metadata": {
    "collapsed": true
   },
   "outputs": [],
   "source": [
    "tabular_data = pd.DataFrame([end_state for end_state in end_states if not end_state is None])"
   ]
  },
  {
   "cell_type": "code",
   "execution_count": 631,
   "metadata": {},
   "outputs": [
    {
     "data": {
      "text/html": [
       "<div>\n",
       "<style>\n",
       "    .dataframe thead tr:only-child th {\n",
       "        text-align: right;\n",
       "    }\n",
       "\n",
       "    .dataframe thead th {\n",
       "        text-align: left;\n",
       "    }\n",
       "\n",
       "    .dataframe tbody tr th {\n",
       "        vertical-align: top;\n",
       "    }\n",
       "</style>\n",
       "<table border=\"1\" class=\"dataframe\">\n",
       "  <thead>\n",
       "    <tr style=\"text-align: right;\">\n",
       "      <th></th>\n",
       "      <th>1C_extreme_risk</th>\n",
       "      <th>1C_high_risk</th>\n",
       "      <th>1C_low_risk</th>\n",
       "      <th>1C_mid_risk</th>\n",
       "      <th>1C_military_power</th>\n",
       "      <th>1C_probable_casualties</th>\n",
       "      <th>1C_safe</th>\n",
       "      <th>1P_archon</th>\n",
       "      <th>1P_assimilator</th>\n",
       "      <th>1P_carrier</th>\n",
       "      <th>...</th>\n",
       "      <th>2_name</th>\n",
       "      <th>2_play_race</th>\n",
       "      <th>Loss</th>\n",
       "      <th>Win</th>\n",
       "      <th>date</th>\n",
       "      <th>filename</th>\n",
       "      <th>frames</th>\n",
       "      <th>map_name</th>\n",
       "      <th>release</th>\n",
       "      <th>time_zone</th>\n",
       "    </tr>\n",
       "  </thead>\n",
       "  <tbody>\n",
       "    <tr>\n",
       "      <th>0</th>\n",
       "      <td>0.0</td>\n",
       "      <td>NaN</td>\n",
       "      <td>NaN</td>\n",
       "      <td>15.5</td>\n",
       "      <td>77.0</td>\n",
       "      <td>6.000000</td>\n",
       "      <td>215.5</td>\n",
       "      <td>NaN</td>\n",
       "      <td>NaN</td>\n",
       "      <td>NaN</td>\n",
       "      <td>...</td>\n",
       "      <td>Ryung</td>\n",
       "      <td>Terran</td>\n",
       "      <td>2</td>\n",
       "      <td>1</td>\n",
       "      <td>2017-03-04 11:33:31</td>\n",
       "      <td>./../../../sc2games/IEM XI - World Championshi...</td>\n",
       "      <td>17624</td>\n",
       "      <td>Cactus Valley LE (Void)</td>\n",
       "      <td>3.10.1.49957</td>\n",
       "      <td>1.0</td>\n",
       "    </tr>\n",
       "    <tr>\n",
       "      <th>1</th>\n",
       "      <td>0.0</td>\n",
       "      <td>NaN</td>\n",
       "      <td>NaN</td>\n",
       "      <td>0.0</td>\n",
       "      <td>2.0</td>\n",
       "      <td>0.000000</td>\n",
       "      <td>43.0</td>\n",
       "      <td>NaN</td>\n",
       "      <td>NaN</td>\n",
       "      <td>NaN</td>\n",
       "      <td>...</td>\n",
       "      <td>INnoVation</td>\n",
       "      <td>Terran</td>\n",
       "      <td>1</td>\n",
       "      <td>2</td>\n",
       "      <td>2017-03-04 11:00:36</td>\n",
       "      <td>./../../../sc2games/IEM XI - World Championshi...</td>\n",
       "      <td>4524</td>\n",
       "      <td>Honorgrounds LE</td>\n",
       "      <td>3.10.1.49957</td>\n",
       "      <td>1.0</td>\n",
       "    </tr>\n",
       "    <tr>\n",
       "      <th>2</th>\n",
       "      <td>0.0</td>\n",
       "      <td>0.0</td>\n",
       "      <td>NaN</td>\n",
       "      <td>0.0</td>\n",
       "      <td>106.0</td>\n",
       "      <td>8.782957</td>\n",
       "      <td>231.0</td>\n",
       "      <td>NaN</td>\n",
       "      <td>NaN</td>\n",
       "      <td>NaN</td>\n",
       "      <td>...</td>\n",
       "      <td>Ryung</td>\n",
       "      <td>Terran</td>\n",
       "      <td>2</td>\n",
       "      <td>1</td>\n",
       "      <td>2017-03-04 11:14:57</td>\n",
       "      <td>./../../../sc2games/IEM XI - World Championshi...</td>\n",
       "      <td>16710</td>\n",
       "      <td>Proxima Station LE</td>\n",
       "      <td>3.10.1.49957</td>\n",
       "      <td>1.0</td>\n",
       "    </tr>\n",
       "    <tr>\n",
       "      <th>3</th>\n",
       "      <td>NaN</td>\n",
       "      <td>NaN</td>\n",
       "      <td>NaN</td>\n",
       "      <td>NaN</td>\n",
       "      <td>79.5</td>\n",
       "      <td>0.000000</td>\n",
       "      <td>96.5</td>\n",
       "      <td>NaN</td>\n",
       "      <td>NaN</td>\n",
       "      <td>NaN</td>\n",
       "      <td>...</td>\n",
       "      <td>Solar</td>\n",
       "      <td>Zerg</td>\n",
       "      <td>2</td>\n",
       "      <td>1</td>\n",
       "      <td>2017-03-04 13:53:31</td>\n",
       "      <td>./../../../sc2games/IEM XI - World Championshi...</td>\n",
       "      <td>13225</td>\n",
       "      <td>Abyssal Reef LE</td>\n",
       "      <td>3.10.1.49957</td>\n",
       "      <td>1.0</td>\n",
       "    </tr>\n",
       "    <tr>\n",
       "      <th>4</th>\n",
       "      <td>18.0</td>\n",
       "      <td>NaN</td>\n",
       "      <td>NaN</td>\n",
       "      <td>0.0</td>\n",
       "      <td>11.0</td>\n",
       "      <td>18.500000</td>\n",
       "      <td>97.0</td>\n",
       "      <td>NaN</td>\n",
       "      <td>NaN</td>\n",
       "      <td>NaN</td>\n",
       "      <td>...</td>\n",
       "      <td>Dark</td>\n",
       "      <td>Zerg</td>\n",
       "      <td>1</td>\n",
       "      <td>2</td>\n",
       "      <td>2017-03-04 13:24:34</td>\n",
       "      <td>./../../../sc2games/IEM XI - World Championshi...</td>\n",
       "      <td>10627</td>\n",
       "      <td>Newkirk Precinct TE (Void)</td>\n",
       "      <td>3.10.1.49957</td>\n",
       "      <td>1.0</td>\n",
       "    </tr>\n",
       "  </tbody>\n",
       "</table>\n",
       "<p>5 rows × 371 columns</p>\n",
       "</div>"
      ],
      "text/plain": [
       "   1C_extreme_risk  1C_high_risk  1C_low_risk  1C_mid_risk  1C_military_power  \\\n",
       "0              0.0           NaN          NaN         15.5               77.0   \n",
       "1              0.0           NaN          NaN          0.0                2.0   \n",
       "2              0.0           0.0          NaN          0.0              106.0   \n",
       "3              NaN           NaN          NaN          NaN               79.5   \n",
       "4             18.0           NaN          NaN          0.0               11.0   \n",
       "\n",
       "   1C_probable_casualties  1C_safe  1P_archon  1P_assimilator  1P_carrier  \\\n",
       "0                6.000000    215.5        NaN             NaN         NaN   \n",
       "1                0.000000     43.0        NaN             NaN         NaN   \n",
       "2                8.782957    231.0        NaN             NaN         NaN   \n",
       "3                0.000000     96.5        NaN             NaN         NaN   \n",
       "4               18.500000     97.0        NaN             NaN         NaN   \n",
       "\n",
       "     ...          2_name  2_play_race  Loss  Win                date  \\\n",
       "0    ...           Ryung       Terran     2    1 2017-03-04 11:33:31   \n",
       "1    ...      INnoVation       Terran     1    2 2017-03-04 11:00:36   \n",
       "2    ...           Ryung       Terran     2    1 2017-03-04 11:14:57   \n",
       "3    ...           Solar         Zerg     2    1 2017-03-04 13:53:31   \n",
       "4    ...            Dark         Zerg     1    2 2017-03-04 13:24:34   \n",
       "\n",
       "                                            filename  frames  \\\n",
       "0  ./../../../sc2games/IEM XI - World Championshi...   17624   \n",
       "1  ./../../../sc2games/IEM XI - World Championshi...    4524   \n",
       "2  ./../../../sc2games/IEM XI - World Championshi...   16710   \n",
       "3  ./../../../sc2games/IEM XI - World Championshi...   13225   \n",
       "4  ./../../../sc2games/IEM XI - World Championshi...   10627   \n",
       "\n",
       "                     map_name       release  time_zone  \n",
       "0     Cactus Valley LE (Void)  3.10.1.49957        1.0  \n",
       "1             Honorgrounds LE  3.10.1.49957        1.0  \n",
       "2          Proxima Station LE  3.10.1.49957        1.0  \n",
       "3             Abyssal Reef LE  3.10.1.49957        1.0  \n",
       "4  Newkirk Precinct TE (Void)  3.10.1.49957        1.0  \n",
       "\n",
       "[5 rows x 371 columns]"
      ]
     },
     "execution_count": 631,
     "metadata": {},
     "output_type": "execute_result"
    }
   ],
   "source": [
    "tabular_data.head()"
   ]
  },
  {
   "cell_type": "markdown",
   "metadata": {},
   "source": [
    "we can observe several missing values in our data frame - this was intended. For example in game 0 player 1 had no cluster at high risk (hence the NaN value) but this traslates to the amount of economy at high risk being 0. Similarly player 1 has a missing value for the number to Archons he had had at the end of the game, but really this is meant to encode that he had no Archons (as should be since they are commanding a Terran army). At this stage we can impute a 0 for every missing value in our dataframe."
   ]
  },
  {
   "cell_type": "code",
   "execution_count": 641,
   "metadata": {
    "collapsed": true
   },
   "outputs": [],
   "source": [
    "tabular_data = tabular_data.fillna(0)\n",
    "tabular_data.to_csv('./Resources/tabular_data_of_iem_games.csv')"
   ]
  },
  {
   "cell_type": "markdown",
   "metadata": {},
   "source": [
    "## SECTION 3: Secondary EDA\n",
    "\n",
    "---\n",
    "I will return to this section to do some PCA and other work if time permits\n",
    "---\n",
    "\n",
    "Throught our feature extraction we kept the following convention when naming our features.\n",
    "\n",
    "    The fist character corresponds to the player this feature relates to\n",
    "        (features that relate to both players equaly start with an alphanumeric character)\n",
    "       \n",
    "    The second letter encodes the source of this feature.\n",
    "        S - stats data\n",
    "        U - upgrade data\n",
    "        C - clustering data\n",
    "        T,Z,P - unit tally data for Terran, Zerg and Protoss units\n",
    "        \n",
    "This allows us to easily select certain families of features. For example:"
   ]
  },
  {
   "cell_type": "code",
   "execution_count": 656,
   "metadata": {},
   "outputs": [
    {
     "data": {
      "text/html": [
       "<div>\n",
       "<style>\n",
       "    .dataframe thead tr:only-child th {\n",
       "        text-align: right;\n",
       "    }\n",
       "\n",
       "    .dataframe thead th {\n",
       "        text-align: left;\n",
       "    }\n",
       "\n",
       "    .dataframe tbody tr th {\n",
       "        vertical-align: top;\n",
       "    }\n",
       "</style>\n",
       "<table border=\"1\" class=\"dataframe\">\n",
       "  <thead>\n",
       "    <tr style=\"text-align: right;\">\n",
       "      <th></th>\n",
       "      <th>1T_armory</th>\n",
       "      <th>1T_banshee</th>\n",
       "      <th>1T_barracks</th>\n",
       "      <th>1T_barracksflying</th>\n",
       "      <th>1T_battlehellion</th>\n",
       "      <th>1T_bunker</th>\n",
       "      <th>1T_commandcenter</th>\n",
       "      <th>1T_commandcenterflying</th>\n",
       "      <th>1T_engineeringbay</th>\n",
       "      <th>1T_factory</th>\n",
       "      <th>...</th>\n",
       "      <th>2T_siegetank</th>\n",
       "      <th>2T_siegetanksieged</th>\n",
       "      <th>2T_starport</th>\n",
       "      <th>2T_supplydepot</th>\n",
       "      <th>2T_supplydepotlowered</th>\n",
       "      <th>2T_thor</th>\n",
       "      <th>2T_viking</th>\n",
       "      <th>2T_vikingassault</th>\n",
       "      <th>2T_widowmine</th>\n",
       "      <th>2T_widowmineburrowed</th>\n",
       "    </tr>\n",
       "  </thead>\n",
       "  <tbody>\n",
       "    <tr>\n",
       "      <th>0</th>\n",
       "      <td>1.0</td>\n",
       "      <td>0.0</td>\n",
       "      <td>7.0</td>\n",
       "      <td>0.0</td>\n",
       "      <td>0.0</td>\n",
       "      <td>0.0</td>\n",
       "      <td>1.0</td>\n",
       "      <td>0.0</td>\n",
       "      <td>2.0</td>\n",
       "      <td>2.0</td>\n",
       "      <td>...</td>\n",
       "      <td>1.0</td>\n",
       "      <td>0.0</td>\n",
       "      <td>1.0</td>\n",
       "      <td>5.0</td>\n",
       "      <td>10.0</td>\n",
       "      <td>0.0</td>\n",
       "      <td>0.0</td>\n",
       "      <td>0.0</td>\n",
       "      <td>0.0</td>\n",
       "      <td>0.0</td>\n",
       "    </tr>\n",
       "    <tr>\n",
       "      <th>1</th>\n",
       "      <td>0.0</td>\n",
       "      <td>0.0</td>\n",
       "      <td>1.0</td>\n",
       "      <td>0.0</td>\n",
       "      <td>0.0</td>\n",
       "      <td>0.0</td>\n",
       "      <td>0.0</td>\n",
       "      <td>0.0</td>\n",
       "      <td>0.0</td>\n",
       "      <td>1.0</td>\n",
       "      <td>...</td>\n",
       "      <td>0.0</td>\n",
       "      <td>0.0</td>\n",
       "      <td>0.0</td>\n",
       "      <td>3.0</td>\n",
       "      <td>0.0</td>\n",
       "      <td>0.0</td>\n",
       "      <td>0.0</td>\n",
       "      <td>0.0</td>\n",
       "      <td>0.0</td>\n",
       "      <td>0.0</td>\n",
       "    </tr>\n",
       "    <tr>\n",
       "      <th>2</th>\n",
       "      <td>1.0</td>\n",
       "      <td>0.0</td>\n",
       "      <td>7.0</td>\n",
       "      <td>0.0</td>\n",
       "      <td>0.0</td>\n",
       "      <td>0.0</td>\n",
       "      <td>0.0</td>\n",
       "      <td>0.0</td>\n",
       "      <td>2.0</td>\n",
       "      <td>2.0</td>\n",
       "      <td>...</td>\n",
       "      <td>0.0</td>\n",
       "      <td>3.0</td>\n",
       "      <td>0.0</td>\n",
       "      <td>6.0</td>\n",
       "      <td>10.0</td>\n",
       "      <td>0.0</td>\n",
       "      <td>3.0</td>\n",
       "      <td>0.0</td>\n",
       "      <td>0.0</td>\n",
       "      <td>0.0</td>\n",
       "    </tr>\n",
       "    <tr>\n",
       "      <th>3</th>\n",
       "      <td>0.0</td>\n",
       "      <td>0.0</td>\n",
       "      <td>0.0</td>\n",
       "      <td>0.0</td>\n",
       "      <td>0.0</td>\n",
       "      <td>0.0</td>\n",
       "      <td>0.0</td>\n",
       "      <td>0.0</td>\n",
       "      <td>0.0</td>\n",
       "      <td>0.0</td>\n",
       "      <td>...</td>\n",
       "      <td>0.0</td>\n",
       "      <td>0.0</td>\n",
       "      <td>0.0</td>\n",
       "      <td>0.0</td>\n",
       "      <td>0.0</td>\n",
       "      <td>0.0</td>\n",
       "      <td>0.0</td>\n",
       "      <td>0.0</td>\n",
       "      <td>0.0</td>\n",
       "      <td>0.0</td>\n",
       "    </tr>\n",
       "    <tr>\n",
       "      <th>4</th>\n",
       "      <td>0.0</td>\n",
       "      <td>0.0</td>\n",
       "      <td>0.0</td>\n",
       "      <td>0.0</td>\n",
       "      <td>0.0</td>\n",
       "      <td>0.0</td>\n",
       "      <td>0.0</td>\n",
       "      <td>0.0</td>\n",
       "      <td>0.0</td>\n",
       "      <td>0.0</td>\n",
       "      <td>...</td>\n",
       "      <td>0.0</td>\n",
       "      <td>0.0</td>\n",
       "      <td>0.0</td>\n",
       "      <td>0.0</td>\n",
       "      <td>0.0</td>\n",
       "      <td>0.0</td>\n",
       "      <td>0.0</td>\n",
       "      <td>0.0</td>\n",
       "      <td>0.0</td>\n",
       "      <td>0.0</td>\n",
       "    </tr>\n",
       "  </tbody>\n",
       "</table>\n",
       "<p>5 rows × 75 columns</p>\n",
       "</div>"
      ],
      "text/plain": [
       "   1T_armory  1T_banshee  1T_barracks  1T_barracksflying  1T_battlehellion  \\\n",
       "0        1.0         0.0          7.0                0.0               0.0   \n",
       "1        0.0         0.0          1.0                0.0               0.0   \n",
       "2        1.0         0.0          7.0                0.0               0.0   \n",
       "3        0.0         0.0          0.0                0.0               0.0   \n",
       "4        0.0         0.0          0.0                0.0               0.0   \n",
       "\n",
       "   1T_bunker  1T_commandcenter  1T_commandcenterflying  1T_engineeringbay  \\\n",
       "0        0.0               1.0                     0.0                2.0   \n",
       "1        0.0               0.0                     0.0                0.0   \n",
       "2        0.0               0.0                     0.0                2.0   \n",
       "3        0.0               0.0                     0.0                0.0   \n",
       "4        0.0               0.0                     0.0                0.0   \n",
       "\n",
       "   1T_factory          ...           2T_siegetank  2T_siegetanksieged  \\\n",
       "0         2.0          ...                    1.0                 0.0   \n",
       "1         1.0          ...                    0.0                 0.0   \n",
       "2         2.0          ...                    0.0                 3.0   \n",
       "3         0.0          ...                    0.0                 0.0   \n",
       "4         0.0          ...                    0.0                 0.0   \n",
       "\n",
       "   2T_starport  2T_supplydepot  2T_supplydepotlowered  2T_thor  2T_viking  \\\n",
       "0          1.0             5.0                   10.0      0.0        0.0   \n",
       "1          0.0             3.0                    0.0      0.0        0.0   \n",
       "2          0.0             6.0                   10.0      0.0        3.0   \n",
       "3          0.0             0.0                    0.0      0.0        0.0   \n",
       "4          0.0             0.0                    0.0      0.0        0.0   \n",
       "\n",
       "   2T_vikingassault  2T_widowmine  2T_widowmineburrowed  \n",
       "0               0.0           0.0                   0.0  \n",
       "1               0.0           0.0                   0.0  \n",
       "2               0.0           0.0                   0.0  \n",
       "3               0.0           0.0                   0.0  \n",
       "4               0.0           0.0                   0.0  \n",
       "\n",
       "[5 rows x 75 columns]"
      ]
     },
     "execution_count": 656,
     "metadata": {},
     "output_type": "execute_result"
    }
   ],
   "source": [
    "tallies_of_terran_units = tabular_data[[col for col in tabular_data.columns if col[1] == 'T']]\n",
    "tallies_of_terran_units.head()"
   ]
  },
  {
   "cell_type": "markdown",
   "metadata": {},
   "source": [
    "It is, for example, interesting to look at the features from the clustering alalysis."
   ]
  },
  {
   "cell_type": "code",
   "execution_count": 737,
   "metadata": {},
   "outputs": [
    {
     "data": {
      "image/png": "[encoded data removed]",
      "text/plain": [
       "<matplotlib.figure.Figure at 0x1253a8cf8>"
      ]
     },
     "metadata": {
      "image/png": {
       "height": 687,
       "width": 699
      }
     },
     "output_type": "display_data"
    }
   ],
   "source": [
    "sns.clustermap(X[[col for col in X.columns if col[1] in ['C']]].corr(), center=0)\n",
    "plt.show()"
   ]
  },
  {
   "cell_type": "markdown",
   "metadata": {},
   "source": [
    "## SECTION 4: Modeling"
   ]
  },
  {
   "cell_type": "code",
   "execution_count": 711,
   "metadata": {
    "collapsed": true
   },
   "outputs": [],
   "source": [
    "X = pd.get_dummies(tabular_data[[col for col in tabular_data \n",
    "                                 if col[0] in ['1','2']]].drop(['1_name', '2_name'], axis = 1))"
   ]
  },
  {
   "cell_type": "code",
   "execution_count": 671,
   "metadata": {},
   "outputs": [
    {
     "data": {
      "text/html": [
       "<div>\n",
       "<style>\n",
       "    .dataframe thead tr:only-child th {\n",
       "        text-align: right;\n",
       "    }\n",
       "\n",
       "    .dataframe thead th {\n",
       "        text-align: left;\n",
       "    }\n",
       "\n",
       "    .dataframe tbody tr th {\n",
       "        vertical-align: top;\n",
       "    }\n",
       "</style>\n",
       "<table border=\"1\" class=\"dataframe\">\n",
       "  <thead>\n",
       "    <tr style=\"text-align: right;\">\n",
       "      <th></th>\n",
       "      <th>1C_extreme_risk</th>\n",
       "      <th>1C_high_risk</th>\n",
       "      <th>1C_low_risk</th>\n",
       "      <th>1C_mid_risk</th>\n",
       "      <th>1C_military_power</th>\n",
       "      <th>1C_probable_casualties</th>\n",
       "      <th>1C_safe</th>\n",
       "      <th>1P_archon</th>\n",
       "      <th>1P_assimilator</th>\n",
       "      <th>1P_carrier</th>\n",
       "      <th>...</th>\n",
       "      <th>2Z_viper</th>\n",
       "      <th>2Z_zergling</th>\n",
       "      <th>2Z_zerglingburrowed</th>\n",
       "      <th>2_handicap</th>\n",
       "      <th>1_play_race_Protoss</th>\n",
       "      <th>1_play_race_Terran</th>\n",
       "      <th>1_play_race_Zerg</th>\n",
       "      <th>2_play_race_Protoss</th>\n",
       "      <th>2_play_race_Terran</th>\n",
       "      <th>2_play_race_Zerg</th>\n",
       "    </tr>\n",
       "  </thead>\n",
       "  <tbody>\n",
       "    <tr>\n",
       "      <th>0</th>\n",
       "      <td>0.0</td>\n",
       "      <td>0.0</td>\n",
       "      <td>0.0</td>\n",
       "      <td>15.5</td>\n",
       "      <td>77.0</td>\n",
       "      <td>6.000000</td>\n",
       "      <td>215.5</td>\n",
       "      <td>0.0</td>\n",
       "      <td>0.0</td>\n",
       "      <td>0.0</td>\n",
       "      <td>...</td>\n",
       "      <td>0.0</td>\n",
       "      <td>0.0</td>\n",
       "      <td>0.0</td>\n",
       "      <td>100</td>\n",
       "      <td>0</td>\n",
       "      <td>1</td>\n",
       "      <td>0</td>\n",
       "      <td>0</td>\n",
       "      <td>1</td>\n",
       "      <td>0</td>\n",
       "    </tr>\n",
       "    <tr>\n",
       "      <th>1</th>\n",
       "      <td>0.0</td>\n",
       "      <td>0.0</td>\n",
       "      <td>0.0</td>\n",
       "      <td>0.0</td>\n",
       "      <td>2.0</td>\n",
       "      <td>0.000000</td>\n",
       "      <td>43.0</td>\n",
       "      <td>0.0</td>\n",
       "      <td>0.0</td>\n",
       "      <td>0.0</td>\n",
       "      <td>...</td>\n",
       "      <td>0.0</td>\n",
       "      <td>0.0</td>\n",
       "      <td>0.0</td>\n",
       "      <td>100</td>\n",
       "      <td>0</td>\n",
       "      <td>1</td>\n",
       "      <td>0</td>\n",
       "      <td>0</td>\n",
       "      <td>1</td>\n",
       "      <td>0</td>\n",
       "    </tr>\n",
       "    <tr>\n",
       "      <th>2</th>\n",
       "      <td>0.0</td>\n",
       "      <td>0.0</td>\n",
       "      <td>0.0</td>\n",
       "      <td>0.0</td>\n",
       "      <td>106.0</td>\n",
       "      <td>8.782957</td>\n",
       "      <td>231.0</td>\n",
       "      <td>0.0</td>\n",
       "      <td>0.0</td>\n",
       "      <td>0.0</td>\n",
       "      <td>...</td>\n",
       "      <td>0.0</td>\n",
       "      <td>0.0</td>\n",
       "      <td>0.0</td>\n",
       "      <td>100</td>\n",
       "      <td>0</td>\n",
       "      <td>1</td>\n",
       "      <td>0</td>\n",
       "      <td>0</td>\n",
       "      <td>1</td>\n",
       "      <td>0</td>\n",
       "    </tr>\n",
       "    <tr>\n",
       "      <th>3</th>\n",
       "      <td>0.0</td>\n",
       "      <td>0.0</td>\n",
       "      <td>0.0</td>\n",
       "      <td>0.0</td>\n",
       "      <td>79.5</td>\n",
       "      <td>0.000000</td>\n",
       "      <td>96.5</td>\n",
       "      <td>0.0</td>\n",
       "      <td>0.0</td>\n",
       "      <td>0.0</td>\n",
       "      <td>...</td>\n",
       "      <td>0.0</td>\n",
       "      <td>0.0</td>\n",
       "      <td>0.0</td>\n",
       "      <td>100</td>\n",
       "      <td>0</td>\n",
       "      <td>0</td>\n",
       "      <td>1</td>\n",
       "      <td>0</td>\n",
       "      <td>0</td>\n",
       "      <td>1</td>\n",
       "    </tr>\n",
       "    <tr>\n",
       "      <th>4</th>\n",
       "      <td>18.0</td>\n",
       "      <td>0.0</td>\n",
       "      <td>0.0</td>\n",
       "      <td>0.0</td>\n",
       "      <td>11.0</td>\n",
       "      <td>18.500000</td>\n",
       "      <td>97.0</td>\n",
       "      <td>0.0</td>\n",
       "      <td>0.0</td>\n",
       "      <td>0.0</td>\n",
       "      <td>...</td>\n",
       "      <td>0.0</td>\n",
       "      <td>0.0</td>\n",
       "      <td>0.0</td>\n",
       "      <td>100</td>\n",
       "      <td>0</td>\n",
       "      <td>0</td>\n",
       "      <td>1</td>\n",
       "      <td>0</td>\n",
       "      <td>0</td>\n",
       "      <td>1</td>\n",
       "    </tr>\n",
       "  </tbody>\n",
       "</table>\n",
       "<p>5 rows × 365 columns</p>\n",
       "</div>"
      ],
      "text/plain": [
       "   1C_extreme_risk  1C_high_risk  1C_low_risk  1C_mid_risk  1C_military_power  \\\n",
       "0              0.0           0.0          0.0         15.5               77.0   \n",
       "1              0.0           0.0          0.0          0.0                2.0   \n",
       "2              0.0           0.0          0.0          0.0              106.0   \n",
       "3              0.0           0.0          0.0          0.0               79.5   \n",
       "4             18.0           0.0          0.0          0.0               11.0   \n",
       "\n",
       "   1C_probable_casualties  1C_safe  1P_archon  1P_assimilator  1P_carrier  \\\n",
       "0                6.000000    215.5        0.0             0.0         0.0   \n",
       "1                0.000000     43.0        0.0             0.0         0.0   \n",
       "2                8.782957    231.0        0.0             0.0         0.0   \n",
       "3                0.000000     96.5        0.0             0.0         0.0   \n",
       "4               18.500000     97.0        0.0             0.0         0.0   \n",
       "\n",
       "         ...         2Z_viper  2Z_zergling  2Z_zerglingburrowed  2_handicap  \\\n",
       "0        ...              0.0          0.0                  0.0         100   \n",
       "1        ...              0.0          0.0                  0.0         100   \n",
       "2        ...              0.0          0.0                  0.0         100   \n",
       "3        ...              0.0          0.0                  0.0         100   \n",
       "4        ...              0.0          0.0                  0.0         100   \n",
       "\n",
       "   1_play_race_Protoss  1_play_race_Terran  1_play_race_Zerg  \\\n",
       "0                    0                   1                 0   \n",
       "1                    0                   1                 0   \n",
       "2                    0                   1                 0   \n",
       "3                    0                   0                 1   \n",
       "4                    0                   0                 1   \n",
       "\n",
       "   2_play_race_Protoss  2_play_race_Terran  2_play_race_Zerg  \n",
       "0                    0                   1                 0  \n",
       "1                    0                   1                 0  \n",
       "2                    0                   1                 0  \n",
       "3                    0                   0                 1  \n",
       "4                    0                   0                 1  \n",
       "\n",
       "[5 rows x 365 columns]"
      ]
     },
     "execution_count": 671,
     "metadata": {},
     "output_type": "execute_result"
    }
   ],
   "source": [
    "X.head()"
   ]
  },
  {
   "cell_type": "code",
   "execution_count": 672,
   "metadata": {
    "collapsed": true
   },
   "outputs": [],
   "source": [
    "y = tabular_data['Win']"
   ]
  },
  {
   "cell_type": "code",
   "execution_count": 682,
   "metadata": {
    "collapsed": true
   },
   "outputs": [],
   "source": [
    "def assess_model(model,X = risk_df, y = player_1_outcome):\n",
    "    return accuracy_score(y,cross_val_predict(model,X,y,cv=10))"
   ]
  },
  {
   "cell_type": "code",
   "execution_count": 732,
   "metadata": {},
   "outputs": [
    {
     "data": {
      "text/plain": [
       "fit_time                             0.247218\n",
       "score_time                          0.0117596\n",
       "test_score                           0.957195\n",
       "train_score                                 1\n",
       "model          default RandomForestClassifier\n",
       "dtype: object"
      ]
     },
     "execution_count": 732,
     "metadata": {},
     "output_type": "execute_result"
    }
   ],
   "source": [
    "from sklearn.ensemble import RandomForestClassifier\n",
    "from sklearn.model_selection import cross_validate\n",
    "\n",
    "rfc = RandomForestClassifier(n_estimators=200, random_state=1)\n",
    "\n",
    "rfc_report = pd.DataFrame(cross_validate(rfc, X,y, cv = 5)).mean()\n",
    "rfc_report['model'] = 'default RandomForestClassifier'\n",
    "rfc_report"
   ]
  },
  {
   "cell_type": "code",
   "execution_count": 733,
   "metadata": {},
   "outputs": [
    {
     "data": {
      "text/plain": [
       "fit_time                        0.0124252\n",
       "score_time                    0.000656843\n",
       "test_score                       0.971397\n",
       "train_score                             1\n",
       "model          default LogisticRegression\n",
       "dtype: object"
      ]
     },
     "execution_count": 733,
     "metadata": {},
     "output_type": "execute_result"
    }
   ],
   "source": [
    "lr = LogisticRegression()\n",
    "lr_report = pd.DataFrame(cross_validate(lr, X,y, cv = 5)).mean()\n",
    "lr_report['model'] = 'default LogisticRegression'\n",
    "lr_report"
   ]
  },
  {
   "cell_type": "code",
   "execution_count": 734,
   "metadata": {},
   "outputs": [
    {
     "data": {
      "text/plain": [
       "fit_time         0.0467844\n",
       "score_time      0.00176144\n",
       "test_score        0.968959\n",
       "train_score              1\n",
       "model          default SVC\n",
       "dtype: object"
      ]
     },
     "execution_count": 734,
     "metadata": {},
     "output_type": "execute_result"
    }
   ],
   "source": [
    "svm_linear = SVC(kernel='linear')\n",
    "svm_linear_report = pd.DataFrame(cross_validate(svm_linear, X,y, cv = 5)).mean()\n",
    "svm_linear_report['model'] = 'default SVC'\n",
    "svm_linear_report"
   ]
  },
  {
   "cell_type": "code",
   "execution_count": 735,
   "metadata": {},
   "outputs": [
    {
     "data": {
      "text/plain": [
       "fit_time                  0.00280776\n",
       "score_time               0.000633621\n",
       "test_score                  0.916884\n",
       "train_score                 0.919648\n",
       "model          default MultinomialNB\n",
       "dtype: object"
      ]
     },
     "execution_count": 735,
     "metadata": {},
     "output_type": "execute_result"
    }
   ],
   "source": [
    "from sklearn.naive_bayes import MultinomialNB\n",
    "mnnb = MultinomialNB()\n",
    "mnnb_report = pd.DataFrame(cross_validate(mnnb, X,y, cv = 5)).mean()\n",
    "mnnb_report['model'] = 'default MultinomialNB'\n",
    "mnnb_report"
   ]
  },
  {
   "cell_type": "code",
   "execution_count": 736,
   "metadata": {},
   "outputs": [
    {
     "data": {
      "text/html": [
       "<div>\n",
       "<style>\n",
       "    .dataframe thead tr:only-child th {\n",
       "        text-align: right;\n",
       "    }\n",
       "\n",
       "    .dataframe thead th {\n",
       "        text-align: left;\n",
       "    }\n",
       "\n",
       "    .dataframe tbody tr th {\n",
       "        vertical-align: top;\n",
       "    }\n",
       "</style>\n",
       "<table border=\"1\" class=\"dataframe\">\n",
       "  <thead>\n",
       "    <tr style=\"text-align: right;\">\n",
       "      <th></th>\n",
       "      <th>fit_time</th>\n",
       "      <th>score_time</th>\n",
       "      <th>test_score</th>\n",
       "      <th>train_score</th>\n",
       "      <th>model</th>\n",
       "    </tr>\n",
       "  </thead>\n",
       "  <tbody>\n",
       "    <tr>\n",
       "      <th>0</th>\n",
       "      <td>0.002808</td>\n",
       "      <td>0.000634</td>\n",
       "      <td>0.916884</td>\n",
       "      <td>0.919648</td>\n",
       "      <td>default MultinomialNB</td>\n",
       "    </tr>\n",
       "    <tr>\n",
       "      <th>1</th>\n",
       "      <td>0.012425</td>\n",
       "      <td>0.000657</td>\n",
       "      <td>0.971397</td>\n",
       "      <td>1.000000</td>\n",
       "      <td>default LogisticRegression</td>\n",
       "    </tr>\n",
       "    <tr>\n",
       "      <th>2</th>\n",
       "      <td>0.046784</td>\n",
       "      <td>0.001761</td>\n",
       "      <td>0.968959</td>\n",
       "      <td>1.000000</td>\n",
       "      <td>default SVC</td>\n",
       "    </tr>\n",
       "    <tr>\n",
       "      <th>3</th>\n",
       "      <td>0.247218</td>\n",
       "      <td>0.011760</td>\n",
       "      <td>0.957195</td>\n",
       "      <td>1.000000</td>\n",
       "      <td>default RandomForestClassifier</td>\n",
       "    </tr>\n",
       "  </tbody>\n",
       "</table>\n",
       "</div>"
      ],
      "text/plain": [
       "   fit_time  score_time  test_score  train_score  \\\n",
       "0  0.002808    0.000634    0.916884     0.919648   \n",
       "1  0.012425    0.000657    0.971397     1.000000   \n",
       "2  0.046784    0.001761    0.968959     1.000000   \n",
       "3  0.247218    0.011760    0.957195     1.000000   \n",
       "\n",
       "                            model  \n",
       "0           default MultinomialNB  \n",
       "1      default LogisticRegression  \n",
       "2                     default SVC  \n",
       "3  default RandomForestClassifier  "
      ]
     },
     "execution_count": 736,
     "metadata": {},
     "output_type": "execute_result"
    }
   ],
   "source": [
    "pd.DataFrame([mnnb_report, lr_report, svm_linear_report, rfc_report])"
   ]
  },
  {
   "cell_type": "markdown",
   "metadata": {},
   "source": [
    "## more work is comming..."
   ]
  },
  {
   "cell_type": "code",
   "execution_count": null,
   "metadata": {
    "collapsed": true
   },
   "outputs": [],
   "source": []
  }
 ],
 "metadata": {
  "kernelspec": {
   "display_name": "Python 3",
   "language": "python",
   "name": "python3"
  },
  "language_info": {
   "codemirror_mode": {
    "name": "ipython",
    "version": 3
   },
   "file_extension": ".py",
   "mimetype": "text/x-python",
   "name": "python",
   "nbconvert_exporter": "python",
   "pygments_lexer": "ipython3",
   "version": "3.6.2"
  }
 },
 "nbformat": 4,
 "nbformat_minor": 2
}
